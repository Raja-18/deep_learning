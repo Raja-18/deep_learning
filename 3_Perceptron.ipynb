{
  "nbformat": 4,
  "nbformat_minor": 0,
  "metadata": {
    "colab": {
      "name": "3_Perceptron.ipynb",
      "provenance": []
    },
    "kernelspec": {
      "name": "python3",
      "display_name": "Python 3"
    }
  },
  "cells": [
    {
      "cell_type": "markdown",
      "metadata": {
        "id": "UtfwJEt7_zZD",
        "colab_type": "text"
      },
      "source": [
        "# Perceptron class"
      ]
    },
    {
      "cell_type": "markdown",
      "metadata": {
        "id": "fAU9FNx9ACZk",
        "colab_type": "text"
      },
      "source": [
        "$y=1, \\mbox{if} \\sum_i w_i x_1 >=b$\n",
        "\n",
        "$y=0, \\mbox{otherwise} $"
      ]
    },
    {
      "cell_type": "code",
      "metadata": {
        "id": "jWy0bzsVCgW_",
        "colab_type": "code",
        "colab": {}
      },
      "source": [
        "import sklearn.datasets          # for datasets \n",
        "import numpy as np\n",
        "import pandas as pd\n",
        "import matplotlib.pyplot as plt\n",
        "from sklearn.metrics import accuracy_score    #for computing accuracy"
      ],
      "execution_count": 0,
      "outputs": []
    },
    {
      "cell_type": "code",
      "metadata": {
        "id": "NlL2u4O-CxIf",
        "colab_type": "code",
        "colab": {}
      },
      "source": [
        "breast_cancer = sklearn.datasets.load_breast_cancer()          #loading a paticular dataset from sklearn"
      ],
      "execution_count": 0,
      "outputs": []
    },
    {
      "cell_type": "code",
      "metadata": {
        "id": "KeglhUITC102",
        "colab_type": "code",
        "colab": {}
      },
      "source": [
        "x=breast_cancer.data         #it is the input (x)\n",
        "y=breast_cancer.target       #it is the true output (y)"
      ],
      "execution_count": 0,
      "outputs": []
    },
    {
      "cell_type": "code",
      "metadata": {
        "id": "SBavurQ-DCsJ",
        "colab_type": "code",
        "colab": {}
      },
      "source": [
        "data=pd.DataFrame(breast_cancer.data, columns=breast_cancer.feature_names)          # converting the dataframe into pandas formate"
      ],
      "execution_count": 0,
      "outputs": []
    },
    {
      "cell_type": "code",
      "metadata": {
        "id": "qg1Oo4P8DKR-",
        "colab_type": "code",
        "colab": {}
      },
      "source": [
        "data['class']=breast_cancer.target                              # creates the column for true_output (y)"
      ],
      "execution_count": 0,
      "outputs": []
    },
    {
      "cell_type": "code",
      "metadata": {
        "id": "9sDIL7prDLjQ",
        "colab_type": "code",
        "colab": {}
      },
      "source": [
        "from sklearn.model_selection import train_test_split"
      ],
      "execution_count": 0,
      "outputs": []
    },
    {
      "cell_type": "code",
      "metadata": {
        "id": "BeG1k6rsDVcA",
        "colab_type": "code",
        "colab": {}
      },
      "source": [
        "x=data.drop('class',axis=1)       # droping the true output (y) from the data and taking the input (x)\n",
        "y=data['class']                   # taking the true output(y)"
      ],
      "execution_count": 0,
      "outputs": []
    },
    {
      "cell_type": "code",
      "metadata": {
        "id": "BMgQ5xgsDgO_",
        "colab_type": "code",
        "colab": {}
      },
      "source": [
        "x_train, x_test, y_train, y_test = train_test_split(x,y, test_size=0.1, stratify=y,random_state=3) "
      ],
      "execution_count": 0,
      "outputs": []
    },
    {
      "cell_type": "code",
      "metadata": {
        "id": "b3rENKHeEm32",
        "colab_type": "code",
        "colab": {}
      },
      "source": [
        "x_train=x_train.values\n",
        "x_test=x_test.values"
      ],
      "execution_count": 0,
      "outputs": []
    },
    {
      "cell_type": "code",
      "metadata": {
        "id": "2J51A0ZWFKnt",
        "colab_type": "code",
        "colab": {}
      },
      "source": [
        "y_train=y_train.values\n",
        "y_test=y_test.values"
      ],
      "execution_count": 0,
      "outputs": []
    },
    {
      "cell_type": "code",
      "metadata": {
        "id": "_37KLzX4tI6B",
        "colab_type": "code",
        "colab": {}
      },
      "source": [
        "class Perceptron:\n",
        "  def __init__(self):                                      #here we initialise model parameters                                      \n",
        "    self.w=None\n",
        "    self.b=None\n",
        "\n",
        "  def model(self,x):\n",
        "    return 1 if(np.dot(self.w,x) >= self.b) else 0         #model of the perceptron\n",
        "\n",
        "  def predict(self,x):                                     #algorithm of perceptron\n",
        "    y=[]\n",
        "    for i in x:\n",
        "      result=self.model(i)\n",
        "      y.append(result)\n",
        "    return np.array(y)\n",
        "\n",
        "  def fit(self,x,y,epochs=1,lr=1):  #epoch and lr(learning rate) is a 'hyper parameters' where w and b are 'parameters' of the model {hyper parameters are indirectly used for learning where parameters are directly used for learning}\n",
        "    self.w=np.ones(x.shape[1])                # initialising w with ones\n",
        "    self.b=0                                  # initialising b with 0\n",
        "    accuracy={}                          # to save accuracy values at each epochs\n",
        "    max_accuracy=0                       # to find maximum accuracy after all epochs are done\n",
        "    wt_matrix=[]                 # to save w values at each epochs       \n",
        "    for k in range(epochs):  # we should run the model multiple times to get the maximum accuracy. (because w is updating each and every time)\n",
        "      for i,j in zip(x,y):\n",
        "        y_pred=self.model(i)             # finding model output y \n",
        "        if j==1 and y_pred==0:\n",
        "          self.w=self.w+ lr * i          # to make the changes slow at each learning we use lr(learning rate) { to smooth the graph or decreasing the oscillation }\n",
        "          self.b=self.b- lr * 1          # since w0x0=(-b) we use -ve sign instead of +ve \n",
        "        elif j==0 and y_pred==1:\n",
        "          self.w=self.w- lr * i          # to make the changes slow at each learning we use lr(learning rate) { to smooth the graph or decreasing the oscillation }\n",
        "          self.b=self.b+ lr * 1          # since w0x0=(-b) we use -ve sign instead of +ve\n",
        "      wt_matrix.append(self.w)   # appending w to wt_matrix at each epochs\n",
        "\n",
        "      accuracy[k] = accuracy_score(self.predict(x),y)  # saving all accuracy after each epochs to a dictionary\n",
        "      #finding the maximum accuracy \n",
        "      if(accuracy[k]>max_accuracy): \n",
        "        max_accuracy=accuracy[k]\n",
        "        checkptw=self.w    # when ever there is increase in accuracy we store w an b \n",
        "        checkptb=self.b\n",
        "    self.w=checkptw  # value of w and b of highest tarining accuracy\n",
        "    self.b=checkptb\n",
        "\n",
        "    # prints maximum accuracy after all epochs are done\n",
        "    print(max_accuracy)\n",
        "    # ploting the accuracy at each epochs\n",
        "    plt.plot(list(accuracy.values())) # as it is a dictionary we convert its values into list\n",
        "    plt.ylim([0,1])\n",
        "    plt.show()\n",
        "\n",
        "    return np.array(wt_matrix) #returning for making animation to see how the weights are developed at each epochs"
      ],
      "execution_count": 0,
      "outputs": []
    },
    {
      "cell_type": "code",
      "metadata": {
        "id": "DfypfAaECad2",
        "colab_type": "code",
        "colab": {}
      },
      "source": [
        "perceptron=Perceptron()      # creating object for the class Perceptron()"
      ],
      "execution_count": 0,
      "outputs": []
    },
    {
      "cell_type": "code",
      "metadata": {
        "id": "3so2fi8hE2Yn",
        "colab_type": "code",
        "outputId": "a3a6a663-5d68-4713-c386-507b5e0e0564",
        "colab": {
          "base_uri": "https://localhost:8080/",
          "height": 286
        }
      },
      "source": [
        "                                               # give lr value as less as possible(like 0.0001) give epoch value as more(like 10000)\n",
        "wt_matrix=perceptron.fit(x_train,y_train,100)  # storing return values in wt_matrix and printing max accuracy and ploting accuracy at each levels of epochs"
      ],
      "execution_count": 14,
      "outputs": [
        {
          "output_type": "stream",
          "text": [
            "0.91796875\n"
          ],
          "name": "stdout"
        },
        {
          "output_type": "display_data",
          "data": {
            "image/png": "[encoded data removed]",
            "text/plain": [
              "<Figure size 432x288 with 1 Axes>"
            ]
          },
          "metadata": {
            "tags": [],
            "needs_background": "light"
          }
        }
      ]
    },
    {
      "cell_type": "code",
      "metadata": {
        "id": "MR2JixtRG8zn",
        "colab_type": "code",
        "outputId": "5ac830f9-e190-46a6-f2b0-dd1b04a84de7",
        "colab": {
          "base_uri": "https://localhost:8080/",
          "height": 265
        }
      },
      "source": [
        "plt.plot(perceptron.w)  # we have initialised w with ones but it is modified with learning algorithm\n",
        "plt.grid()               \n",
        "plt.show()"
      ],
      "execution_count": 25,
      "outputs": [
        {
          "output_type": "display_data",
          "data": {
            "image/png": "[encoded data removed]",
            "text/plain": [
              "<Figure size 432x288 with 1 Axes>"
            ]
          },
          "metadata": {
            "tags": [],
            "needs_background": "light"
          }
        }
      ]
    },
    {
      "cell_type": "code",
      "metadata": {
        "id": "2ingryYzz5nj",
        "colab_type": "code",
        "outputId": "7a40b3bb-ed12-4f16-f3ce-dbef9fb95b27",
        "colab": {
          "base_uri": "https://localhost:8080/",
          "height": 34
        }
      },
      "source": [
        "type(wt_matrix)"
      ],
      "execution_count": 15,
      "outputs": [
        {
          "output_type": "execute_result",
          "data": {
            "text/plain": [
              "numpy.ndarray"
            ]
          },
          "metadata": {
            "tags": []
          },
          "execution_count": 15
        }
      ]
    },
    {
      "cell_type": "code",
      "metadata": {
        "id": "6Zt84H-nT38H",
        "colab_type": "code",
        "colab": {
          "base_uri": "https://localhost:8080/",
          "height": 34
        },
        "outputId": "1219e91e-385e-4a12-a907-35bbf44d5ef3"
      },
      "source": [
        "wt_matrix.shape    # for 100 epochs -> 100 rows, each contains weight for the all features of x(w1x1,w2x2,.....)"
      ],
      "execution_count": 16,
      "outputs": [
        {
          "output_type": "execute_result",
          "data": {
            "text/plain": [
              "(100, 30)"
            ]
          },
          "metadata": {
            "tags": []
          },
          "execution_count": 16
        }
      ]
    },
    {
      "cell_type": "code",
      "metadata": {
        "id": "fwLUzbgxKKxJ",
        "colab_type": "code",
        "outputId": "15f1c5d6-d505-433d-b389-f344bf531626",
        "colab": {
          "base_uri": "https://localhost:8080/",
          "height": 34
        }
      },
      "source": [
        "y_pred_train=perceptron.predict(x_train)    # after checkptw and checkptb \n",
        "print(accuracy_score(y_pred_train, y_train))"
      ],
      "execution_count": 17,
      "outputs": [
        {
          "output_type": "stream",
          "text": [
            "0.91796875\n"
          ],
          "name": "stdout"
        }
      ]
    },
    {
      "cell_type": "markdown",
      "metadata": {
        "id": "DTF7sNCcIJ5x",
        "colab_type": "text"
      },
      "source": [
        "## testing the model"
      ]
    },
    {
      "cell_type": "code",
      "metadata": {
        "id": "eDczCWeKK3Lg",
        "colab_type": "code",
        "outputId": "d661114a-9416-45d2-9efe-fbc7bf34f14b",
        "colab": {
          "base_uri": "https://localhost:8080/",
          "height": 34
        }
      },
      "source": [
        "y_pred_test=perceptron.predict(x_test)\n",
        "print(accuracy_score(y_pred_test, y_test))"
      ],
      "execution_count": 18,
      "outputs": [
        {
          "output_type": "stream",
          "text": [
            "0.9649122807017544\n"
          ],
          "name": "stdout"
        }
      ]
    },
    {
      "cell_type": "markdown",
      "metadata": {
        "id": "KzOlxyFodFcG",
        "colab_type": "text"
      },
      "source": [
        "# Animation of working of the model at each epochs\n",
        "## to see how these weights are generated"
      ]
    },
    {
      "cell_type": "code",
      "metadata": {
        "id": "dcik8SX90WW3",
        "colab_type": "code",
        "outputId": "43a94499-96ed-4315-fd08-4e920f435855",
        "colab": {
          "base_uri": "https://localhost:8080/",
          "height": 265
        }
      },
      "source": [
        "plt.plot(wt_matrix[-1,:])  # poloting the last row of the wt_matrix\n",
        "plt.grid()\n",
        "plt.show()"
      ],
      "execution_count": 19,
      "outputs": [
        {
          "output_type": "display_data",
          "data": {
            "image/png": "[encoded data removed]",
            "text/plain": [
              "<Figure size 432x288 with 1 Axes>"
            ]
          },
          "metadata": {
            "tags": [],
            "needs_background": "light"
          }
        }
      ]
    },
    {
      "cell_type": "code",
      "metadata": {
        "id": "U69MDJhlsFud",
        "colab_type": "code",
        "colab": {}
      },
      "source": [
        "%matplotlib inline\n",
        "from matplotlib import animation, rc\n",
        "from IPython.display import HTML\n"
      ],
      "execution_count": 0,
      "outputs": []
    },
    {
      "cell_type": "code",
      "metadata": {
        "id": "Nwjg-Ay9soBD",
        "colab_type": "code",
        "outputId": "be424094-f20c-40d8-809c-ee5addebc38d",
        "colab": {
          "base_uri": "https://localhost:8080/",
          "height": 269
        }
      },
      "source": [
        "#First set up the figure, the axis and the plot element we want to animate\n",
        "fig, ax= plt.subplots()\n",
        "\n",
        "ax.set_xlim((0,wt_matrix.shape[1]))   # setting x limit from 0 to wt_matrix column shape\n",
        "ax.set_ylim((-15000,25000))      # scaling y limit with comparing the last row of wt_matrix ploted above\n",
        "\n",
        "line, =ax.plot([],[], lw=2)"
      ],
      "execution_count": 21,
      "outputs": [
        {
          "output_type": "display_data",
          "data": {
            "image/png": "[encoded data removed]",
            "text/plain": [
              "<Figure size 432x288 with 1 Axes>"
            ]
          },
          "metadata": {
            "tags": [],
            "needs_background": "light"
          }
        }
      ]
    },
    {
      "cell_type": "code",
      "metadata": {
        "id": "4XOY_nKjtIMy",
        "colab_type": "code",
        "colab": {}
      },
      "source": [
        "# animation function. This is called sequentially\n",
        "def animate(i):\n",
        "  x=list(range(wt_matrix.shape[1]))  # x range from 1 to column shape\n",
        "  y=wt_matrix[i,:]        # each row of wt matrix\n",
        "  line.set_data(x,y)\n",
        "  return(line,)"
      ],
      "execution_count": 0,
      "outputs": []
    },
    {
      "cell_type": "code",
      "metadata": {
        "id": "1xb9vXDUtfKW",
        "colab_type": "code",
        "colab": {}
      },
      "source": [
        "# call the animator. blit=True means only re_draw the parts that have changed.\n",
        "anim = animation.FuncAnimation(fig, animate, frames=100, interval=20, blit=True)  #can control the speed by adcusting the interval and frames values\n"
      ],
      "execution_count": 0,
      "outputs": []
    },
    {
      "cell_type": "code",
      "metadata": {
        "id": "TZI3CfqKt2NG",
        "colab_type": "code",
        "outputId": "826054f0-e52a-40d3-e1a4-f1d6771cd40e",
        "colab": {
          "base_uri": "https://localhost:8080/",
          "height": 309
        }
      },
      "source": [
        "HTML(anim.to_html5_video())  # we are converting into html video to work inline with jupyter notebook it is not needed when we run in python or shell "
      ],
      "execution_count": 24,
      "outputs": [
        {
          "output_type": "execute_result",
          "data": {
            "text/html": [
              "<video width=\"432\" height=\"288\" controls autoplay loop>\n",
              "  <source type=\"video/mp4\" src=\"data:video/mp4;base64,AAAAHGZ0eXBNNFYgAAACAGlzb21pc28yYXZjMQAAAAhmcmVlAABKG21kYXQAAAKuBgX//6rcRem9\n",
              "5tlIt5Ys2CDZI+7veDI2NCAtIGNvcmUgMTUyIHIyODU0IGU5YTU5MDMgLSBILjI2NC9NUEVHLTQg\n",
              "QVZDIGNvZGVjIC0gQ29weWxlZnQgMjAwMy0yMDE3IC0gaHR0cDovL3d3dy52aWRlb2xhbi5vcmcv\n",
              "eDI2NC5odG1sIC0gb3B0aW9uczogY2FiYWM9MSByZWY9MyBkZWJsb2NrPTE6MDowIGFuYWx5c2U9\n",
              "MHgzOjB4MTEzIG1lPWhleCBzdWJtZT03IHBzeT0xIHBzeV9yZD0xLjAwOjAuMDAgbWl4ZWRfcmVm\n",
              "PTEgbWVfcmFuZ2U9MTYgY2hyb21hX21lPTEgdHJlbGxpcz0xIDh4OGRjdD0xIGNxbT0wIGRlYWR6\n",
              "b25lPTIxLDExIGZhc3RfcHNraXA9MSBjaHJvbWFfcXBfb2Zmc2V0PS0yIHRocmVhZHM9MyBsb29r\n",
              "YWhlYWRfdGhyZWFkcz0xIHNsaWNlZF90aHJlYWRzPTAgbnI9MCBkZWNpbWF0ZT0xIGludGVybGFj\n",
              "ZWQ9MCBibHVyYXlfY29tcGF0PTAgY29uc3RyYWluZWRfaW50cmE9MCBiZnJhbWVzPTMgYl9weXJh\n",
              "bWlkPTIgYl9hZGFwdD0xIGJfYmlhcz0wIGRpcmVjdD0xIHdlaWdodGI9MSBvcGVuX2dvcD0wIHdl\n",
              "aWdodHA9MiBrZXlpbnQ9MjUwIGtleWludF9taW49MjUgc2NlbmVjdXQ9NDAgaW50cmFfcmVmcmVz\n",
              "aD0wIHJjX2xvb2thaGVhZD00MCByYz1jcmYgbWJ0cmVlPTEgY3JmPTIzLjAgcWNvbXA9MC42MCBx\n",
              "cG1pbj0wIHFwbWF4PTY5IHFwc3RlcD00IGlwX3JhdGlvPTEuNDAgYXE9MToxLjAwAIAAAA1qZYiE\n",
              "ACv//vZzfAprRzOVLgV292aj5dCS5fsQYPrQAAADAAGuIeCQLCID1Vp16NRLB0laTdvEQr7uXLw0\n",
              "cwg8BlOk0kFnC+xwidiCuPgfI99Mn0RszUnghN8rKCnvE/ts05WfoiNCEU9kpj5x+YPnL+/ZPHe4\n",
              "G9w1ZTpUZ7UAAAMADsjT5fVgxwpwTyQMMsd+XX60XPuxmuzXHVYBvhWfDfVwicPZf85AorjYlukG\n",
              "LMDXN6JtADlS/zpB/hKtrHYbB/EVoRwuN8lB1PvfguDnzz5Hz3WhJStyxuytvWPkVvW3dk+cHXUm\n",
              "qcxcO0peJDpMQ+VGJb9NLHRRJsxkcCvieHf3T2UONnUzpdTj9Chirv03KyoscK7pG9VXRVVAePqp\n",
              "vm1zSuwGCuR/wpdchty/Ywv9jUjyzPzpIBMCsNDr/CdIGqOw3WOV5aPncMvW1aD4MAhQFGswse3I\n",
              "PCZShu3EuclCeGnTHmd4AremzKR7cV8JuAbmqcG9a3zrXN8lPSCWiNqU++lS//63sc5+1YkhVrlk\n",
              "lGU/9LW0oihP1OPW2EfMHzxdHykesorj2G+U/wLXt1RsDDX9SETF1hV5tVZNAFslHf0zvESO5DBO\n",
              "0YVJE8GS9HjxyRaHsQgclJT1T4ab1vkPoE/wTymjNWNKFK8bdUdLsNTla6CUuMxc7YhKwBh6fRN+\n",
              "ZStnFjAF28YEVcrRqmiDGNIv5gDkKvX/zk/lxojTRDo8Kfv1PoOoWdcYw/t5kOqyy8qe719ZxwnQ\n",
              "3aEzdJ0kiMuZ69NoH3y1jKVg2e6EdocRuv5yOEMjhM8LqXrOVnZ+476EQh5yvim6dM/5mUhdxDsv\n",
              "AAus4ZtDTYKFUs4B72dSIOrgzfRbHNbsa0rPdVAimA0HkTfofuhCcqzaSIW6viZjzWqffj8++fWp\n",
              "MZAuNb8w+oZFIywIbfYasdbXFHEFq8H3wb5NI9JAuD9ustJBAZg0cB45tTFYoh3qIc/7AnYFS1T/\n",
              "LILMq8tck+VJkX/X2qJdIDOvvLXwQbw4dp9pPYucuYsasdtKy5Ub3xmK6o8sAJK/kTaxjP+9X2jj\n",
              "jj7ka1X8IU8SHcnHk/4qDm5//9Td2F0iM3d60/cSGPpJ6eZDqAcL5x6BTaNHOwTJGAABqncGxIBJ\n",
              "GulT/3xcgDaV9eKd/qX9e9+cd5kIjOx8fSUMqse67tO9V9KP4Bz7GLke41a3B/ev0to5oOx+DKzh\n",
              "DgAbHmUhGvhqz2pN/gZaF+mxFbfNOMInBLZFLGYVwAvFXDISNgyLet4at/fFJ4AaIxpThqXuJv31\n",
              "zYSUqXYV3MOWlSfy01gW8i4lpj9c+KyIMX5avpqF9f3F0T4s7W5mDd3IEcTWHWixYWDcxWRufl/b\n",
              "qa+ADxxh/SpErsdymhT4w72EalS367WrqxWsP4yJefr/Ac//SAU8qXKAse+rEPG7tR/TWXG66Q1E\n",
              "a1FMb9GvySPHhB63NDoIuDREx9dIp3gXtkV/gFzPZrfG17bHwFQ9deW3Qh9RcG1Q4nI0Zj+4LKAn\n",
              "klb5+PfiUvQtbBr5GS1yiJI1vTjhrJYMbbf4CcLOr5++CWhtF0WFPlVlinLYRUVQanDpXFG9Jc8V\n",
              "eRlriE/W1BQfICeBLUNoCaCztGITad1fCyx7AsM43DthP3q+fXcppWvtyw1IxT2jVxBkeK8ci/wX\n",
              "i34BrAM95Q1AGaqYPNVvDnW5Fy4yVpU9zZgtDLRgCMTXfwOQnzNZh3xxo+t1eQSPVgnKW3nVhcW6\n",
              "4FqtIs3T6pzuSifnWqYoLps1TkArq/kq5YoHf0+YduVyJpUvd4XenjcJHL+P4+tQDmPvWyKz49pb\n",
              "L+Tu1rvFhfRcOO01yaMbnIiGi/wsG9l2t7VXg5tzgHxWzcbIr1fgSax7Eruz8fPW+pZsalqIB1Uu\n",
              "eL3V5ECBn6SDktO0jWzFHsQleNnOqS/EAWZKHLcJAsQBniGeqDFGDuSKpUUKhGRKA2BIPvT5g2hI\n",
              "JP/cjZWy2BEBdLD1bqQy0TXUuynb8M6iRrNvWlmFZKpewJEWSOpuRMKT3+5HeNJNbpJE7qZgNzAn\n",
              "fV7Tu16lu5SrZGeVAMhoGGtqAaKvtyNvoYabmWeEeE/xXXN0+l0v+7OifvHjU/Oq61VHasWY9bB9\n",
              "/cOpqUc7lo0DsPR7tO+cldtoDnUT6AY3dE+hGKru5K5/caWpnrNy1DHNzlNONqQdXwW7alTOlI9k\n",
              "ddjJ+hEN/QzhXlj24MPBcmopaJnx2Rrpk052ToVE4hN71HkwA6Q8Izr5XrRZc88HDjbzs8pTE1vr\n",
              "AyRFA0DuTrNSR5Bv3OMVGpGbT2bToCXO9m2lAkyymEl58+E+vGH/C32uAQWgdX4ibktnujNNJ3Nj\n",
              "jJ7YnrKeHT0IZmESb+B++hJCXOsTSC3zDvG4l7cK7gDIYYIDJkDmkxCvxGKQqkidnPs788UQm4cQ\n",
              "gdfEuD5Ef7UIEU7S+wsZ4O/W8uGvOg9FlU2Ssis7gqRnsH/SVtDsgbR1Yp7HNXEwn4v8EFi/R1zH\n",
              "nfTRFcGpHU4QZ8KNL4TZDrwhNSIvdtDGEf5my+VudB0R4J2M55etzbzPl7kCwRaAWASg/gV14k1Q\n",
              "axlWP8y+DBioCoPTYk/tExd4oQ/Ls2x53qra/LAWSWxKA0Y9g4igXmZCvSjZzsxTSVqZOrUxKaB+\n",
              "3YwIB6YnFVqvNkc4KOowCcrv16iJvNAi91cxHAlb4Ty6sfgIK3ONC2XV3H+dJe1v+k+ym6gPVi+U\n",
              "3hinrnspTVCK0bn614lbKANZ9scRB190EyMMGgLEmFlqXfIYhmmImx0rDj4hBWZ8xTF+F5NpbdA2\n",
              "KUITMmo8BdPHDo93bkTwmyQMpmiloiM+Xa6hsQsIqhcSZ+axBLhUnr0o/5hdE/yvkNdsuHHPQvIb\n",
              "0CH6giaJlYAdL1yvdjeT77NeuvVXcr53oL7iTezjuB/6JQCAezRpnkUdi9Rbb/6D0QGeYy/Xbjtl\n",
              "yYgYFEVBlSFH5uxjKPDKUAjaful6ZI6gUAryhW3EHSQge2O/PPwAGcgVkqnl6TS2bVbuvVSq5ieg\n",
              "noWQB+VvHXbmC5PunKeHc4DU6KZOmztpgLgGv3R9Uw2XEmNtkypjK3Nn/vWi59wtHojIqyYqIf4A\n",
              "5ANjXjPTMk64B/tgIZ5BJadY0uL7qDTJVPwH/Fg1q5AAAmn+UL+ZDb7V09lAh7oDueCKAfDJfDx7\n",
              "Tr90kIleKez73xnimIrfv9KbZXyWoHqg9i+hyjTRPYtULPGEKKKR6wRSh+BaDhervP+xhyZavGq2\n",
              "eJis96OY/mG00zHNWsS/kOhpXdGEsEnWQ4uaf78yv2S8zgp7xltfUFUM9T2UcBRDlMMsmsCJGGqL\n",
              "0OF5+YDPdWR25n5FgPVZusEVdIm2ztC+nOkOlztn/PKB6sfe9EGOkUOAoypu6fQ+IEL6F0xxqUCe\n",
              "RRwEDDkZl9LcPZS1YcU7+IaJIABIGoG/Ynv0m/AcbFwU1HS2OSuE2IrHsBEvGTyoHSU7bC3n4k0V\n",
              "pwMGwqr+WfaWVAoYEolUqFXiBCf3QQclhGPK64vjcCdFdO4j4zFMdeCQEI01iCvKNR9i1+8NL7SM\n",
              "NM7jzkGvgZoYis5vQ7dFFoU69xx8qnVnsnsxo9SIQRBA0a6hfZsDREvBBQ+Dxtkwj4uMXq9pOChk\n",
              "sMs/GtGGVy1tY9b0G24nd1VyATWqK/a6YgdCAdc6HnLaqlz/DJ7AlM9EWBqM4B0s/ZZsLNn12vP3\n",
              "snibwsyKlbwz3cBCLXVoxy9MRGFVoZ/BtXwPnltVclrDsg/JyOMrdedfMjunamyAhmViLcGaFUY7\n",
              "frRZlpZGGb+Yp1E+2HWYin1DA20FrRoGInm3MvWfK1RkrRgiDleaFRPQ8ylZDejN0T6n9jBpxBTn\n",
              "7mR3WICQNv5TgMtOrGCPU2vfDZbALBlf1z1fy+34v8w8xPFPvwyDRxI96mUSAqNRXVVwz7Mv/tCf\n",
              "OMU8+gYayb2VZehba9ZTy3hQmncztap9xdU78xUdsiazbxIqJI6jGEs3n/UTZx4CgThzaw1HQSF/\n",
              "wULh62ypd3LwvLa08BWI07EvCsaZi+fntPDvdokp27Glb4lkn06AEmPP8SW/edLxYUoRpoI9otSY\n",
              "tKyfszeyCMSStx2UEAg922Ehqjt+k8NuS6PZYNfbQOijLDsCHCFVhyWWPA8enAq8rfQq++oL95jE\n",
              "rxTjA6Vym/uEX97f8cBkFb0+pMoZvDtJigxMkKNJsiG/ratXU02TbElTkKM835JQjmp/6awPMhAO\n",
              "P6y9BEQroY2Jl84Yms0TBggXNpizpRm47YkLtB5hfFB18h8aM+AxpxMV7hVph5r6TBkXcchQbnQR\n",
              "DxckC4arZ/76AmyqUZEkXkC32cTrGUQpeI0jf6j60ECZQuDP3lsY9fxuwZEYWirPJPnjXJ5PVLEJ\n",
              "09F3mxHOXhg1p95a6BxKqoJarcw5l7tIhJoY689bGyHlZdkiAH+Q4zZFVi0kVrH6me2BuTi3nlzt\n",
              "2oeWYDo6hrbgbuAHXqBacWNPMqNWSfS+f0ZRmbWSxLfCZ5ne6T88XlY1LWpx2+Iw+TiDe1x8tZRu\n",
              "/9gUaX6UwRcACtkAAANaQZohbEL//oywhOJyc58APZJh2sqcgkOvgAAHD9RQp6kRHF4tDC0TL1QY\n",
              "Brtz5r09tONyMUkSZ21luC0BGnp4QAdxAfkDNmVVNl6z+mLvnEVEKX1/mf4Ig6S+AeTGRtVpye9E\n",
              "bAk0oYDKRaQlucvonq8IQv+JKtiAgg9e6WLOFlT8D6oAkLHUvl4xlLa2ckuq2KEELNw2F/tIKgLv\n",
              "jhIZeRW7qFgmK8MWd70NUmmHh7RkYLcCXePvk+A34/Rb4fq+ofIR0Q1ADu4P+kxp/X9tVDlO49qZ\n",
              "73VSvDZK3nACL03VQ7R0wWFKAy9h71R75wIV7nJ7+fWouurg+k76nStJrUZjGEJCsgDExBlv7ChL\n",
              "olAA77ZGlK4CMyqrD4+07acgEC6Os2duSP1aCvPkPkgT/W8DzdSo24LAzdxa7KxeGoFD9ZFB/OM+\n",
              "NVfN/xTlKqsTiwudAswLDg1gUGHT5q4cU380seVI22vC/2mnkiorhJflecSH1tBnGy5r3MdxSKze\n",
              "RMyh+djocHwU+kNJPGr5K+Wec5QlXYtVDjldO36Z1UztNMJQLe7UrGZC+wkL/TCmcK2+MfydmOqD\n",
              "A2Qxse/eep+B5WMFtnm3Mic163wy/clwdd61X9slKe2LVLFVKchssX4RQTVGjNKhaMawFc7tBipz\n",
              "PWu0cLs+u44r2Q0pmgxfytGgE7yFqs52EpKkjFGE4/rDuZLo1k8J1C6iepUuNE6hCl0gUJz2XSui\n",
              "iQzGLyxtROSyJorAEWq3eNS97ECmDw7rUzvIvKLFSO7d5wncAZN3A77k/yJ7YG/ScKHw3DU3wlpv\n",
              "/KrM2PInsKSCTPEBAs718Qt+25zCFZ30n/R7exGVU0Pre+HJZKwOxI7akETKE5turX6i02CLCOJp\n",
              "wcw4bEt2jNDUjGYf//Z1ilUnWkvgX9k2ibE9vdAR7CB5FARsPPgVQtnCIJt0ND7LvRYhpGcTJty9\n",
              "TJUWEJnNHTCfzmnwOqsHU44/U+KF5gjlGHOqz6TqgSjSX1GtXuiTrprQS9PiiSu5wnT2comLCFZ6\n",
              "hSOwFAc8arGctyTNdrZTkqDnm1Kha9md0DejX+IaxYV9IML627/y8nQHWGk3Po91mIbPSXRUtmbO\n",
              "ceKlkbMkXoxug41/kqRbkgJWAAADhkGaRDwhkymEK//+OEApPUi4ccijR0WUA2jkRWptReiWRooU\n",
              "y929YSI20apmL3wUTcrSrEAz/mt3FHu5+NwGJl0AU80lIOQkYTt70Uv73H1KV4qKltsAtXd6L04x\n",
              "0NBta4aAfIray5bqrqRpbgKrvTxbQp/20RZIbjSS94HbrhFunrluYdLAtv38intU8q4GdGe1pI9k\n",
              "k5YFAcBznh4fM8RcGJG+sYlEGPEmUJ3EpraOQLr71SvEFofO6Zzr64+kZ/RZzSZB+Xi5d0PpN//r\n",
              "h8o6Eo1JD+q/2aKFVi8UhqLDvXuerIwcGT2JDl8XLo8dEooDKHKxR/Mjq4l4VZT2hawD+vAChjnJ\n",
              "WcPpOG2ldHkPBOyaqHjEX30i2MKEDWbJFfrNFHW8Aqxcg/A25AA+NTK1zsyqx5Y6uQA1pPVaCGtA\n",
              "pqwigMOSoez6o2M86jsZHObYa5pcTnq0U5swtNQdbZnR5D3W9kpXlnF/+3dn8a62IHD3ezilif2d\n",
              "Y5QtBeghKXZSF60h5Rb2qGPa1CHUr9U030MMkl2CFI5ZdhSRYua2LuiXQvpRFrYcyLJcfeu6CklK\n",
              "Szm2kPLT97Y4KWqatg09idFIMw8EsXoDJqfUTZvCNu2pgWQQrMm3tVViIudml+YAF4noV8Dnn1NV\n",
              "jJ2Sn47D+hlfPViCMxzP1RXBSegI6L5M+NkOBUvyGB56LCgMN+n30QHslFWRwtfdtQCRQI/mm00S\n",
              "ukUsm6emTCDoUhbmIDdjzZFW42TjDKU/BI/6MWnxF0ZeEVrD4DEuMF8vWBVi0gy/tE6B8qcky/eP\n",
              "JCOCvc9wV3xFiTgJYkQcTuu99qYP9QFmbYegNwsNpRgRR5zC56y3LWMlHZDAH12ZB8I8QoVCPyz2\n",
              "/1VhIw1biGCOz8s5vo6mChKTIeIZSt6jJm9aB4hqnfJFTWiAf9sLTqIaxp4o1Pl/5WsmktAxeRad\n",
              "PtJDznA/YQEdEIt4q7T/+4Mu0ao3MW57GJw51IFm68JFzfFox8qXDvJVTC7lp794a3YjmUe29k7p\n",
              "CIiZF+rSCaVqUFAYq+OeFvYrr1wlpdYGXJCfR2hT4EwfKArROKQh07BtYC6RUXLFzBUCULcNjjc9\n",
              "gdtslK2FtDIrciaox+vQAEAWgyXCPBgqWiZedUoSPyw73zdqK6A9c+gRbDDXFC+P1gPSSjXuXtsi\n",
              "R8m9APdAG3BiYkHrAAAApEGeYmpTwj8CjKu1xfL6YXdNm+AEijY2PhKsqunFOplAiH8wAfuWWetf\n",
              "nskKJhRU5+Nrs6GSIqIV4oRDkTHMmA+nsLQ8Mo0riMdLmZ+1AldOtyrP18pZKMxbW2pUqaZqT2+R\n",
              "7E3uEfttQ9BC2FtcEA0K7J5Cd5bxmYWha6aSaZnS6AojJNOPEo10oKEB3t2I6/QvjHyTfbloWg9b\n",
              "bSb2ygzJgIaAAAAAegGeg2pH/wAbCSpqpJszBvuM/XEehYLN3GOEB+TSRdjsudwJ4V0w4fCLwQoR\n",
              "71EfBLMKSiB0K/bXqxj4B0ta87A2u7n2+PSKy9hwvGHLanf86gBMtyaiPQaeJ/PxW6clMOIBHCdg\n",
              "/nkd/cm+UjtA3xDOVDbXGeldsN+BAAABSEGahUmoQWiZTAhX//44QADOjCMB7ABKvTEhhpGhnd7O\n",
              "EOzQswJBikuspW64lOmQaR/G0hVo4PlR+Uws1Vf982EIT74x8/k636rj9qmH/oaupvZJeQwn4dtY\n",
              "jQEFI7HDaxzPQEAicNEK8/qiE/mBXfCJmh6g0cO2AcA+n4nOOl3GUc9cn/7Mb4JZ9VoCWQ5KA6Z/\n",
              "a0Y34a4CR00i1hEr3T6zz+tvFnXJqTpXmvlBdFAfU1viQlA/ulf7yYb9jPvl4YE5T/n2hOGprcib\n",
              "543gi0KcEiFBZ9LlLOSpJbz0AqJh0oOvnNMC0McWwGu7I8GdzhRnTnvKJZWQm0A+g37Iib7Sn2nI\n",
              "hTTGLg0rwKWE/1b/E9UUkIm83rnFWxp15FAXAzsZ9e59r+L6PNVzLPW2QD0G1uvSJr/Np6HdCcbF\n",
              "0eQra1v3K7ypI7MAAAGVQZqmSeEKUmUwIX/+jLAANQDfJHHBsgBft0MrWGZMaIkv6vCS4UdHxs9/\n",
              "Y40bNp6UlWrm2qFioJLXwY6p+nKpYA+Qz1m2RnekMjCeALwtb6mwoGfefzXt5CKj0GX+XqzdF0ZV\n",
              "Y9MLPOP1v1itz2Z99XPBaTEOYOEpblvJtMZAxfIleRjclIhhZNzNiT3+jm5IFmGKrWfKd9PiZFKH\n",
              "OApx9V+t/r/crmQarSDSfB9i09/XkNV5ZyARnTqtL+Hi7YjtGprVYfAtaMV9cyaiZR+VoazzmqPC\n",
              "bGD262Jp4ZuU05kYEQnnWguBgv41lvYHjcPwDYfYBfSBmS7Zc457SjE2yeUHx8CkY/5vU7EnVUWp\n",
              "2FNzObYRFVXq4KmOUCwPVz/744hvmswscPx6r36fChV8ii2tTu319LlPrOQY1yzrwv80qibn5vkQ\n",
              "FLkNmy1sWj56/JbrOIIlfRmwBcfgveQd6pvvQExztf71NDXjxk7n6+0SI7NWkAA9g84bTPp9yfVw\n",
              "IVIfpmPGfmSRvHqkKlGFeXTfmKhtAAABrEGayEnhDomUwU0TC//+jLAAaiTdEBGMeQ7QD4h+W7st\n",
              "n/PD8n1rMEiIJEyKaWh/FgdgHw/tKW73Q/22K3fsPqr9EJxjFFrre1xozF0a5qxg79DyHPIhhPRt\n",
              "G4eIbux6BipQT7sfDoy148p67S4qh8aAJbvTYb4xgijrtXRxXVIgzPaV6W24daz1wScESJKEGVYm\n",
              "G7w2GHlgkYkRDcsKkNqfca+diz/gy1WeWzfECoJH66thKpOvfJpgwk0Sqeyq6buiHnEw+L79B9L3\n",
              "D0L8eGwHYHeW2Kddvq884ugRENstudVWwyEyYMnCXklyOaApMMYciAiD5NP1ciufLTXIS3rusAEh\n",
              "WR6N05VP4sAs2WmOoECZnlcpSYRUArXcAHmDoP9o+ENY/thvO7IC0k6pLzV6lUgbauuWcOLbxdGC\n",
              "p9rMbKCC1TDCQiFQKivFOTQtwvVY6gsQCWAIDpVu/CyVoHCFjFKFB2Y7QBMUWkgqx6EVvncto5N3\n",
              "3zVqHoznai5U/q4r97FdbwwuneEPLUDoY+DEDwpUqKWIUnEsfCl5gDLO6V9J7/J59x/PnDwhAAAA\n",
              "UQGe52pH/wA2EpHYFmZzZ+FKsLFaUNmHzoUofLC+bFFa3sO0P+QxQFEtrH2EV4ZfJjFicR4Jgku4\n",
              "c2dDSBWL/i2j2FDhaD+xkDLGi2+2201fVAAAAX9BmupJ4Q8mUwU8L//+jLAAaiTYRGwCM1dxKP64\n",
              "XwbnUh7V9htCqWJdAQFYkgoxCK7qG1BeJ0WErjANz70DS3Jqq2RtA36wy0pXVjDcCRyrTJsgU0Fz\n",
              "ELa09k+JWOr64LXoR0KcjOm8pdOELoznROh+ZJTJAePHZmfSvvSKUgrD1/bCsQ7RurquxoU6Bbt9\n",
              "1yo3ceSWvfiHDpCLwMupurqf/d5cK83gPmdJ/3fG3XHJs/iFDeFbYcl4pnwaTwJWLVcf4dSvnvjy\n",
              "QUdvnpSvpG9/bdlynh/bBmQIS9ZPSUpFxrpiQ8mV5CVkaOcTWQEfu2cSwkYEnZsWc6g2SFTs60t8\n",
              "UVaqoGE4txL6FlU/wdeNtPKf4F3u5mgWzSWsPZWtJd9hBffdjLotSNWFno8MwaYiBxxTaofxbM/L\n",
              "kfZbD/yxnFDlabtYRDv5BU61ZsEc1WlC68tTjVwFdcN5kCWTNV2XwQG0AirYRSU5QTMyChoDCdpl\n",
              "lyL+foEyP4ZNZIF2oAAAAFEBnwlqR/8ANglF0rquKYqfoVtN1MzSITkGEulhOfT2mwT2sgm4s9Ep\n",
              "+XbUXOLkvb1PEu3PlZoXCMOwzfqNzJVNbxjwCC1AJcBNT7d61sRVqq8AAAGRQZsNSeEPJlMCF//+\n",
              "jLAAaop7NFGoAI8wlRy6rtaoDMkfIp5NqgZNrzD5PlbWDBSVgf8COAAr6KSFxQixLCgEheTKz3d+\n",
              "f6TG+xmQc/gS0CiNIDa7fBKX2f6Bh4PYTvd/aoWbE/Po5Hx+KWTUOh5QuqkvJGJWDdQWZkoK2Jfu\n",
              "l/2eCq//zb70KNiPJra2KJp+KcQG6LpO6B4y1I9dN/OtHJ1iAVfi5+mVGrOvSV4s0NgQULEgaySA\n",
              "YtHswQynnSBxPM8yXq8D8JRUIo91DPk/kfjVuvDQ2XnCS4Pv0x/Q7BTyhNC4pCFO0q8IPt8g39Pm\n",
              "IIYf01CanCBw0+aut6BXBDJ7/NlzPwIa0bgshA23W+aw1dUYTU4igIqsAvQRmf7dQFia49m1JwUL\n",
              "cJkrb0RCfTadVa7wLAhBzBfEuGuV1RJExNb3FTVwvxgnV1hMOhRT8ubpTapQXN89X+aPt3FpQCgq\n",
              "+HVDMTRW8KhXtqkAoWd5MWFpt2DkJ+ib7hV/lVxkaYTa5n7+0za5vUeC1DiMGOAAAABFQZ8rRRE8\n",
              "I/8AIb+eQBn0oSl2wr+0cqnDO8sm+a77p088IuFrMtmi8JUavNn0iu4/6OtpZbNxXpOUpBtblxS+\n",
              "BGMUPl1QAAAAJwGfTGpH/wA2CbeldWNLbFyTg1znh9gMFstanBLbYwq0fuLKcFvEzQAAAcVBm1BJ\n",
              "qEFomUwIX//+jLAAaopb5FQEAaQUIAnF8p7E2g11wCbJPetR1VQ3MRUHYWO04Q6RYVPQEu9YzyIu\n",
              "9Qcb6/m13AS39WPRf04OvGuJaaCFhAiKbtiTkNMJzfDSXITIUESeNm2U/35m3TMYUFadSrdkFXI3\n",
              "LhMGdrMh0tLWPAFGr2jFIso9DArWiZ73WQlvJu80WcQwrsa4Qut9Y/4UekfbROq/v9J+Nfd+1AED\n",
              "CeaF6TcGRi8K75pr5fe+nXGAC1vkPvtOcOjo968rWgIZndUWJTkbs9TprAIEIvz0k5k4IPghDZa8\n",
              "csFfVmU3gBFmN9dnXZ8njmOVsLDfgU1QGStiCwYKe60usDIuO6WUDeSluqcYart0/Dpv/b5/V/p0\n",
              "NSb3+IQzeswOPIIwDNNtoMjGC5SL9iyv3IjjjZDDPvoP6K7B3w7bzwNKmIrBmY0kPHAKo1wl5LOq\n",
              "bKL8Lv+8ftJdnwjlepjlsino4wMJoIrOr/hPysu9rZeLuGS/v4Gjij8DT7j3/5WMei2E+ehN994C\n",
              "9knxgliHhvMi9j5bRzdOtJBOlmd04zptJky8/uGFEWGxyi8IgLoUyMj8O61vtzdPLuEAAAA2QZ9u\n",
              "RREsI/8AITU5oeBM+X06s9k8bavgFY1VdrC7Vr+1Ac0RHC4ibArJNahWp3XVyFvMwJ2BAAAALwGf\n",
              "j2pH/wBsJSOLs6bTgA1URKrGpiUra+sd9C9Q1zizPtaNdfCXQiRrFyjzqIWAAAABmEGbk0moQWyZ\n",
              "TAhn//6eEACTf3SIEzzlSSm1hQkwi26EnbASUiYf2oYvvPYrvJ/DIIz+Rx3OQyQE2nRpVhW6liKT\n",
              "DZHnByu9T20zrSNvF9LqtDBYynlf340uUMWf/+5UFTF8t/6UIzotLiG8E2+QW03wBuLeTSq9mltG\n",
              "/j57ZwNVYKW99M8htN2pQE+NfWoFz/CZmztVGrJnp79h6asqMLo4EIbq4MU8dyKJ7kztLl+G3lIc\n",
              "kdl5kHQf74OffEeT3WNcqlJTCB1zmEvsMWlB5QstBidAmBZuqm5pVGsgg5FXRMieGBk/mhwXdOEr\n",
              "EB1h/oGg7k1pR/93BWg7tT/Ye2pcnH3ysImP/xlsoq+7ub5Zk/5CYhi7QnfjUpXW+gFQfeXj4C2b\n",
              "YJCwZrNB/J13uu4zvVYpztpy0zlK6HHDRy3/QhT2yodTkdMHcI7c5lob6rJSLux+MdH4bpqgfhzI\n",
              "3u2UhSa0fMkttGHVKQyomLNrV7oUIh0FSZ+CB2iVyOU0v9YQGhsmqgJGogYEKXWGwVjrvkjZ5BPf\n",
              "MAAAADtBn7FFFSwj/wAhvnU1N3KJDSaKOnto7GG5LDCnnDzW+25xodAldeKU7OI8Y8jOmSv9jmY9\n",
              "EpPsYoY1oQAAACwBn9JqR/8AS2TOlU4GiCyIMzSUb6LXWGZSMUHV0H0yECdHxVGbUtrTM6qD1gAA\n",
              "AVxBm9dJqEFsmUwIZ//+nhAA0t1e79ft1T+AYqKrXwmlw4IGzJle16gRffzig2ksUzYrZgp79MTO\n",
              "Z1RbCh5tsns25y7wbVE90f9Pj3jVvRL3n7OsWPHRaNvM0jcTYV2c3exwJYtGjRSDpudHVLhxDmwk\n",
              "srYNNCt4Rv6izi9CWVbGNmNgKR0+6aL58a0GNU0zXiKD52x/UMAhPhzibeUdsgtZHK929qRDjJ9A\n",
              "45jPNnlNaPFj3W7t354/LiMPntvu592plGwq1TH/84wUQQRMTEYpZ7+vRLmLldeNGtygoPaiGW5r\n",
              "0GBwm6autCaqtmLKKToznS0tppcqkD79k7RUcRgxWzjdn2f0G0hsw3e5aBuSAknAJokD8j0kAyZo\n",
              "tO4iNmAVfGl2Sratb5+AlPC0OXRiCEkZMsY+uL5STXzbfgxxopU2yD/qnu/2YzJ0tK8w+1/gPU2M\n",
              "FmynVyekHDAAAABLQZ/1RRUsI/8AQ37wlqNeWHF1mT2K1v29gD3B4EqKi9CNHEQ+RADadiNxlA59\n",
              "BlCO5LVhFEZU/1V7dXjyDonLGNVtq2xS0RBVEdEvAAAAMAGeFHRH/wBsPlxNJSa0oQ2qisNcqB+1\n",
              "EWGzXLLhdXet3En2hl52hTC7ORimQPfyTgAAAC4BnhZqR/8AbD9fXliUWJT22rdDj6dCR1dphxs5\n",
              "ux+9hpgmoKb2UNYGf/Md+ogxAAABeEGaG0moQWyZTAhn//6eEADS1+vWQAblYpVaeZ7kacY1nGqc\n",
              "gNhSKnZW/JQ+jpjuak8ZE/f4ah64+zZP1+Btt0R6d7evvgCpBQ1VIWoPbGgFBh64JdmACX6Cqi8p\n",
              "Kz79/RUOK9J0xEkoYw3m1FMCuNd1av3Pj67dmM0j3IHAnDlxYN0fo0YBlcimc/107UWpDyUTjGuU\n",
              "off0ZB4HJoShQIzUCsFZC6zfq8v70WAgXrQqATU1gEgA3eDFSiX37yGbLiYewXtZBv1YXNksfnNe\n",
              "XkWAi1xHa0Fp+wylzNTvgwseeHhghTswz18Sdl+bEP5NvpTjXo52rqlIIPbftEMMoKNJkZFflvrg\n",
              "nS/m/mw7nUzBtneezCaLxUlGE6hZvPu+0XOgfXlkKGm17fz8vCL1VZMRIRxJpczbohzgHEHZXtWn\n",
              "9pl18qD6Cn2fLe+WlFgLpKFGNhyaEvMf5oeCyBtlXy2w/ioFa8lKBkUhOPqcoYt8DqTVPqRshIEA\n",
              "AABFQZ45RRUsI/8AQ2y8TSyOkRmS5ngAizwxym7aCuXaADvM2Ul6YyqP3WtQF0f2CYc0hQmBTxds\n",
              "3rAfxx+3KkcglzyTJYWrAAAAKwGeWHRH/wBsFRn27W5Ld8apb5w2+sKw2xjXsgw5y1tGsSjee4m9\n",
              "cpbLDQkAAAApAZ5aakf/AGwVMhpsnkygfbwHgEu+naaU4IkkrI9nRW4CrPJ4OKFhDYAAAAFPQZpf\n",
              "SahBbJlMCGf//p4QANLH4Mr/fC48geifgATCoWfe/TSVjKo8cQJjVZ5dCs/XOasaIVzlWtI5rg8V\n",
              "rKbQ4oX1eVg8tdp9zo/2EULLev3Dub5PjEOuHOjc8LENWmY6DSh7HRwsZO10vr4LA5//laUNk4EI\n",
              "H/aEfP+IOUjqPo3MIoGePqq4svE6NQxCrJ9BK2S8tv3fsnB9O9QbF52VCzzht8OsyczOOcuN2jyc\n",
              "9lf8hpGTE5a7B273WixRDQ9Fw9s9hWHluexCZN4Gzia+k8F5d+aFIRl0y5KmjkXcwyiTk06W44JE\n",
              "HdJo+V8n7s7g3/Ep+MgZwhWwNO8xTN7SNk46PGeX8xuX2Iy/WrSoeDmVR3tnASPo4Bsx2WMsK1ax\n",
              "jxwUjTh3rA1Zz4VroBCzhYI/i5zJBIiS3iQbdY965V8khrF67GHNiOwg9UA8CaUAAABBQZ59RRUs\n",
              "I/8AQ39G+IeTgZen2alYbs4rKHLEs7Qn2O1jDcYONsc5nUaENeNH6Wchf2b0mVvGUrOMq8X+gSvO\n",
              "ZpkAAAAsAZ6cdEf/AGw+gjxjmyhalAdP+RypDo9Cd2X1lUnaRYPOxDjMX/WGikNARsAAAAAkAZ6e\n",
              "akf/AGmlA/4VtZUbmljdw2cafPHfS9cypkNXmMWGkJKAAAABSkGag0moQWyZTAhn//6eEADTwTRI\n",
              "WMT9bH1pcgkQBAcyAR0/cAXq5uYJSmn4fbSfp93yCo2xR87I9FbapljtXNcFqxqYyuEEfpVI/JLm\n",
              "FTMiN+t+orvrLDuoWPWU0sC6SSwdo6GPmVE4B8vVIh6Of9wNhf18OLWseS+6CXqXYLf4G026YIVn\n",
              "h+IEX6+GUjarwC0YAFUKd6dj0h+W5Bh1eBIdbfPBw06Bgqtnm9DEpLblom3dm8wl2JTdC2nF8b7Q\n",
              "7aTW9cbQfgY+cuhALzRySBPERvG9RFUwoDOhWmNS+sjrKqAKiMEUI8Grorg3FqgindQ/wvdBBY2v\n",
              "TJR/DwJXf14izUznT0XBUd3IvMyrL+C+IZyqdubpt1rVC2qAoNZFLr+s/N2D+db/8wg+w0Bq4xns\n",
              "PlaMl6cMWSn7+gReVLXe8UPF08LvsQAqPwAAADlBnqFFFSwj/wBDbLtNV72gKazISC2fs12VNESb\n",
              "AHGFpj0zlxjRf0lLsjdxYU5KuTeg84zfWEGBsxAAAAAmAZ7AdEf/AGwVGeoV0MF2mHNbczesYJob\n",
              "ks2Iqj5QRxYQVKWkNeEAAAAoAZ7Cakf/AGmlBEY/jxLR2vv7vEIXyZ0kgBb/4hHEZC8MCxYowRyB\n",
              "8QAAAXtBmsdJqEFsmUwIX//+jLAA1RS3iZkQBUAfBRhXyz5YaK22E+Dxdw+NYJKgl9k4pu2IBYAi\n",
              "VnIWF+AzZfRGYeDWqSoHXVstfAtCiRNbZZE2409NdwbNc2MYcwIAK//N+z2dUxQuIxqSQwpRHp19\n",
              "BWZgCHQ6vffDKNK4gmv4ZlcLPbPNFV5LNxom2IOPykfomUjceRLrl3UHW1867JX4uk88wbHZQq9W\n",
              "KpdMd/qgX1gCyk9EgK/q8aMWImdBExL/TxBropAOSf8TsvInvaoeDUKsYBld35k0o6oZOTXvbFSO\n",
              "bASRb8lP8FDWibm6fq753Orz/tCsCqaUyrLKy5wy+RQl5LAocwKspU/0h+dk48oHrLduLw7xFnVV\n",
              "FcsdQpBSxBvyYgNz2W0GnpTgmq7TOoh6Of3LSI62/XOiWZQ/QGSRq7RCy2EuSzqIioCmQxmNC1+7\n",
              "+gbbULA/pLF+GSIwK6HvW1F+W0oBy1CKYNjtDBREA3ba0ZoapQe1ICthAAAATEGe5UUVLCP/AEN/\n",
              "PIAz4UXC7+VYlblwbyXbJNDmSBGORIWq3TRT5By6rCh8JivtAGmdFKCpKhDu3VO49CB1PAKAy0tj\n",
              "GxTkzapwgYEAAAAsAZ8EdEf/AGw+uozTL+B4adBx2hIhICtwT+FeRPbtP5DI9lcBuuzEILMa0b0A\n",
              "AAAxAZ8Gakf/AGmlJqX8X733Wdk3fbMvpZ+BKRkj0+rkqMvDiDVkVmgeaeLsZE5P5kCkgQAAAUdB\n",
              "mwpJqEFsmUwIZ//+nhABpaVmUR88l4bpxhhKcgBes+LcxjrEyR2jvWwAiXRYdb4MiEorXDO2mB+s\n",
              "7p17KvEenJbQcZJCo+gaPtO+Tyofg685yWU4kHiEd8jy5vbpNACKaAiqTOb3p/WRMIFv2412sMmZ\n",
              "+e9qVUCp+Dg13U9+IDE0rTtYb8R2bfLavO000DM4pf6rYzxPZhxfW1/oIr/frzkpH4QPsy3MeTlK\n",
              "gKOO5p9+JsTa6gbwCdNYt4kGy+DyfwHR5ahhp9slYpf+FZURjOdgmXzuLLaPzEkRVbrGBrQvqspS\n",
              "q4v1L0zSj1Xl3tdjy3oTXNMh8tyDaBXo/ZTPr64tgUawBVO9N8/qdIi1RJiw6klVn7oP75tzLpbv\n",
              "hLFv4P5sqVpmmH7LvObt6w2UZEoMY3DvfQkdifmLznsMASX2f2AZUUcAAAA2QZ8oRRUsI/8AQ3/G\n",
              "mWYIi4A21pYOeja8F+KE7d0iw6K7wH+RScBlv6EdVnGkQ2Ova6xam6JeAAAAJAGfSWpH/wBsFA0U\n",
              "/eWw+SZKHkxHjqjqyQwJIRrQwNuU8ISMSQAAAb9Bm05JqEFsmUwIZ//+nhABpZANEE0lcc44gCqv\n",
              "264iAHtRCaUZFvT32JKzpfXg1+lyTQLkeqT0mA6Hmho+nHyWpQNTNQnfsW6jSfdEaTJvFRQCIfv/\n",
              "cLVffREH83HIgVHi7VySISQeW4D3Bo8GtKhpozU4rnLXmA4d2fGsI4GpZu9MP0w2VQB8p+FTWmBe\n",
              "G5pqgDEWIOUI0KxzFO7bqsusBA7CNd6oQcXdArjyCQTZr/OxXyNEaBYaamG+kAIhJkj/KPBt0MaW\n",
              "y/K0c4FBmpiUsrsLbsXUnh4ct9wSGArQQhaC33oKW7nWpOneLtg+IVfwHwp6oE7qlzlMvWxt4LIh\n",
              "J5bhqVYLzUQ9vvZtbLN6juEqDwyrYKhs7gqqG5G3I7dCS05+1m70l6De8vq64g0dG4SsZ/4+gDjT\n",
              "HLGBcmIOnhgGepslcPTzilkc4S6hWj4M0Lnv8EWH1eBW2rNGqJrY3R3GfC7s4yuBFUVzMkr9Zugf\n",
              "Sny7KmkvvUjtMRtgBX7lMcUehWWtJSgQvbmuRL75rZq0nhehbXlEYj28FwIZoFN4ePTe12YwZD3c\n",
              "bRa3IUZC9ige0slTcIoAyDRBqU8AAABNQZ9sRRUsI/8AhtkwJ9CiTHsnuF/0UXwYPwCgNBLEZvQp\n",
              "lPKgxx6ksgouH9wLyyqIp9xetOGCJSBzftMAPm/CV4E1Zk3YlF/3MEzlUMAAAAA4AZ+LdEf/ANh9\n",
              "CIyTOnHCbanm5TqW5Uwib/TQGpt8jqrfUshHOxRzotNTpL6+bvoFDmMV+jvCTokAAAAkAZ+Nakf/\n",
              "AGmk+1cOHl1nUZjpZbpEa36OK2qnhF4nHuWAeocdAAABSkGbkkmoQWyZTAhn//6eEAGnG7hSiACh\n",
              "KIfyolshww94N2/N2lCrm9iU9Rg6/DgMjUAg+PWYCr35IAIdSlpyP71RjIAoIuwHvY035vLqSzL/\n",
              "qbv/+3E3hA8AUbmwSjLOatBegMhMwy7t9+/Yrug1xk9X5ojsKgtnBbHMPCh8ksDcuMav2I8iBwkk\n",
              "BIOQaJwHk/XmXiUodZLaxgHXlw0CYROxftkKCrZtt2ziGWArXAnqzon/dB8eWJF9IwbpTeNbqMab\n",
              "aKiSrgcZn5D9Ss1WRVDYRIhiVjs3vy04mOQLDV43vTxi7s2S6grsWH6B7Is1knAkl0O9WSR1XVWo\n",
              "Vd6fXvjNGqO8RpB4LEO2WSwN0D3S1P7QWr3T3mivgN+W7Obpwi69ZTyQPUplZf7qTj/robLW/lS/\n",
              "cDCtB6XkjmnF1ZsMR90/8gxqyIJklwAAADhBn7BFFSwj/wENMs1EDmZn8paMbzhB12X+gsR2tQF5\n",
              "ktm/UBtiNPGfQXSGafVFJkWUjdGDjuh7kAAAACoBn890R/8A2CnqIyJPE6NU8eobnBl9hOQQzQuw\n",
              "dBx/yhZYfNwQkkKoS8AAAAAgAZ/Rakf/ANglz8B+000FzgiLch6tOh5ZkB3IdNqg9YEAAAFqQZvW\n",
              "SahBbJlMCGf//p4QAaci9DDSflRKmiYlz89h1S1Jl9d9KG2xhb7ebUhNOQgfXQswTl3uJ1rFfi9w\n",
              "0tiSf9yO3dehy6ZZ4dDeFSBgQgLXanLm58vleUdhB7JZrOGVp6CeO4qoEMcvNBXfE5joLHs+LRTi\n",
              "7gmX3RucBqx/EKgr+T2pHMixdRZRW//dz7zVN34qdkkxjDB/Ohb09lKI19zP+ZcmCBZk2QZIasmm\n",
              "KOIEMNd7Jp4+lg3O9sPlksNd7/CJOvbMfWy0AMafvnyK61xSIN7JCbm1AjALVP+F+xcTalqBS6xu\n",
              "Kctl/aiqHlqZkHYJ5Y2ZLHmnTMLm2B2ZhzFrzJVDMgs8aQeV0wIZ9QoC5XVchhaEjoSs+QRThYGf\n",
              "BeKy5ij8IlJUhbxK7CHl5DwDIn7GNJ5X/QNfU+4YQqYEjkWMRL/FneNCaqn/TIjoQu0/B6iDnrmt\n",
              "EV01OLEVHx2eMocAC2tvmfAAAABKQZ/0RRUsI/8Ahv547QXXqlM3f9+ihUv6gWYAjSWWRzp7YT23\n",
              "0IwCvXHPEuTRR2H/1/aYSYzHPSPlfZ/3bxeT7XjjoSZsTEMuO8AAAAAeAZ4TdEf/ANh9BHn1mysU\n",
              "uHngTrIdZYzGY7NAbQUlAAAAPAGeFWpH/wDX/Bmp3pGic7LnRzwZ9VINzlFE78yQRet8lgK0vSRy\n",
              "TVbYBENNvcRJnKGsyHrHjRFChN+NCAAAAWhBmhpJqEFsmUwIZ//+nhABpY/Udf420YWTMt0AhCne\n",
              "fe8htsk668+ZYsZIwNvyRrC0k+o4NJoknzq+wbS1zEO2fS3PUUkKRB6JolMUv4NuuHAJ9yScbVlb\n",
              "LvzmYt/+KMj7v2/9DkvoY7aHMrfsfWXGbYjDzbjdDavzVeELL3SI6vs0hcXPzgPMnOa1MRdcJPIE\n",
              "dUBVhhyUEJtqBZQwIiCTS6HeuAWuT7OHmXmVgOT1e19ckE1a6kjkT8SviFiP12leBPC7tBJ+WvH+\n",
              "5XPynl17CTwpd4Xtdmi2ld67RcVQ9NUJtc94CtkogNUc99oKbcazH2/ERbBpVUGn4sKWpvOgq9iF\n",
              "fMZmL35f+1C3NtCIABdC4Xt27ahC87w71DsauwJqJxBNfF6YNrMWtxIlYlykK4bdfbFDh06B/iiA\n",
              "v86KU9zF5lXbFbeW/G/IhGC3+A9duQtA0SqPI1N010c7McpNBTDIJRSZyuEAAABCQZ44RRUsI/8A\n",
              "htj1gFOsL0fCLiHnSjGzr9XaoEtO0JQcabnSfeR319o6NqQkOAqRE3n9aG1w3Bod27DxAIiRJjbh\n",
              "AAAALwGeV3RH/wDS4cKfhILGqFtDiYk5nVfRo9RSNQboXbu0b6/JrBHVac1jf7Zb+hJQAAAAJAGe\n",
              "WWpH/wDYKBAjq4SDJHj1yEHOudJeV40NNGioPRoaLHryvwAAAVpBml5JqEFsmUwIZ//+nhADRyYi\n",
              "UASujkAaE+3FvkoBAp8f2vWXgfJErS7maKoVQD7vHeGfbHIqczxtwQs5cnEiFO6+S87VuzUM7cmn\n",
              "ia43rOwunLs9QTbsRzWzfmvZGlXVFjP6q/PfjzNedIk7Kz2rgZDAzTlu4ONx48jOXEEjj0Gy5ar+\n",
              "ijK1HqcjNmbsMghpphvFpvKdk6GLcKeUdHT9eYyXBLgdxS2FW26UekxDMdxg96NgpEQ9ZGaiwDD2\n",
              "U2EnvHdG+mSpG1UGjxUYdAro/HAj56m1fwqYKSAdt6lDZb0uTNWJbbUb32sdXBAMqZLPxG6rbDcA\n",
              "XWpypboWFtGK0P0f48HEB4bnknW2OpxZWsPzKvK6GK/iq6O083BwKrYMSScP7DBBChuXACH0PWFl\n",
              "fxvhArUQfzyJhEHT+FhVeJy2NwelAhCUmqFqsE1GeFEQmbBxGiaNkjvmAAAAR0GefEUVLCP/AQ26\n",
              "tNH65Wj8j3TuiMj4wMGwz3zz7vAB53iKrtlRJxC7nUPvbhDxECzVzLREXb9B26kds3AqTJeE709e\n",
              "OiZNAAAANQGem3RH/wDYKjPUHTcpTZoo3f1ymwyaOujhmQ6dLoGBLzq6Gi+2RvxwFDPXprxW7Aiv\n",
              "r6m5AAAALAGenWpH/wGwk8gXzEOAcyKRhZxYychGTqtNGOL6hxY17MRbbmJvI/zJ4ibgAAABLUGa\n",
              "gkmoQWyZTAhn//6eEANHJmyBPV39fzcXYS3W0UdnAYBEI8Xw625Co05Cs212DMdWOYkwWb3SN2RU\n",
              "3quYp8TFMbTRoKonZw0Qcf7D+7L487fyTP3oKBxS968hsQnu/4ANrrZhzef496c0LVAes7Mg51Xc\n",
              "xlOAsLhdNd1EVDzV/51EjrfzeWpDl2feHjhz1PHmwwuV/fQsLsGUeRmNp1k2VpC3NP2ylrgChchy\n",
              "0slKQ9bTpG+i7PoL7yY50vWXji6NHuHXijK3Uqew95XHvg5fc7XwpymE6eW7jadk57GaWzVVJgW3\n",
              "ltvH7RGxREt7vPAT375X8YRppbbQzc1zw84mkGlRtoX/vjV7Tdq7pL/itTRJyGoL0RImcsYXx71g\n",
              "O2llaxVFoV8j4HFQm4AAAABEQZ6gRRUsI/8BDf3fFg121Fw5woduWDUOQuYssAm8ou6oH2fjYHbq\n",
              "glGhYJ7NSM1dDWgTfRso1fg6/gAswMOBE9/WLmEAAAAxAZ7fdEf/ANLhS0WGZQnFAL3K+vYqXjWG\n",
              "Tm0O2alV2DcEkRh0pYHIwX34vPEqFnqbEAAAADUBnsFqR/8BsDHazKW1RUvbwhHL+yTxeBoGreZt\n",
              "5ojJ3w6FiU0Na1UCUqqVISmxTdLxDpLjIQAAATtBmsZJqEFsmUwIZ//+nhADR2DmHUyvNKZAoY94\n",
              "jlrl+QBGdKgkM6bCGjzl43HXhaFfw0+vtjrPfWfjLH68O3/8HnaITZO54qFq4nxoKOkGekKqzfsx\n",
              "3qqfQHBoAoFR1SowBLdLd44vRfdRrwmbHTKSb69QsbWHVeB3oRTVboFmGaXIiZq5GwYnSHhEOg8a\n",
              "BYUCILGwquATsw9JGZ2Kuv8fhEDjjtMtrpVUivbYcyK4PHnSgV5zOsItkHeau4W1yZSsXkSUFNsv\n",
              "8FyFTxg+g6erH6BsHYdzKXeV0m3naT1QMEjdsf/7jWyalG3R04sphXoaTwfINzIF3Bj1DsxOPYLW\n",
              "4gUAG4ZD7QRWX07IE5dL6rD/MJj+Ptu16xd0cMq60FX2xaglBOIWN3FGgBR7jj3AFwcwwGr4NHv6\n",
              "uSEAAABNQZ7kRRUsI/8BDgAQW1ye1FsA9JGAwSgFb1fg2PIp7FZYBQwyoPQwRhS+M23l4RY06qoL\n",
              "xY9gg0Z6ln/dxf8HcVbd0Ln5F7o2WRJhrYEAAAAjAZ8DdEf/ANLha8nalDA2uOeRB9nLpwLLuEpD\n",
              "gH1pCGM+MCEAAAAyAZ8Fakf/AbD5nMvFcCH2UMP0OaIt2SMoKFlisU7cqgiKuspgxfgKvVOdY/fh\n",
              "FnqqiI0AAADZQZsKSahBbJlMCF///oywA1EosOV5MIzWyv2GLM1GBdtRgBl8w8iSe/sFJYap86B9\n",
              "BxEQ2rl3X1QC3DWOCFbm6MGVwi9ApjdgGMj7W/aZi7eadIPLheC11eJ4n7JJrtqxVdpsYd4RTIOV\n",
              "6Bn9gg4qzRS85i9apwtGdtIeGB9R62Bs3lPHtSuO/7B3fEGu3D6AWddpbypuCUoIELFOg/Gh+x1x\n",
              "6nabXlP8mLBc8V/tzZCgK/LDyAZA9kN+/itX5AEFastPTvXVchtrXwYI/v5NeM/fdEFboJ+LXQAA\n",
              "AFFBnyhFFSwj/wEN89V36Hss8LC7x5N4cxIAiurNnwK/EKobw4OOHPUibIOoWEzSjctw2Jj3jV1P\n",
              "TdcWqlJ6qvenj2x1ANcduqOz+QphGtodj3gAAAArAZ9HdEf/ANLheOMwzTjjN+r7/VNCNQhF/brr\n",
              "B743SFzNYyps8y6mJjlbQAAAADMBn0lqR/8BsLOEieLe8WF5CjGqKxQfwmhmjroQGrYweIotcIVK\n",
              "L0RywZ+8xTKkxNSo0YEAAACnQZtOSahBbJlMCF///oywA1SCtszuTRGIPWv3VwhZFfHcAt7gy3uH\n",
              "2AAob2Bgi3PsmHvJ8O0ZR6zwaPyrhf/7odNUS0vYMKsGwNeXO69q2kDifs8KSf1cQu7UmAbyFJrm\n",
              "yRPpyKDiNE7F+AypeMUhlkJ8hyyy8zKQnGrR0SHD1mPb9QKLMDu0DeXNcd9bDY5p8ySwhwH7LtMJ\n",
              "cgd3AuPP9w2Y6S8ORWwAAABXQZ9sRRUsI/8BDa8XIX9bjsSypmf20hrB3o7Rwm5BpHWtgoFXc7uS\n",
              "qnFDhZ6pbV3GP5ETUApZSON3FFxm7vLRGXUI2XIDX+eWg8G5NpO68VKhjbNW9IqAAAAAMwGfi3RH\n",
              "/wGv431fcv7Uw03n2FaUiVFBT35K0sirtokEmCwZeUZKZS0MyVWA6a6ooLAW0QAAADIBn41qR/8B\n",
              "sE3F7MpbUDpVs/DW3qAhJelf8bpalV45o1KH589CS2mpixQu9mFSZQh0QQAAALJBm5BJqEFsmUwU\n",
              "TDP//p4QA0cjxEAA2lSQ6hGbMXz6p6ZQfDMyQHxhzPntEyQJIdfF0DiQ+SOEni4m8us2C0/8Udyw\n",
              "emOIN2W2lMy9Lj4zU40GWDhQdSgc78KU5TXDu7EhkLuz5zTEDzkNZOeojbRde8k8FwC+tkpyLQ3P\n",
              "E6934jG/IO4nyfi3VSu7iqty7KBicfzA/ulAByn89V6DLH7a5D+o+VR4iz8efUXYFREmY/KXAAAA\n",
              "RAGfr2pH/wGwMUZy1LKTDLYhMvAUw2xX1ExNyKHbteTtmOgbY8UikuT9UzqjncsTdFSLKVtiao3G\n",
              "IIWw5X0NTuNozlfyAAAA2kGbtEnhClJlMCF//oywA1EpP0ippFPR9jwLg3zsNkua5wHfcUvq7QhI\n",
              "kQ/Tjrj/NhB3uDjNQsimrK+QxVoiDpWBTcgDrELhd0iki+CkIgZYh2Pd46Oe0LGI5zyuMD49kHgt\n",
              "5aERrIbgy6flOjXy5SS/1g/PO9aQeYkZla/4H9f6AOCLMXwHPwTBk1TKaCZIt3tz+mJCSG0nibRd\n",
              "ycFspdPGdKbSXTnZpCb+UdUVxj0rMVcPZYthe1OqnhyYs40ajDGZm0Z1bpzjPpkg/n9yMbQwvZOh\n",
              "T5hGUlXuAAAAN0Gf0kU0TCP/AQ23kwMT03fTItO+Ybi54a7YPtZLe3pkoNHCgjFsqywU80qJ+ln8\n",
              "X0vvYcxT8gsAAAAlAZ/xdEf/AaXCqXJ4Q8YXHQH5XQKBNEZOAYJ85+qRSi36bn9IuAAAAEMBn/Nq\n",
              "R/8BsDFGctE5QdJemzFpsuzGH0wrOtrboF/s7RzIX4Fjl0bLsccoC8VCXTO3B10+ReiecYdl2yyy\n",
              "tUsMTXH8AAAAyEGb+EmoQWiZTAhf//6MsANSka/i6aZakBRNVpNo6J1NCjwBEAXmOGeAqwjwGln7\n",
              "d1DKVRaEIeokQq1UGe9eVXPgT4gG7baqQ1ti+uJ8STpbt2RG1hALeNpXEWXuInf/5KoTcG5ircjz\n",
              "+Ko+94KUQSuzlZtjtIp4OMkRfJ+0RSouyh9JKSfMIKAEg+gGWuKfvURgb3oB3KE+mS1ZAGt65C5x\n",
              "fB+VYLU6vqKIF18/A+HikJbIF93324EBGUsHGa6c6R8u1nI6ixAhAAAAUEGeFkURLCP/AQ2AYsqX\n",
              "2rlIfNXWyBhcXzlMuZdsf7QDeOYdw1Xz+m4GWHsUYH74yanhRxlTZlqjlZBuoySqjNBRyggPIho6\n",
              "iNqO/n6H0y6wAAAAMwGeNXRH/wGw/OFb2ubmkJ/af9XWJPBcw7YXYwmCzHop/YW7MaFWdb4WI3GH\n",
              "EnJBbt+pWQAAADIBnjdqR/8BsDxmj2ybqPSvBbcVDHygpim73DFY8voKIODWSi3a0p/XDE9DQFyM\n",
              "1m5o4QAAAJlBmjxJqEFsmUwIX//+jLADUSqzI46wgKcZZ1zOnvNdnzNqlUrUVwA6Rzjes3e4pRf7\n",
              "dIJPTEQAthnEMkslfJGSD6JK6zQHqMKRwh0W5tsjG9djPQ6mQTRlfV/ePXDc7EHi/wpVP2A+VXbN\n",
              "p0Wh84DHlarDNDIAV+7nkq8t427MOhycHoxWLQzH7gxUbJCyCePgjvcEw1+Me0AAAAA4QZ5aRRUs\n",
              "I/8AgtrusykrqrK6Agokq6heZmqbkiO08MC/clTmuutQjlTRg2e11ynL6WBJrOBSEWUAAABIAZ55\n",
              "dEf/AbD67mRbU/QFcza2hcChmCqXKkdboMEzInMtbSYlMIALH23ivx4efZC7TpHodzjJYwE0AIVI\n",
              "WgWt+ngJOL3ahFvAAAAALgGee2pH/wGwlCE8jR9JOOWYLQG1kUC+jL3yEMRn4oBNp6wi0QLfUQ1T\n",
              "0YDvjukAAACAQZp/SahBbJlMCFf//jhADMwtEVwDooz7u1eXRPZbCMoAWSzpEO2dxTflHjtTsyA2\n",
              "wrfIvH064JBF81jbQE20aqr9FlNHnO9KM3a5Fd53hcDD/F4qtQx1i7lN8o6aFXu1Bpr640v/XOe5\n",
              "W2EC17fZSfXuAD3fwuNH4Js5OPA06UkAAAA5QZ6dRRUsI/8AQWy8DzcXU3dfu97P9oloQRHU24tF\n",
              "RC2Ew1XQLJr31uAaJOjTqMPPoMgqMNzwD5HdAAAAPQGevmpH/wGwPPrMpbVH92YbXT2+kcp2aay9\n",
              "nosCEAJPGuHJkIsxjpiwzsUaPt7gej8eYpM+g/NPVHGjMRMAAABLQZqjSahBbJlMCP/8hADCspQK\n",
              "jrqE9H0xj8Z8FM8KugX/aHnysesYuwslB6WmYpsibshJykxPed+RlDOc43+2kYn8rqkar+TEuwRN\n",
              "AAAAQUGewUUVLCP/AQ20yMO21NcKCCS44fpVz3EB8ERsbXfrdRvpUDTaX1nBWm+c0ABCVwAwOI6Y\n",
              "FFAF2q9Ydoq/KNSXAAAANgGe4HRH/wGv73NhIoelRKEsYh0pWz0Ga9qNDrwCBPqpHPJSYHf8KbTY\n",
              "zZyLr4BL22GZznPKIwAAAEIBnuJqR/8A00pOwRZ9zb4bdheqgM6iO2SdSgtXT1KK8REUgBPC+NTG\n",
              "sTFxuDaag1oyKn2asLMnhukLx7U5tJRSS5gAAAeebW9vdgAAAGxtdmhkAAAAAAAAAAAAAAAAAAAD\n",
              "6AAAB9AAAQAAAQAAAAAAAAAAAAAAAAEAAAAAAAAAAAAAAAAAAAABAAAAAAAAAAAAAAAAAABAAAAA\n",
              "AAAAAAAAAAAAAAAAAAAAAAAAAAAAAAAAAAAAAgAABsh0cmFrAAAAXHRraGQAAAADAAAAAAAAAAAA\n",
              "AAABAAAAAAAAB9AAAAAAAAAAAAAAAAAAAAAAAAEAAAAAAAAAAAAAAAAAAAABAAAAAAAAAAAAAAAA\n",
              "AABAAAAAAbAAAAEgAAAAAAAkZWR0cwAAABxlbHN0AAAAAAAAAAEAAAfQAAACAAABAAAAAAZAbWRp\n",
              "YQAAACBtZGhkAAAAAAAAAAAAAAAAAAAyAAAAZABVxAAAAAAALWhkbHIAAAAAAAAAAHZpZGUAAAAA\n",
              "AAAAAAAAAABWaWRlb0hhbmRsZXIAAAAF621pbmYAAAAUdm1oZAAAAAEAAAAAAAAAAAAAACRkaW5m\n",
              "AAAAHGRyZWYAAAAAAAAAAQAAAAx1cmwgAAAAAQAABatzdGJsAAAAs3N0c2QAAAAAAAAAAQAAAKNh\n",
              "dmMxAAAAAAAAAAEAAAAAAAAAAAAAAAAAAAAAAbABIABIAAAASAAAAAAAAAABAAAAAAAAAAAAAAAA\n",
              "AAAAAAAAAAAAAAAAAAAAAAAAAAAAGP//AAAAMWF2Y0MBZAAe/+EAGGdkAB6s2UGwloQAAAMABAAA\n",
              "AwGQPFi2WAEABmjr48siwAAAABx1dWlka2hA8l8kT8W6OaUbzwMj8wAAAAAAAAAYc3R0cwAAAAAA\n",
              "AAABAAAAZAAAAQAAAAAUc3RzcwAAAAAAAAABAAAAAQAAAvBjdHRzAAAAAAAAAFwAAAACAAACAAAA\n",
              "AAEAAAQAAAAAAgAAAQAAAAACAAACAAAAAAEAAAMAAAAAAQAAAQAAAAABAAADAAAAAAEAAAEAAAAA\n",
              "AQAABAAAAAACAAABAAAAAAEAAAQAAAAAAgAAAQAAAAABAAAEAAAAAAIAAAEAAAAAAQAABQAAAAAB\n",
              "AAACAAAAAAEAAAAAAAAAAQAAAQAAAAABAAAFAAAAAAEAAAIAAAAAAQAAAAAAAAABAAABAAAAAAEA\n",
              "AAUAAAAAAQAAAgAAAAABAAAAAAAAAAEAAAEAAAAAAQAABQAAAAABAAACAAAAAAEAAAAAAAAAAQAA\n",
              "AQAAAAABAAAFAAAAAAEAAAIAAAAAAQAAAAAAAAABAAABAAAAAAEAAAQAAAAAAgAAAQAAAAABAAAF\n",
              "AAAAAAEAAAIAAAAAAQAAAAAAAAABAAABAAAAAAEAAAUAAAAAAQAAAgAAAAABAAAAAAAAAAEAAAEA\n",
              "AAAAAQAABQAAAAABAAACAAAAAAEAAAAAAAAAAQAAAQAAAAABAAAFAAAAAAEAAAIAAAAAAQAAAAAA\n",
              "AAABAAABAAAAAAEAAAUAAAAAAQAAAgAAAAABAAAAAAAAAAEAAAEAAAAAAQAABQAAAAABAAACAAAA\n",
              "AAEAAAAAAAAAAQAAAQAAAAABAAAFAAAAAAEAAAIAAAAAAQAAAAAAAAABAAABAAAAAAEAAAUAAAAA\n",
              "AQAAAgAAAAABAAAAAAAAAAEAAAEAAAAAAQAABQAAAAABAAACAAAAAAEAAAAAAAAAAQAAAQAAAAAB\n",
              "AAADAAAAAAEAAAEAAAAAAQAABQAAAAABAAACAAAAAAEAAAAAAAAAAQAAAQAAAAABAAAFAAAAAAEA\n",
              "AAIAAAAAAQAAAAAAAAABAAABAAAAAAEAAAUAAAAAAQAAAgAAAAABAAAAAAAAAAEAAAEAAAAAAQAA\n",
              "BAAAAAACAAABAAAAAAEAAAUAAAAAAQAAAgAAAAABAAAAAAAAAAEAAAEAAAAAHHN0c2MAAAAAAAAA\n",
              "AQAAAAEAAABkAAAAAQAAAaRzdHN6AAAAAAAAAAAAAABkAAAQIAAAA14AAAOKAAAAqAAAAH4AAAFM\n",
              "AAABmQAAAbAAAABVAAABgwAAAFUAAAGVAAAASQAAACsAAAHJAAAAOgAAADMAAAGcAAAAPwAAADAA\n",
              "AAFgAAAATwAAADQAAAAyAAABfAAAAEkAAAAvAAAALQAAAVMAAABFAAAAMAAAACgAAAFOAAAAPQAA\n",
              "ACoAAAAsAAABfwAAAFAAAAAwAAAANQAAAUsAAAA6AAAAKAAAAcMAAABRAAAAPAAAACgAAAFOAAAA\n",
              "PAAAAC4AAAAkAAABbgAAAE4AAAAiAAAAQAAAAWwAAABGAAAAMwAAACgAAAFeAAAASwAAADkAAAAw\n",
              "AAABMQAAAEgAAAA1AAAAOQAAAT8AAABRAAAAJwAAADYAAADdAAAAVQAAAC8AAAA3AAAAqwAAAFsA\n",
              "AAA3AAAANgAAALYAAABIAAAA3gAAADsAAAApAAAARwAAAMwAAABUAAAANwAAADYAAACdAAAAPAAA\n",
              "AEwAAAAyAAAAhAAAAD0AAABBAAAATwAAAEUAAAA6AAAARgAAABRzdGNvAAAAAAAAAAEAAAAsAAAA\n",
              "YnVkdGEAAABabWV0YQAAAAAAAAAhaGRscgAAAAAAAAAAbWRpcmFwcGwAAAAAAAAAAAAAAAAtaWxz\n",
              "dAAAACWpdG9vAAAAHWRhdGEAAAABAAAAAExhdmY1Ny44My4xMDA=\n",
              "\">\n",
              "  Your browser does not support the video tag.\n",
              "</video>"
            ],
            "text/plain": [
              "<IPython.core.display.HTML object>"
            ]
          },
          "metadata": {
            "tags": []
          },
          "execution_count": 24
        }
      ]
    },
    {
      "cell_type": "markdown",
      "metadata": {
        "id": "EJKIRWEdXmS9",
        "colab_type": "text"
      },
      "source": [
        "# summary\n",
        "1. can visualize how the algorithm is working\n",
        "2. at each epochs the magnitude of weights are increasing\n",
        "     as the model get comples the weights become large +ve or -ve which leads to over fitting. but here nothing happend like that.\n"
      ]
    },
    {
      "cell_type": "code",
      "metadata": {
        "id": "w7PwylmDYiTN",
        "colab_type": "code",
        "colab": {}
      },
      "source": [
        ""
      ],
      "execution_count": 0,
      "outputs": []
    }
  ]
}