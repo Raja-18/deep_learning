{
  "nbformat": 4,
  "nbformat_minor": 0,
  "metadata": {
    "colab": {
      "name": "2_MPNeuron.ipynb",
      "provenance": []
    },
    "kernelspec": {
      "name": "python3",
      "display_name": "Python 3"
    }
  },
  "cells": [
    {
      "cell_type": "markdown",
      "metadata": {
        "id": "5xg-NV0oqw_3",
        "colab_type": "text"
      },
      "source": [
        "# MPNeuron "
      ]
    },
    {
      "cell_type": "code",
      "metadata": {
        "id": "7h6HiWQ88QCK",
        "colab_type": "code",
        "colab": {}
      },
      "source": [
        "import sklearn.datasets          # for datasets \n",
        "import numpy as np\n",
        "import pandas as pd"
      ],
      "execution_count": 0,
      "outputs": []
    },
    {
      "cell_type": "markdown",
      "metadata": {
        "id": "fRZC7YR3CZ6O",
        "colab_type": "text"
      },
      "source": [
        "### loading dataset from sklearn"
      ]
    },
    {
      "cell_type": "code",
      "metadata": {
        "id": "brF5dB2y8a4M",
        "colab_type": "code",
        "colab": {}
      },
      "source": [
        "breast_cancer = sklearn.datasets.load_breast_cancer()          #loading a paticular dataset from sklearn"
      ],
      "execution_count": 0,
      "outputs": []
    },
    {
      "cell_type": "code",
      "metadata": {
        "id": "U6P0YZRp8nH4",
        "colab_type": "code",
        "colab": {}
      },
      "source": [
        "x=breast_cancer.data         #it is the input (x)\n",
        "y=breast_cancer.target       #it is the true output (y)"
      ],
      "execution_count": 0,
      "outputs": []
    },
    {
      "cell_type": "code",
      "metadata": {
        "id": "6asXFpCo80wQ",
        "colab_type": "code",
        "outputId": "cdc96a4d-5ff2-44c7-a508-4a743f164cad",
        "colab": {
          "base_uri": "https://localhost:8080/",
          "height": 415
        }
      },
      "source": [
        "print(x)\n",
        "print(y)"
      ],
      "execution_count": 77,
      "outputs": [
        {
          "output_type": "stream",
          "text": [
            "[[1.799e+01 1.038e+01 1.228e+02 ... 2.654e-01 4.601e-01 1.189e-01]\n",
            " [2.057e+01 1.777e+01 1.329e+02 ... 1.860e-01 2.750e-01 8.902e-02]\n",
            " [1.969e+01 2.125e+01 1.300e+02 ... 2.430e-01 3.613e-01 8.758e-02]\n",
            " ...\n",
            " [1.660e+01 2.808e+01 1.083e+02 ... 1.418e-01 2.218e-01 7.820e-02]\n",
            " [2.060e+01 2.933e+01 1.401e+02 ... 2.650e-01 4.087e-01 1.240e-01]\n",
            " [7.760e+00 2.454e+01 4.792e+01 ... 0.000e+00 2.871e-01 7.039e-02]]\n",
            "[0 0 0 0 0 0 0 0 0 0 0 0 0 0 0 0 0 0 0 1 1 1 0 0 0 0 0 0 0 0 0 0 0 0 0 0 0\n",
            " 1 0 0 0 0 0 0 0 0 1 0 1 1 1 1 1 0 0 1 0 0 1 1 1 1 0 1 0 0 1 1 1 1 0 1 0 0\n",
            " 1 0 1 0 0 1 1 1 0 0 1 0 0 0 1 1 1 0 1 1 0 0 1 1 1 0 0 1 1 1 1 0 1 1 0 1 1\n",
            " 1 1 1 1 1 1 0 0 0 1 0 0 1 1 1 0 0 1 0 1 0 0 1 0 0 1 1 0 1 1 0 1 1 1 1 0 1\n",
            " 1 1 1 1 1 1 1 1 0 1 1 1 1 0 0 1 0 1 1 0 0 1 1 0 0 1 1 1 1 0 1 1 0 0 0 1 0\n",
            " 1 0 1 1 1 0 1 1 0 0 1 0 0 0 0 1 0 0 0 1 0 1 0 1 1 0 1 0 0 0 0 1 1 0 0 1 1\n",
            " 1 0 1 1 1 1 1 0 0 1 1 0 1 1 0 0 1 0 1 1 1 1 0 1 1 1 1 1 0 1 0 0 0 0 0 0 0\n",
            " 0 0 0 0 0 0 0 1 1 1 1 1 1 0 1 0 1 1 0 1 1 0 1 0 0 1 1 1 1 1 1 1 1 1 1 1 1\n",
            " 1 0 1 1 0 1 0 1 1 1 1 1 1 1 1 1 1 1 1 1 1 0 1 1 1 0 1 0 1 1 1 1 0 0 0 1 1\n",
            " 1 1 0 1 0 1 0 1 1 1 0 1 1 1 1 1 1 1 0 0 0 1 1 1 1 1 1 1 1 1 1 1 0 0 1 0 0\n",
            " 0 1 0 0 1 1 1 1 1 0 1 1 1 1 1 0 1 1 1 0 1 1 0 0 1 1 1 1 1 1 0 1 1 1 1 1 1\n",
            " 1 0 1 1 1 1 1 0 1 1 0 1 1 1 1 1 1 1 1 1 1 1 1 0 1 0 0 1 0 1 1 1 1 1 0 1 1\n",
            " 0 1 0 1 1 0 1 0 1 1 1 1 1 1 1 1 0 0 1 1 1 1 1 1 0 1 1 1 1 1 1 1 1 1 1 0 1\n",
            " 1 1 1 1 1 1 0 1 0 1 1 0 1 1 1 1 1 0 0 1 0 1 0 1 1 1 1 1 0 1 1 0 1 0 1 0 0\n",
            " 1 1 1 0 1 1 1 1 1 1 1 1 1 1 1 0 1 0 0 1 1 1 1 1 1 1 1 1 1 1 1 1 1 1 1 1 1\n",
            " 1 1 1 1 1 1 1 0 0 0 0 0 0 1]\n"
          ],
          "name": "stdout"
        }
      ]
    },
    {
      "cell_type": "code",
      "metadata": {
        "id": "jCvvQple843I",
        "colab_type": "code",
        "outputId": "e487e434-564c-44cc-c2ae-221e1508f0fd",
        "colab": {
          "base_uri": "https://localhost:8080/",
          "height": 34
        }
      },
      "source": [
        "print(x.shape, y.shape)   "
      ],
      "execution_count": 78,
      "outputs": [
        {
          "output_type": "stream",
          "text": [
            "(569, 30) (569,)\n"
          ],
          "name": "stdout"
        }
      ]
    },
    {
      "cell_type": "code",
      "metadata": {
        "id": "lioVryJD8_FB",
        "colab_type": "code",
        "colab": {}
      },
      "source": [
        "data=pd.DataFrame(breast_cancer.data, columns=breast_cancer.feature_names)          # converting the dataframe into pandas formate"
      ],
      "execution_count": 0,
      "outputs": []
    },
    {
      "cell_type": "markdown",
      "metadata": {
        "id": "K0I62kplC5JQ",
        "colab_type": "text"
      },
      "source": [
        "### creating column in pandas"
      ]
    },
    {
      "cell_type": "code",
      "metadata": {
        "id": "-lmY1hAJ9N2R",
        "colab_type": "code",
        "colab": {}
      },
      "source": [
        "data['class']=breast_cancer.target                              # creates the column for true_output (y)"
      ],
      "execution_count": 0,
      "outputs": []
    },
    {
      "cell_type": "code",
      "metadata": {
        "id": "nt2osYYz9SuA",
        "colab_type": "code",
        "outputId": "79bee5de-674d-4df5-f26a-d3f7068a2933",
        "colab": {
          "base_uri": "https://localhost:8080/",
          "height": 253
        }
      },
      "source": [
        "data.head()"
      ],
      "execution_count": 81,
      "outputs": [
        {
          "output_type": "execute_result",
          "data": {
            "text/html": [
              "<div>\n",
              "<style scoped>\n",
              "    .dataframe tbody tr th:only-of-type {\n",
              "        vertical-align: middle;\n",
              "    }\n",
              "\n",
              "    .dataframe tbody tr th {\n",
              "        vertical-align: top;\n",
              "    }\n",
              "\n",
              "    .dataframe thead th {\n",
              "        text-align: right;\n",
              "    }\n",
              "</style>\n",
              "<table border=\"1\" class=\"dataframe\">\n",
              "  <thead>\n",
              "    <tr style=\"text-align: right;\">\n",
              "      <th></th>\n",
              "      <th>mean radius</th>\n",
              "      <th>mean texture</th>\n",
              "      <th>mean perimeter</th>\n",
              "      <th>mean area</th>\n",
              "      <th>mean smoothness</th>\n",
              "      <th>mean compactness</th>\n",
              "      <th>mean concavity</th>\n",
              "      <th>mean concave points</th>\n",
              "      <th>mean symmetry</th>\n",
              "      <th>mean fractal dimension</th>\n",
              "      <th>radius error</th>\n",
              "      <th>texture error</th>\n",
              "      <th>perimeter error</th>\n",
              "      <th>area error</th>\n",
              "      <th>smoothness error</th>\n",
              "      <th>compactness error</th>\n",
              "      <th>concavity error</th>\n",
              "      <th>concave points error</th>\n",
              "      <th>symmetry error</th>\n",
              "      <th>fractal dimension error</th>\n",
              "      <th>worst radius</th>\n",
              "      <th>worst texture</th>\n",
              "      <th>worst perimeter</th>\n",
              "      <th>worst area</th>\n",
              "      <th>worst smoothness</th>\n",
              "      <th>worst compactness</th>\n",
              "      <th>worst concavity</th>\n",
              "      <th>worst concave points</th>\n",
              "      <th>worst symmetry</th>\n",
              "      <th>worst fractal dimension</th>\n",
              "      <th>class</th>\n",
              "    </tr>\n",
              "  </thead>\n",
              "  <tbody>\n",
              "    <tr>\n",
              "      <th>0</th>\n",
              "      <td>17.99</td>\n",
              "      <td>10.38</td>\n",
              "      <td>122.80</td>\n",
              "      <td>1001.0</td>\n",
              "      <td>0.11840</td>\n",
              "      <td>0.27760</td>\n",
              "      <td>0.3001</td>\n",
              "      <td>0.14710</td>\n",
              "      <td>0.2419</td>\n",
              "      <td>0.07871</td>\n",
              "      <td>1.0950</td>\n",
              "      <td>0.9053</td>\n",
              "      <td>8.589</td>\n",
              "      <td>153.40</td>\n",
              "      <td>0.006399</td>\n",
              "      <td>0.04904</td>\n",
              "      <td>0.05373</td>\n",
              "      <td>0.01587</td>\n",
              "      <td>0.03003</td>\n",
              "      <td>0.006193</td>\n",
              "      <td>25.38</td>\n",
              "      <td>17.33</td>\n",
              "      <td>184.60</td>\n",
              "      <td>2019.0</td>\n",
              "      <td>0.1622</td>\n",
              "      <td>0.6656</td>\n",
              "      <td>0.7119</td>\n",
              "      <td>0.2654</td>\n",
              "      <td>0.4601</td>\n",
              "      <td>0.11890</td>\n",
              "      <td>0</td>\n",
              "    </tr>\n",
              "    <tr>\n",
              "      <th>1</th>\n",
              "      <td>20.57</td>\n",
              "      <td>17.77</td>\n",
              "      <td>132.90</td>\n",
              "      <td>1326.0</td>\n",
              "      <td>0.08474</td>\n",
              "      <td>0.07864</td>\n",
              "      <td>0.0869</td>\n",
              "      <td>0.07017</td>\n",
              "      <td>0.1812</td>\n",
              "      <td>0.05667</td>\n",
              "      <td>0.5435</td>\n",
              "      <td>0.7339</td>\n",
              "      <td>3.398</td>\n",
              "      <td>74.08</td>\n",
              "      <td>0.005225</td>\n",
              "      <td>0.01308</td>\n",
              "      <td>0.01860</td>\n",
              "      <td>0.01340</td>\n",
              "      <td>0.01389</td>\n",
              "      <td>0.003532</td>\n",
              "      <td>24.99</td>\n",
              "      <td>23.41</td>\n",
              "      <td>158.80</td>\n",
              "      <td>1956.0</td>\n",
              "      <td>0.1238</td>\n",
              "      <td>0.1866</td>\n",
              "      <td>0.2416</td>\n",
              "      <td>0.1860</td>\n",
              "      <td>0.2750</td>\n",
              "      <td>0.08902</td>\n",
              "      <td>0</td>\n",
              "    </tr>\n",
              "    <tr>\n",
              "      <th>2</th>\n",
              "      <td>19.69</td>\n",
              "      <td>21.25</td>\n",
              "      <td>130.00</td>\n",
              "      <td>1203.0</td>\n",
              "      <td>0.10960</td>\n",
              "      <td>0.15990</td>\n",
              "      <td>0.1974</td>\n",
              "      <td>0.12790</td>\n",
              "      <td>0.2069</td>\n",
              "      <td>0.05999</td>\n",
              "      <td>0.7456</td>\n",
              "      <td>0.7869</td>\n",
              "      <td>4.585</td>\n",
              "      <td>94.03</td>\n",
              "      <td>0.006150</td>\n",
              "      <td>0.04006</td>\n",
              "      <td>0.03832</td>\n",
              "      <td>0.02058</td>\n",
              "      <td>0.02250</td>\n",
              "      <td>0.004571</td>\n",
              "      <td>23.57</td>\n",
              "      <td>25.53</td>\n",
              "      <td>152.50</td>\n",
              "      <td>1709.0</td>\n",
              "      <td>0.1444</td>\n",
              "      <td>0.4245</td>\n",
              "      <td>0.4504</td>\n",
              "      <td>0.2430</td>\n",
              "      <td>0.3613</td>\n",
              "      <td>0.08758</td>\n",
              "      <td>0</td>\n",
              "    </tr>\n",
              "    <tr>\n",
              "      <th>3</th>\n",
              "      <td>11.42</td>\n",
              "      <td>20.38</td>\n",
              "      <td>77.58</td>\n",
              "      <td>386.1</td>\n",
              "      <td>0.14250</td>\n",
              "      <td>0.28390</td>\n",
              "      <td>0.2414</td>\n",
              "      <td>0.10520</td>\n",
              "      <td>0.2597</td>\n",
              "      <td>0.09744</td>\n",
              "      <td>0.4956</td>\n",
              "      <td>1.1560</td>\n",
              "      <td>3.445</td>\n",
              "      <td>27.23</td>\n",
              "      <td>0.009110</td>\n",
              "      <td>0.07458</td>\n",
              "      <td>0.05661</td>\n",
              "      <td>0.01867</td>\n",
              "      <td>0.05963</td>\n",
              "      <td>0.009208</td>\n",
              "      <td>14.91</td>\n",
              "      <td>26.50</td>\n",
              "      <td>98.87</td>\n",
              "      <td>567.7</td>\n",
              "      <td>0.2098</td>\n",
              "      <td>0.8663</td>\n",
              "      <td>0.6869</td>\n",
              "      <td>0.2575</td>\n",
              "      <td>0.6638</td>\n",
              "      <td>0.17300</td>\n",
              "      <td>0</td>\n",
              "    </tr>\n",
              "    <tr>\n",
              "      <th>4</th>\n",
              "      <td>20.29</td>\n",
              "      <td>14.34</td>\n",
              "      <td>135.10</td>\n",
              "      <td>1297.0</td>\n",
              "      <td>0.10030</td>\n",
              "      <td>0.13280</td>\n",
              "      <td>0.1980</td>\n",
              "      <td>0.10430</td>\n",
              "      <td>0.1809</td>\n",
              "      <td>0.05883</td>\n",
              "      <td>0.7572</td>\n",
              "      <td>0.7813</td>\n",
              "      <td>5.438</td>\n",
              "      <td>94.44</td>\n",
              "      <td>0.011490</td>\n",
              "      <td>0.02461</td>\n",
              "      <td>0.05688</td>\n",
              "      <td>0.01885</td>\n",
              "      <td>0.01756</td>\n",
              "      <td>0.005115</td>\n",
              "      <td>22.54</td>\n",
              "      <td>16.67</td>\n",
              "      <td>152.20</td>\n",
              "      <td>1575.0</td>\n",
              "      <td>0.1374</td>\n",
              "      <td>0.2050</td>\n",
              "      <td>0.4000</td>\n",
              "      <td>0.1625</td>\n",
              "      <td>0.2364</td>\n",
              "      <td>0.07678</td>\n",
              "      <td>0</td>\n",
              "    </tr>\n",
              "  </tbody>\n",
              "</table>\n",
              "</div>"
            ],
            "text/plain": [
              "   mean radius  mean texture  ...  worst fractal dimension  class\n",
              "0        17.99         10.38  ...                  0.11890      0\n",
              "1        20.57         17.77  ...                  0.08902      0\n",
              "2        19.69         21.25  ...                  0.08758      0\n",
              "3        11.42         20.38  ...                  0.17300      0\n",
              "4        20.29         14.34  ...                  0.07678      0\n",
              "\n",
              "[5 rows x 31 columns]"
            ]
          },
          "metadata": {
            "tags": []
          },
          "execution_count": 81
        }
      ]
    },
    {
      "cell_type": "code",
      "metadata": {
        "id": "qFS9p19n9T24",
        "colab_type": "code",
        "outputId": "7d9fe623-c70d-440f-95d4-60d2fdd7fded",
        "colab": {
          "base_uri": "https://localhost:8080/",
          "height": 343
        }
      },
      "source": [
        "data.describe()"
      ],
      "execution_count": 82,
      "outputs": [
        {
          "output_type": "execute_result",
          "data": {
            "text/html": [
              "<div>\n",
              "<style scoped>\n",
              "    .dataframe tbody tr th:only-of-type {\n",
              "        vertical-align: middle;\n",
              "    }\n",
              "\n",
              "    .dataframe tbody tr th {\n",
              "        vertical-align: top;\n",
              "    }\n",
              "\n",
              "    .dataframe thead th {\n",
              "        text-align: right;\n",
              "    }\n",
              "</style>\n",
              "<table border=\"1\" class=\"dataframe\">\n",
              "  <thead>\n",
              "    <tr style=\"text-align: right;\">\n",
              "      <th></th>\n",
              "      <th>mean radius</th>\n",
              "      <th>mean texture</th>\n",
              "      <th>mean perimeter</th>\n",
              "      <th>mean area</th>\n",
              "      <th>mean smoothness</th>\n",
              "      <th>mean compactness</th>\n",
              "      <th>mean concavity</th>\n",
              "      <th>mean concave points</th>\n",
              "      <th>mean symmetry</th>\n",
              "      <th>mean fractal dimension</th>\n",
              "      <th>radius error</th>\n",
              "      <th>texture error</th>\n",
              "      <th>perimeter error</th>\n",
              "      <th>area error</th>\n",
              "      <th>smoothness error</th>\n",
              "      <th>compactness error</th>\n",
              "      <th>concavity error</th>\n",
              "      <th>concave points error</th>\n",
              "      <th>symmetry error</th>\n",
              "      <th>fractal dimension error</th>\n",
              "      <th>worst radius</th>\n",
              "      <th>worst texture</th>\n",
              "      <th>worst perimeter</th>\n",
              "      <th>worst area</th>\n",
              "      <th>worst smoothness</th>\n",
              "      <th>worst compactness</th>\n",
              "      <th>worst concavity</th>\n",
              "      <th>worst concave points</th>\n",
              "      <th>worst symmetry</th>\n",
              "      <th>worst fractal dimension</th>\n",
              "      <th>class</th>\n",
              "    </tr>\n",
              "  </thead>\n",
              "  <tbody>\n",
              "    <tr>\n",
              "      <th>count</th>\n",
              "      <td>569.000000</td>\n",
              "      <td>569.000000</td>\n",
              "      <td>569.000000</td>\n",
              "      <td>569.000000</td>\n",
              "      <td>569.000000</td>\n",
              "      <td>569.000000</td>\n",
              "      <td>569.000000</td>\n",
              "      <td>569.000000</td>\n",
              "      <td>569.000000</td>\n",
              "      <td>569.000000</td>\n",
              "      <td>569.000000</td>\n",
              "      <td>569.000000</td>\n",
              "      <td>569.000000</td>\n",
              "      <td>569.000000</td>\n",
              "      <td>569.000000</td>\n",
              "      <td>569.000000</td>\n",
              "      <td>569.000000</td>\n",
              "      <td>569.000000</td>\n",
              "      <td>569.000000</td>\n",
              "      <td>569.000000</td>\n",
              "      <td>569.000000</td>\n",
              "      <td>569.000000</td>\n",
              "      <td>569.000000</td>\n",
              "      <td>569.000000</td>\n",
              "      <td>569.000000</td>\n",
              "      <td>569.000000</td>\n",
              "      <td>569.000000</td>\n",
              "      <td>569.000000</td>\n",
              "      <td>569.000000</td>\n",
              "      <td>569.000000</td>\n",
              "      <td>569.000000</td>\n",
              "    </tr>\n",
              "    <tr>\n",
              "      <th>mean</th>\n",
              "      <td>14.127292</td>\n",
              "      <td>19.289649</td>\n",
              "      <td>91.969033</td>\n",
              "      <td>654.889104</td>\n",
              "      <td>0.096360</td>\n",
              "      <td>0.104341</td>\n",
              "      <td>0.088799</td>\n",
              "      <td>0.048919</td>\n",
              "      <td>0.181162</td>\n",
              "      <td>0.062798</td>\n",
              "      <td>0.405172</td>\n",
              "      <td>1.216853</td>\n",
              "      <td>2.866059</td>\n",
              "      <td>40.337079</td>\n",
              "      <td>0.007041</td>\n",
              "      <td>0.025478</td>\n",
              "      <td>0.031894</td>\n",
              "      <td>0.011796</td>\n",
              "      <td>0.020542</td>\n",
              "      <td>0.003795</td>\n",
              "      <td>16.269190</td>\n",
              "      <td>25.677223</td>\n",
              "      <td>107.261213</td>\n",
              "      <td>880.583128</td>\n",
              "      <td>0.132369</td>\n",
              "      <td>0.254265</td>\n",
              "      <td>0.272188</td>\n",
              "      <td>0.114606</td>\n",
              "      <td>0.290076</td>\n",
              "      <td>0.083946</td>\n",
              "      <td>0.627417</td>\n",
              "    </tr>\n",
              "    <tr>\n",
              "      <th>std</th>\n",
              "      <td>3.524049</td>\n",
              "      <td>4.301036</td>\n",
              "      <td>24.298981</td>\n",
              "      <td>351.914129</td>\n",
              "      <td>0.014064</td>\n",
              "      <td>0.052813</td>\n",
              "      <td>0.079720</td>\n",
              "      <td>0.038803</td>\n",
              "      <td>0.027414</td>\n",
              "      <td>0.007060</td>\n",
              "      <td>0.277313</td>\n",
              "      <td>0.551648</td>\n",
              "      <td>2.021855</td>\n",
              "      <td>45.491006</td>\n",
              "      <td>0.003003</td>\n",
              "      <td>0.017908</td>\n",
              "      <td>0.030186</td>\n",
              "      <td>0.006170</td>\n",
              "      <td>0.008266</td>\n",
              "      <td>0.002646</td>\n",
              "      <td>4.833242</td>\n",
              "      <td>6.146258</td>\n",
              "      <td>33.602542</td>\n",
              "      <td>569.356993</td>\n",
              "      <td>0.022832</td>\n",
              "      <td>0.157336</td>\n",
              "      <td>0.208624</td>\n",
              "      <td>0.065732</td>\n",
              "      <td>0.061867</td>\n",
              "      <td>0.018061</td>\n",
              "      <td>0.483918</td>\n",
              "    </tr>\n",
              "    <tr>\n",
              "      <th>min</th>\n",
              "      <td>6.981000</td>\n",
              "      <td>9.710000</td>\n",
              "      <td>43.790000</td>\n",
              "      <td>143.500000</td>\n",
              "      <td>0.052630</td>\n",
              "      <td>0.019380</td>\n",
              "      <td>0.000000</td>\n",
              "      <td>0.000000</td>\n",
              "      <td>0.106000</td>\n",
              "      <td>0.049960</td>\n",
              "      <td>0.111500</td>\n",
              "      <td>0.360200</td>\n",
              "      <td>0.757000</td>\n",
              "      <td>6.802000</td>\n",
              "      <td>0.001713</td>\n",
              "      <td>0.002252</td>\n",
              "      <td>0.000000</td>\n",
              "      <td>0.000000</td>\n",
              "      <td>0.007882</td>\n",
              "      <td>0.000895</td>\n",
              "      <td>7.930000</td>\n",
              "      <td>12.020000</td>\n",
              "      <td>50.410000</td>\n",
              "      <td>185.200000</td>\n",
              "      <td>0.071170</td>\n",
              "      <td>0.027290</td>\n",
              "      <td>0.000000</td>\n",
              "      <td>0.000000</td>\n",
              "      <td>0.156500</td>\n",
              "      <td>0.055040</td>\n",
              "      <td>0.000000</td>\n",
              "    </tr>\n",
              "    <tr>\n",
              "      <th>25%</th>\n",
              "      <td>11.700000</td>\n",
              "      <td>16.170000</td>\n",
              "      <td>75.170000</td>\n",
              "      <td>420.300000</td>\n",
              "      <td>0.086370</td>\n",
              "      <td>0.064920</td>\n",
              "      <td>0.029560</td>\n",
              "      <td>0.020310</td>\n",
              "      <td>0.161900</td>\n",
              "      <td>0.057700</td>\n",
              "      <td>0.232400</td>\n",
              "      <td>0.833900</td>\n",
              "      <td>1.606000</td>\n",
              "      <td>17.850000</td>\n",
              "      <td>0.005169</td>\n",
              "      <td>0.013080</td>\n",
              "      <td>0.015090</td>\n",
              "      <td>0.007638</td>\n",
              "      <td>0.015160</td>\n",
              "      <td>0.002248</td>\n",
              "      <td>13.010000</td>\n",
              "      <td>21.080000</td>\n",
              "      <td>84.110000</td>\n",
              "      <td>515.300000</td>\n",
              "      <td>0.116600</td>\n",
              "      <td>0.147200</td>\n",
              "      <td>0.114500</td>\n",
              "      <td>0.064930</td>\n",
              "      <td>0.250400</td>\n",
              "      <td>0.071460</td>\n",
              "      <td>0.000000</td>\n",
              "    </tr>\n",
              "    <tr>\n",
              "      <th>50%</th>\n",
              "      <td>13.370000</td>\n",
              "      <td>18.840000</td>\n",
              "      <td>86.240000</td>\n",
              "      <td>551.100000</td>\n",
              "      <td>0.095870</td>\n",
              "      <td>0.092630</td>\n",
              "      <td>0.061540</td>\n",
              "      <td>0.033500</td>\n",
              "      <td>0.179200</td>\n",
              "      <td>0.061540</td>\n",
              "      <td>0.324200</td>\n",
              "      <td>1.108000</td>\n",
              "      <td>2.287000</td>\n",
              "      <td>24.530000</td>\n",
              "      <td>0.006380</td>\n",
              "      <td>0.020450</td>\n",
              "      <td>0.025890</td>\n",
              "      <td>0.010930</td>\n",
              "      <td>0.018730</td>\n",
              "      <td>0.003187</td>\n",
              "      <td>14.970000</td>\n",
              "      <td>25.410000</td>\n",
              "      <td>97.660000</td>\n",
              "      <td>686.500000</td>\n",
              "      <td>0.131300</td>\n",
              "      <td>0.211900</td>\n",
              "      <td>0.226700</td>\n",
              "      <td>0.099930</td>\n",
              "      <td>0.282200</td>\n",
              "      <td>0.080040</td>\n",
              "      <td>1.000000</td>\n",
              "    </tr>\n",
              "    <tr>\n",
              "      <th>75%</th>\n",
              "      <td>15.780000</td>\n",
              "      <td>21.800000</td>\n",
              "      <td>104.100000</td>\n",
              "      <td>782.700000</td>\n",
              "      <td>0.105300</td>\n",
              "      <td>0.130400</td>\n",
              "      <td>0.130700</td>\n",
              "      <td>0.074000</td>\n",
              "      <td>0.195700</td>\n",
              "      <td>0.066120</td>\n",
              "      <td>0.478900</td>\n",
              "      <td>1.474000</td>\n",
              "      <td>3.357000</td>\n",
              "      <td>45.190000</td>\n",
              "      <td>0.008146</td>\n",
              "      <td>0.032450</td>\n",
              "      <td>0.042050</td>\n",
              "      <td>0.014710</td>\n",
              "      <td>0.023480</td>\n",
              "      <td>0.004558</td>\n",
              "      <td>18.790000</td>\n",
              "      <td>29.720000</td>\n",
              "      <td>125.400000</td>\n",
              "      <td>1084.000000</td>\n",
              "      <td>0.146000</td>\n",
              "      <td>0.339100</td>\n",
              "      <td>0.382900</td>\n",
              "      <td>0.161400</td>\n",
              "      <td>0.317900</td>\n",
              "      <td>0.092080</td>\n",
              "      <td>1.000000</td>\n",
              "    </tr>\n",
              "    <tr>\n",
              "      <th>max</th>\n",
              "      <td>28.110000</td>\n",
              "      <td>39.280000</td>\n",
              "      <td>188.500000</td>\n",
              "      <td>2501.000000</td>\n",
              "      <td>0.163400</td>\n",
              "      <td>0.345400</td>\n",
              "      <td>0.426800</td>\n",
              "      <td>0.201200</td>\n",
              "      <td>0.304000</td>\n",
              "      <td>0.097440</td>\n",
              "      <td>2.873000</td>\n",
              "      <td>4.885000</td>\n",
              "      <td>21.980000</td>\n",
              "      <td>542.200000</td>\n",
              "      <td>0.031130</td>\n",
              "      <td>0.135400</td>\n",
              "      <td>0.396000</td>\n",
              "      <td>0.052790</td>\n",
              "      <td>0.078950</td>\n",
              "      <td>0.029840</td>\n",
              "      <td>36.040000</td>\n",
              "      <td>49.540000</td>\n",
              "      <td>251.200000</td>\n",
              "      <td>4254.000000</td>\n",
              "      <td>0.222600</td>\n",
              "      <td>1.058000</td>\n",
              "      <td>1.252000</td>\n",
              "      <td>0.291000</td>\n",
              "      <td>0.663800</td>\n",
              "      <td>0.207500</td>\n",
              "      <td>1.000000</td>\n",
              "    </tr>\n",
              "  </tbody>\n",
              "</table>\n",
              "</div>"
            ],
            "text/plain": [
              "       mean radius  mean texture  ...  worst fractal dimension       class\n",
              "count   569.000000    569.000000  ...               569.000000  569.000000\n",
              "mean     14.127292     19.289649  ...                 0.083946    0.627417\n",
              "std       3.524049      4.301036  ...                 0.018061    0.483918\n",
              "min       6.981000      9.710000  ...                 0.055040    0.000000\n",
              "25%      11.700000     16.170000  ...                 0.071460    0.000000\n",
              "50%      13.370000     18.840000  ...                 0.080040    1.000000\n",
              "75%      15.780000     21.800000  ...                 0.092080    1.000000\n",
              "max      28.110000     39.280000  ...                 0.207500    1.000000\n",
              "\n",
              "[8 rows x 31 columns]"
            ]
          },
          "metadata": {
            "tags": []
          },
          "execution_count": 82
        }
      ]
    },
    {
      "cell_type": "code",
      "metadata": {
        "id": "AkP1s-Sr9b7o",
        "colab_type": "code",
        "outputId": "05bc853b-26a1-4302-9b09-95cc45ea6ec5",
        "colab": {
          "base_uri": "https://localhost:8080/",
          "height": 69
        }
      },
      "source": [
        "print(data['class'].value_counts())     "
      ],
      "execution_count": 83,
      "outputs": [
        {
          "output_type": "stream",
          "text": [
            "1    357\n",
            "0    212\n",
            "Name: class, dtype: int64\n"
          ],
          "name": "stdout"
        }
      ]
    },
    {
      "cell_type": "code",
      "metadata": {
        "id": "UcFsGYEx9mng",
        "colab_type": "code",
        "outputId": "39788461-a292-4673-befe-145cf9c9d49c",
        "colab": {
          "base_uri": "https://localhost:8080/",
          "height": 34
        }
      },
      "source": [
        "print(breast_cancer.target_names)       #( malignant means there is cancer )  (benign means no)"
      ],
      "execution_count": 84,
      "outputs": [
        {
          "output_type": "stream",
          "text": [
            "['malignant' 'benign']\n"
          ],
          "name": "stdout"
        }
      ]
    },
    {
      "cell_type": "code",
      "metadata": {
        "id": "NfU7I3BE9rHe",
        "colab_type": "code",
        "outputId": "fae4033e-1fca-4099-9a83-7c7f6ed53de0",
        "colab": {
          "base_uri": "https://localhost:8080/",
          "height": 193
        }
      },
      "source": [
        "data.groupby('class').mean()"
      ],
      "execution_count": 85,
      "outputs": [
        {
          "output_type": "execute_result",
          "data": {
            "text/html": [
              "<div>\n",
              "<style scoped>\n",
              "    .dataframe tbody tr th:only-of-type {\n",
              "        vertical-align: middle;\n",
              "    }\n",
              "\n",
              "    .dataframe tbody tr th {\n",
              "        vertical-align: top;\n",
              "    }\n",
              "\n",
              "    .dataframe thead th {\n",
              "        text-align: right;\n",
              "    }\n",
              "</style>\n",
              "<table border=\"1\" class=\"dataframe\">\n",
              "  <thead>\n",
              "    <tr style=\"text-align: right;\">\n",
              "      <th></th>\n",
              "      <th>mean radius</th>\n",
              "      <th>mean texture</th>\n",
              "      <th>mean perimeter</th>\n",
              "      <th>mean area</th>\n",
              "      <th>mean smoothness</th>\n",
              "      <th>mean compactness</th>\n",
              "      <th>mean concavity</th>\n",
              "      <th>mean concave points</th>\n",
              "      <th>mean symmetry</th>\n",
              "      <th>mean fractal dimension</th>\n",
              "      <th>radius error</th>\n",
              "      <th>texture error</th>\n",
              "      <th>perimeter error</th>\n",
              "      <th>area error</th>\n",
              "      <th>smoothness error</th>\n",
              "      <th>compactness error</th>\n",
              "      <th>concavity error</th>\n",
              "      <th>concave points error</th>\n",
              "      <th>symmetry error</th>\n",
              "      <th>fractal dimension error</th>\n",
              "      <th>worst radius</th>\n",
              "      <th>worst texture</th>\n",
              "      <th>worst perimeter</th>\n",
              "      <th>worst area</th>\n",
              "      <th>worst smoothness</th>\n",
              "      <th>worst compactness</th>\n",
              "      <th>worst concavity</th>\n",
              "      <th>worst concave points</th>\n",
              "      <th>worst symmetry</th>\n",
              "      <th>worst fractal dimension</th>\n",
              "    </tr>\n",
              "    <tr>\n",
              "      <th>class</th>\n",
              "      <th></th>\n",
              "      <th></th>\n",
              "      <th></th>\n",
              "      <th></th>\n",
              "      <th></th>\n",
              "      <th></th>\n",
              "      <th></th>\n",
              "      <th></th>\n",
              "      <th></th>\n",
              "      <th></th>\n",
              "      <th></th>\n",
              "      <th></th>\n",
              "      <th></th>\n",
              "      <th></th>\n",
              "      <th></th>\n",
              "      <th></th>\n",
              "      <th></th>\n",
              "      <th></th>\n",
              "      <th></th>\n",
              "      <th></th>\n",
              "      <th></th>\n",
              "      <th></th>\n",
              "      <th></th>\n",
              "      <th></th>\n",
              "      <th></th>\n",
              "      <th></th>\n",
              "      <th></th>\n",
              "      <th></th>\n",
              "      <th></th>\n",
              "      <th></th>\n",
              "    </tr>\n",
              "  </thead>\n",
              "  <tbody>\n",
              "    <tr>\n",
              "      <th>0</th>\n",
              "      <td>17.462830</td>\n",
              "      <td>21.604906</td>\n",
              "      <td>115.365377</td>\n",
              "      <td>978.376415</td>\n",
              "      <td>0.102898</td>\n",
              "      <td>0.145188</td>\n",
              "      <td>0.160775</td>\n",
              "      <td>0.087990</td>\n",
              "      <td>0.192909</td>\n",
              "      <td>0.062680</td>\n",
              "      <td>0.609083</td>\n",
              "      <td>1.210915</td>\n",
              "      <td>4.323929</td>\n",
              "      <td>72.672406</td>\n",
              "      <td>0.006780</td>\n",
              "      <td>0.032281</td>\n",
              "      <td>0.041824</td>\n",
              "      <td>0.015060</td>\n",
              "      <td>0.020472</td>\n",
              "      <td>0.004062</td>\n",
              "      <td>21.134811</td>\n",
              "      <td>29.318208</td>\n",
              "      <td>141.370330</td>\n",
              "      <td>1422.286321</td>\n",
              "      <td>0.144845</td>\n",
              "      <td>0.374824</td>\n",
              "      <td>0.450606</td>\n",
              "      <td>0.182237</td>\n",
              "      <td>0.323468</td>\n",
              "      <td>0.091530</td>\n",
              "    </tr>\n",
              "    <tr>\n",
              "      <th>1</th>\n",
              "      <td>12.146524</td>\n",
              "      <td>17.914762</td>\n",
              "      <td>78.075406</td>\n",
              "      <td>462.790196</td>\n",
              "      <td>0.092478</td>\n",
              "      <td>0.080085</td>\n",
              "      <td>0.046058</td>\n",
              "      <td>0.025717</td>\n",
              "      <td>0.174186</td>\n",
              "      <td>0.062867</td>\n",
              "      <td>0.284082</td>\n",
              "      <td>1.220380</td>\n",
              "      <td>2.000321</td>\n",
              "      <td>21.135148</td>\n",
              "      <td>0.007196</td>\n",
              "      <td>0.021438</td>\n",
              "      <td>0.025997</td>\n",
              "      <td>0.009858</td>\n",
              "      <td>0.020584</td>\n",
              "      <td>0.003636</td>\n",
              "      <td>13.379801</td>\n",
              "      <td>23.515070</td>\n",
              "      <td>87.005938</td>\n",
              "      <td>558.899440</td>\n",
              "      <td>0.124959</td>\n",
              "      <td>0.182673</td>\n",
              "      <td>0.166238</td>\n",
              "      <td>0.074444</td>\n",
              "      <td>0.270246</td>\n",
              "      <td>0.079442</td>\n",
              "    </tr>\n",
              "  </tbody>\n",
              "</table>\n",
              "</div>"
            ],
            "text/plain": [
              "       mean radius  mean texture  ...  worst symmetry  worst fractal dimension\n",
              "class                             ...                                         \n",
              "0        17.462830     21.604906  ...        0.323468                 0.091530\n",
              "1        12.146524     17.914762  ...        0.270246                 0.079442\n",
              "\n",
              "[2 rows x 30 columns]"
            ]
          },
          "metadata": {
            "tags": []
          },
          "execution_count": 85
        }
      ]
    },
    {
      "cell_type": "markdown",
      "metadata": {
        "id": "qT870Sba-DW7",
        "colab_type": "text"
      },
      "source": [
        "## spliting data for test and train"
      ]
    },
    {
      "cell_type": "code",
      "metadata": {
        "id": "Zc4afWF39wmA",
        "colab_type": "code",
        "colab": {}
      },
      "source": [
        "from sklearn.model_selection import train_test_split"
      ],
      "execution_count": 0,
      "outputs": []
    },
    {
      "cell_type": "markdown",
      "metadata": {
        "id": "wrCAab2yDNXf",
        "colab_type": "text"
      },
      "source": [
        "### droping a column in pandas"
      ]
    },
    {
      "cell_type": "code",
      "metadata": {
        "id": "IGtIsOQ2-Wag",
        "colab_type": "code",
        "colab": {}
      },
      "source": [
        "x=data.drop('class',axis=1)       # droping the true output (y) from the data and taking the input (x)\n",
        "y=data['class']                   # taking the true output(y)"
      ],
      "execution_count": 0,
      "outputs": []
    },
    {
      "cell_type": "code",
      "metadata": {
        "id": "BBquSriT-hZI",
        "colab_type": "code",
        "outputId": "5e96428e-91b6-4671-ce60-36e207245f3f",
        "colab": {
          "base_uri": "https://localhost:8080/",
          "height": 0
        }
      },
      "source": [
        "type(x)"
      ],
      "execution_count": 88,
      "outputs": [
        {
          "output_type": "execute_result",
          "data": {
            "text/plain": [
              "pandas.core.frame.DataFrame"
            ]
          },
          "metadata": {
            "tags": []
          },
          "execution_count": 88
        }
      ]
    },
    {
      "cell_type": "code",
      "metadata": {
        "id": "L61mbhfS-juY",
        "colab_type": "code",
        "colab": {}
      },
      "source": [
        "x_train, x_test, y_train, y_test = train_test_split(x,y)   #it splits data for training and testing"
      ],
      "execution_count": 0,
      "outputs": []
    },
    {
      "cell_type": "code",
      "metadata": {
        "id": "0_GxcYQ3-tAw",
        "colab_type": "code",
        "outputId": "b9a5ee71-d553-4d40-a344-90a3984db6b7",
        "colab": {
          "base_uri": "https://localhost:8080/",
          "height": 0
        }
      },
      "source": [
        "print(x.shape, x_train.shape, x_test.shape)"
      ],
      "execution_count": 90,
      "outputs": [
        {
          "output_type": "stream",
          "text": [
            "(569, 30) (426, 30) (143, 30)\n"
          ],
          "name": "stdout"
        }
      ]
    },
    {
      "cell_type": "markdown",
      "metadata": {
        "id": "gcrjL1OkEA5r",
        "colab_type": "text"
      },
      "source": [
        "## modifing quantity of test and train data"
      ]
    },
    {
      "cell_type": "code",
      "metadata": {
        "id": "aCd73yiY-xnQ",
        "colab_type": "code",
        "colab": {}
      },
      "source": [
        "x_train, x_test, y_train, y_test = train_test_split(x,y, test_size=0.1)         # we need just 10% of data for testing and remainding for training  "
      ],
      "execution_count": 0,
      "outputs": []
    },
    {
      "cell_type": "code",
      "metadata": {
        "id": "AM8wCZgs-6NQ",
        "colab_type": "code",
        "outputId": "00200345-6743-4b68-af88-9cc0133918f4",
        "colab": {
          "base_uri": "https://localhost:8080/",
          "height": 34
        }
      },
      "source": [
        "print(x.shape, x_train.shape, x_test.shape)"
      ],
      "execution_count": 92,
      "outputs": [
        {
          "output_type": "stream",
          "text": [
            "(569, 30) (512, 30) (57, 30)\n"
          ],
          "name": "stdout"
        }
      ]
    },
    {
      "cell_type": "code",
      "metadata": {
        "id": "paGrGjXR-9E4",
        "colab_type": "code",
        "outputId": "06618d5a-8be7-4e58-ab90-0558d01ba379",
        "colab": {
          "base_uri": "https://localhost:8080/",
          "height": 34
        }
      },
      "source": [
        "print(y.shape, y_train.shape, y_test.shape)"
      ],
      "execution_count": 93,
      "outputs": [
        {
          "output_type": "stream",
          "text": [
            "(569,) (512,) (57,)\n"
          ],
          "name": "stdout"
        }
      ]
    },
    {
      "cell_type": "markdown",
      "metadata": {
        "id": "yB3Sl44DEXG7",
        "colab_type": "text"
      },
      "source": [
        "## Statistically equalising train and test data"
      ]
    },
    {
      "cell_type": "code",
      "metadata": {
        "id": "GUHPoCdg_BPQ",
        "colab_type": "code",
        "outputId": "bf92ff5d-2131-48d3-dbd8-fcf1b305fa55",
        "colab": {
          "base_uri": "https://localhost:8080/",
          "height": 34
        }
      },
      "source": [
        "print(y.mean(), y_train.mean(), y_test.mean())              # can see the train and test data are statistically different (there are more malegnant in train data than in test data) but the train and test data should be statically equal in machine learning"
      ],
      "execution_count": 94,
      "outputs": [
        {
          "output_type": "stream",
          "text": [
            "0.6274165202108963 0.623046875 0.6666666666666666\n"
          ],
          "name": "stdout"
        }
      ]
    },
    {
      "cell_type": "code",
      "metadata": {
        "id": "HYR1QhRX_Nkg",
        "colab_type": "code",
        "colab": {}
      },
      "source": [
        "x_train, x_test, y_train, y_test = train_test_split(x,y, test_size=0.1, stratify=y)  # so we statify the data with respect to y (true output)"
      ],
      "execution_count": 0,
      "outputs": []
    },
    {
      "cell_type": "code",
      "metadata": {
        "id": "0CnfcboA_ayN",
        "colab_type": "code",
        "outputId": "3dfb20eb-3c1c-48f4-cc36-1010925d451f",
        "colab": {
          "base_uri": "https://localhost:8080/",
          "height": 34
        }
      },
      "source": [
        "print(y.mean(), y_train.mean(), y_test.mean())"
      ],
      "execution_count": 96,
      "outputs": [
        {
          "output_type": "stream",
          "text": [
            "0.6274165202108963 0.626953125 0.631578947368421\n"
          ],
          "name": "stdout"
        }
      ]
    },
    {
      "cell_type": "markdown",
      "metadata": {
        "id": "qJUhtnViFkw8",
        "colab_type": "text"
      },
      "source": [
        "## recorrecting randomness in spliting\n",
        "the output after running the train_test_split will not be equal after rerunning the same code (because it randomly split the data) "
      ]
    },
    {
      "cell_type": "code",
      "metadata": {
        "id": "jSqCIL74_daU",
        "colab_type": "code",
        "outputId": "c3a62d18-d2f1-4818-e3d0-cec76c3fae2d",
        "colab": {
          "base_uri": "https://localhost:8080/",
          "height": 1000
        }
      },
      "source": [
        "print(x_train.mean(), x_test.mean(), x.mean())"
      ],
      "execution_count": 97,
      "outputs": [
        {
          "output_type": "stream",
          "text": [
            "mean radius                 14.199781\n",
            "mean texture                19.266367\n",
            "mean perimeter              92.483320\n",
            "mean area                  662.182812\n",
            "mean smoothness              0.096281\n",
            "mean compactness             0.105297\n",
            "mean concavity               0.089784\n",
            "mean concave points          0.049523\n",
            "mean symmetry                0.181231\n",
            "mean fractal dimension       0.062760\n",
            "radius error                 0.411027\n",
            "texture error                1.220205\n",
            "perimeter error              2.913632\n",
            "area error                  41.256537\n",
            "smoothness error             0.007056\n",
            "compactness error            0.025857\n",
            "concavity error              0.031938\n",
            "concave points error         0.011914\n",
            "symmetry error               0.020569\n",
            "fractal dimension error      0.003810\n",
            "worst radius                16.349951\n",
            "worst texture               25.588984\n",
            "worst perimeter            107.862637\n",
            "worst area                 890.105859\n",
            "worst smoothness             0.131964\n",
            "worst compactness            0.255548\n",
            "worst concavity              0.271598\n",
            "worst concave points         0.115114\n",
            "worst symmetry               0.289160\n",
            "worst fractal dimension      0.083787\n",
            "dtype: float64 mean radius                 13.476158\n",
            "mean texture                19.498772\n",
            "mean perimeter              87.349474\n",
            "mean area                  589.373684\n",
            "mean smoothness              0.097071\n",
            "mean compactness             0.095754\n",
            "mean concavity               0.079959\n",
            "mean concave points          0.043491\n",
            "mean symmetry                0.180544\n",
            "mean fractal dimension       0.063131\n",
            "radius error                 0.352577\n",
            "texture error                1.186747\n",
            "perimeter error              2.438737\n",
            "area error                  32.078088\n",
            "smoothness error             0.006905\n",
            "compactness error            0.022075\n",
            "concavity error              0.031498\n",
            "concave points error         0.010741\n",
            "symmetry error               0.020302\n",
            "fractal dimension error      0.003661\n",
            "worst radius                15.543754\n",
            "worst texture               26.469825\n",
            "worst perimeter            101.858947\n",
            "worst area                 795.045614\n",
            "worst smoothness             0.136004\n",
            "worst compactness            0.242738\n",
            "worst concavity              0.277489\n",
            "worst concave points         0.110045\n",
            "worst symmetry               0.298302\n",
            "worst fractal dimension      0.085371\n",
            "dtype: float64 mean radius                 14.127292\n",
            "mean texture                19.289649\n",
            "mean perimeter              91.969033\n",
            "mean area                  654.889104\n",
            "mean smoothness              0.096360\n",
            "mean compactness             0.104341\n",
            "mean concavity               0.088799\n",
            "mean concave points          0.048919\n",
            "mean symmetry                0.181162\n",
            "mean fractal dimension       0.062798\n",
            "radius error                 0.405172\n",
            "texture error                1.216853\n",
            "perimeter error              2.866059\n",
            "area error                  40.337079\n",
            "smoothness error             0.007041\n",
            "compactness error            0.025478\n",
            "concavity error              0.031894\n",
            "concave points error         0.011796\n",
            "symmetry error               0.020542\n",
            "fractal dimension error      0.003795\n",
            "worst radius                16.269190\n",
            "worst texture               25.677223\n",
            "worst perimeter            107.261213\n",
            "worst area                 880.583128\n",
            "worst smoothness             0.132369\n",
            "worst compactness            0.254265\n",
            "worst concavity              0.272188\n",
            "worst concave points         0.114606\n",
            "worst symmetry               0.290076\n",
            "worst fractal dimension      0.083946\n",
            "dtype: float64\n"
          ],
          "name": "stdout"
        }
      ]
    },
    {
      "cell_type": "code",
      "metadata": {
        "id": "YNIXD5Gw_mPX",
        "colab_type": "code",
        "colab": {}
      },
      "source": [
        "x_train, x_test, y_train, y_test = train_test_split(x,y, test_size=0.1, stratify=y)  #the output values are different after rerunning"
      ],
      "execution_count": 0,
      "outputs": []
    },
    {
      "cell_type": "code",
      "metadata": {
        "id": "y_ZMcYHqBTSP",
        "colab_type": "code",
        "outputId": "fcc4f651-fac1-4463-bdbe-d606be9c71b3",
        "colab": {
          "base_uri": "https://localhost:8080/",
          "height": 1000
        }
      },
      "source": [
        "print(x_train.mean(), x_test.mean(), x.mean())"
      ],
      "execution_count": 99,
      "outputs": [
        {
          "output_type": "stream",
          "text": [
            "mean radius                 14.125225\n",
            "mean texture                19.307168\n",
            "mean perimeter              91.967637\n",
            "mean area                  654.316211\n",
            "mean smoothness              0.096680\n",
            "mean compactness             0.104934\n",
            "mean concavity               0.089605\n",
            "mean concave points          0.049148\n",
            "mean symmetry                0.181574\n",
            "mean fractal dimension       0.062871\n",
            "radius error                 0.408510\n",
            "texture error                1.213273\n",
            "perimeter error              2.878761\n",
            "area error                  40.801393\n",
            "smoothness error             0.007052\n",
            "compactness error            0.025541\n",
            "concavity error              0.032018\n",
            "concave points error         0.011773\n",
            "symmetry error               0.020572\n",
            "fractal dimension error      0.003811\n",
            "worst radius                16.301254\n",
            "worst texture               25.697676\n",
            "worst perimeter            107.439531\n",
            "worst area                 884.067188\n",
            "worst smoothness             0.132795\n",
            "worst compactness            0.256905\n",
            "worst concavity              0.275203\n",
            "worst concave points         0.115236\n",
            "worst symmetry               0.290983\n",
            "worst fractal dimension      0.084275\n",
            "dtype: float64 mean radius                 14.145860\n",
            "mean texture                19.132281\n",
            "mean perimeter              91.981579\n",
            "mean area                  660.035088\n",
            "mean smoothness              0.093487\n",
            "mean compactness             0.099011\n",
            "mean concavity               0.081564\n",
            "mean concave points          0.046865\n",
            "mean symmetry                0.177458\n",
            "mean fractal dimension       0.062136\n",
            "radius error                 0.375193\n",
            "texture error                1.249012\n",
            "perimeter error              2.751967\n",
            "area error                  36.166404\n",
            "smoothness error             0.006943\n",
            "compactness error            0.024918\n",
            "concavity error              0.030779\n",
            "concave points error         0.012001\n",
            "symmetry error               0.020274\n",
            "fractal dimension error      0.003646\n",
            "worst radius                15.981175\n",
            "worst texture               25.493509\n",
            "worst perimeter            105.659474\n",
            "worst area                 849.287719\n",
            "worst smoothness             0.128540\n",
            "worst compactness            0.230549\n",
            "worst concavity              0.245109\n",
            "worst concave points         0.108947\n",
            "worst symmetry               0.281926\n",
            "worst fractal dimension      0.080991\n",
            "dtype: float64 mean radius                 14.127292\n",
            "mean texture                19.289649\n",
            "mean perimeter              91.969033\n",
            "mean area                  654.889104\n",
            "mean smoothness              0.096360\n",
            "mean compactness             0.104341\n",
            "mean concavity               0.088799\n",
            "mean concave points          0.048919\n",
            "mean symmetry                0.181162\n",
            "mean fractal dimension       0.062798\n",
            "radius error                 0.405172\n",
            "texture error                1.216853\n",
            "perimeter error              2.866059\n",
            "area error                  40.337079\n",
            "smoothness error             0.007041\n",
            "compactness error            0.025478\n",
            "concavity error              0.031894\n",
            "concave points error         0.011796\n",
            "symmetry error               0.020542\n",
            "fractal dimension error      0.003795\n",
            "worst radius                16.269190\n",
            "worst texture               25.677223\n",
            "worst perimeter            107.261213\n",
            "worst area                 880.583128\n",
            "worst smoothness             0.132369\n",
            "worst compactness            0.254265\n",
            "worst concavity              0.272188\n",
            "worst concave points         0.114606\n",
            "worst symmetry               0.290076\n",
            "worst fractal dimension      0.083946\n",
            "dtype: float64\n"
          ],
          "name": "stdout"
        }
      ]
    },
    {
      "cell_type": "markdown",
      "metadata": {
        "id": "iqbO3wIeGTLG",
        "colab_type": "text"
      },
      "source": [
        "in machine learning there should not be variation after rerunning the code because it affects the evaluation at each time running the model "
      ]
    },
    {
      "cell_type": "code",
      "metadata": {
        "id": "-LAceZ7cBUaf",
        "colab_type": "code",
        "colab": {}
      },
      "source": [
        "x_train, x_test, y_train, y_test = train_test_split(x,y, test_size=0.1, stratify=y, random_state=3)  #to avoid variation use random_state=some constant{it can be any integer constant}"
      ],
      "execution_count": 0,
      "outputs": []
    },
    {
      "cell_type": "code",
      "metadata": {
        "id": "3nawky6_B15j",
        "colab_type": "code",
        "outputId": "28764972-daa1-4d93-b652-15850a66312f",
        "colab": {
          "base_uri": "https://localhost:8080/",
          "height": 1000
        }
      },
      "source": [
        "print(x_train.mean(), x_test.mean(), x.mean())"
      ],
      "execution_count": 101,
      "outputs": [
        {
          "output_type": "stream",
          "text": [
            "mean radius                 14.022119\n",
            "mean texture                19.286211\n",
            "mean perimeter              91.266348\n",
            "mean area                  645.180078\n",
            "mean smoothness              0.096583\n",
            "mean compactness             0.104042\n",
            "mean concavity               0.088249\n",
            "mean concave points          0.048288\n",
            "mean symmetry                0.181552\n",
            "mean fractal dimension       0.062889\n",
            "radius error                 0.401108\n",
            "texture error                1.223169\n",
            "perimeter error              2.837574\n",
            "area error                  39.672730\n",
            "smoothness error             0.007096\n",
            "compactness error            0.025565\n",
            "concavity error              0.032191\n",
            "concave points error         0.011840\n",
            "symmetry error               0.020756\n",
            "fractal dimension error      0.003832\n",
            "worst radius                16.121150\n",
            "worst texture               25.663828\n",
            "worst perimeter            106.244395\n",
            "worst area                 863.284766\n",
            "worst smoothness             0.132500\n",
            "worst compactness            0.253774\n",
            "worst concavity              0.271522\n",
            "worst concave points         0.113878\n",
            "worst symmetry               0.290738\n",
            "worst fractal dimension      0.084095\n",
            "dtype: float64 mean radius                  15.072000\n",
            "mean texture                 19.320526\n",
            "mean perimeter               98.280877\n",
            "mean area                   742.100000\n",
            "mean smoothness               0.094356\n",
            "mean compactness              0.107030\n",
            "mean concavity                0.093742\n",
            "mean concave points           0.054589\n",
            "mean symmetry                 0.177660\n",
            "mean fractal dimension        0.061980\n",
            "radius error                  0.441679\n",
            "texture error                 1.160121\n",
            "perimeter error               3.121930\n",
            "area error                   46.304561\n",
            "smoothness error              0.006549\n",
            "compactness error             0.024694\n",
            "concavity error               0.029222\n",
            "concave points error          0.011400\n",
            "symmetry error                0.018621\n",
            "fractal dimension error       0.003465\n",
            "worst radius                 17.598947\n",
            "worst texture                25.797544\n",
            "worst perimeter             116.394737\n",
            "worst area                 1035.964912\n",
            "worst smoothness              0.131189\n",
            "worst compactness             0.258679\n",
            "worst concavity               0.278174\n",
            "worst concave points          0.121151\n",
            "worst symmetry                0.284126\n",
            "worst fractal dimension       0.082607\n",
            "dtype: float64 mean radius                 14.127292\n",
            "mean texture                19.289649\n",
            "mean perimeter              91.969033\n",
            "mean area                  654.889104\n",
            "mean smoothness              0.096360\n",
            "mean compactness             0.104341\n",
            "mean concavity               0.088799\n",
            "mean concave points          0.048919\n",
            "mean symmetry                0.181162\n",
            "mean fractal dimension       0.062798\n",
            "radius error                 0.405172\n",
            "texture error                1.216853\n",
            "perimeter error              2.866059\n",
            "area error                  40.337079\n",
            "smoothness error             0.007041\n",
            "compactness error            0.025478\n",
            "concavity error              0.031894\n",
            "concave points error         0.011796\n",
            "symmetry error               0.020542\n",
            "fractal dimension error      0.003795\n",
            "worst radius                16.269190\n",
            "worst texture               25.677223\n",
            "worst perimeter            107.261213\n",
            "worst area                 880.583128\n",
            "worst smoothness             0.132369\n",
            "worst compactness            0.254265\n",
            "worst concavity              0.272188\n",
            "worst concave points         0.114606\n",
            "worst symmetry               0.290076\n",
            "worst fractal dimension      0.083946\n",
            "dtype: float64\n"
          ],
          "name": "stdout"
        }
      ]
    },
    {
      "cell_type": "code",
      "metadata": {
        "id": "fFzFCEIeB5Q_",
        "colab_type": "code",
        "colab": {}
      },
      "source": [
        "x_train, x_test, y_train, y_test = train_test_split(x,y, test_size=0.1, stratify=y, random_state=3)  #the output remains same (even after closing the notebook and rerunning the values remains same)"
      ],
      "execution_count": 0,
      "outputs": []
    },
    {
      "cell_type": "code",
      "metadata": {
        "id": "Wg4BXXUiB-On",
        "colab_type": "code",
        "outputId": "cd1ec93f-ad55-4118-eab3-525ba1b30d36",
        "colab": {
          "base_uri": "https://localhost:8080/",
          "height": 1000
        }
      },
      "source": [
        "print(x_train.mean(), x_test.mean(), x.mean())"
      ],
      "execution_count": 103,
      "outputs": [
        {
          "output_type": "stream",
          "text": [
            "mean radius                 14.022119\n",
            "mean texture                19.286211\n",
            "mean perimeter              91.266348\n",
            "mean area                  645.180078\n",
            "mean smoothness              0.096583\n",
            "mean compactness             0.104042\n",
            "mean concavity               0.088249\n",
            "mean concave points          0.048288\n",
            "mean symmetry                0.181552\n",
            "mean fractal dimension       0.062889\n",
            "radius error                 0.401108\n",
            "texture error                1.223169\n",
            "perimeter error              2.837574\n",
            "area error                  39.672730\n",
            "smoothness error             0.007096\n",
            "compactness error            0.025565\n",
            "concavity error              0.032191\n",
            "concave points error         0.011840\n",
            "symmetry error               0.020756\n",
            "fractal dimension error      0.003832\n",
            "worst radius                16.121150\n",
            "worst texture               25.663828\n",
            "worst perimeter            106.244395\n",
            "worst area                 863.284766\n",
            "worst smoothness             0.132500\n",
            "worst compactness            0.253774\n",
            "worst concavity              0.271522\n",
            "worst concave points         0.113878\n",
            "worst symmetry               0.290738\n",
            "worst fractal dimension      0.084095\n",
            "dtype: float64 mean radius                  15.072000\n",
            "mean texture                 19.320526\n",
            "mean perimeter               98.280877\n",
            "mean area                   742.100000\n",
            "mean smoothness               0.094356\n",
            "mean compactness              0.107030\n",
            "mean concavity                0.093742\n",
            "mean concave points           0.054589\n",
            "mean symmetry                 0.177660\n",
            "mean fractal dimension        0.061980\n",
            "radius error                  0.441679\n",
            "texture error                 1.160121\n",
            "perimeter error               3.121930\n",
            "area error                   46.304561\n",
            "smoothness error              0.006549\n",
            "compactness error             0.024694\n",
            "concavity error               0.029222\n",
            "concave points error          0.011400\n",
            "symmetry error                0.018621\n",
            "fractal dimension error       0.003465\n",
            "worst radius                 17.598947\n",
            "worst texture                25.797544\n",
            "worst perimeter             116.394737\n",
            "worst area                 1035.964912\n",
            "worst smoothness              0.131189\n",
            "worst compactness             0.258679\n",
            "worst concavity               0.278174\n",
            "worst concave points          0.121151\n",
            "worst symmetry                0.284126\n",
            "worst fractal dimension       0.082607\n",
            "dtype: float64 mean radius                 14.127292\n",
            "mean texture                19.289649\n",
            "mean perimeter              91.969033\n",
            "mean area                  654.889104\n",
            "mean smoothness              0.096360\n",
            "mean compactness             0.104341\n",
            "mean concavity               0.088799\n",
            "mean concave points          0.048919\n",
            "mean symmetry                0.181162\n",
            "mean fractal dimension       0.062798\n",
            "radius error                 0.405172\n",
            "texture error                1.216853\n",
            "perimeter error              2.866059\n",
            "area error                  40.337079\n",
            "smoothness error             0.007041\n",
            "compactness error            0.025478\n",
            "concavity error              0.031894\n",
            "concave points error         0.011796\n",
            "symmetry error               0.020542\n",
            "fractal dimension error      0.003795\n",
            "worst radius                16.269190\n",
            "worst texture               25.677223\n",
            "worst perimeter            107.261213\n",
            "worst area                 880.583128\n",
            "worst smoothness             0.132369\n",
            "worst compactness            0.254265\n",
            "worst concavity              0.272188\n",
            "worst concave points         0.114606\n",
            "worst symmetry               0.290076\n",
            "worst fractal dimension      0.083946\n",
            "dtype: float64\n"
          ],
          "name": "stdout"
        }
      ]
    },
    {
      "cell_type": "markdown",
      "metadata": {
        "id": "MrHduay_IAzW",
        "colab_type": "text"
      },
      "source": [
        "# Binarisation of input"
      ]
    },
    {
      "cell_type": "code",
      "metadata": {
        "id": "vhYdFTntCAvP",
        "colab_type": "code",
        "outputId": "430fe5a7-d369-4f05-800f-ae4d119e878b",
        "colab": {
          "base_uri": "https://localhost:8080/",
          "height": 374
        }
      },
      "source": [
        "import matplotlib.pyplot as plt\n",
        "plt.plot(x_train.T,'*')\n",
        "plt.xticks(rotation='vertical')\n",
        "plt.grid()\n",
        "plt.show()\n"
      ],
      "execution_count": 104,
      "outputs": [
        {
          "output_type": "display_data",
          "data": {
            "image/png": "[encoded data removed]",
            "text/plain": [
              "<Figure size 432x288 with 1 Axes>"
            ]
          },
          "metadata": {
            "tags": [],
            "needs_background": "light"
          }
        }
      ]
    },
    {
      "cell_type": "markdown",
      "metadata": {
        "id": "2DvCIrL-LNf6",
        "colab_type": "text"
      },
      "source": [
        "some values are not in binary formate MP Neuron accepts only binary input so we need to convert them"
      ]
    },
    {
      "cell_type": "code",
      "metadata": {
        "id": "IotXNNIHIOxZ",
        "colab_type": "code",
        "colab": {}
      },
      "source": [
        "x_binarised_3_train=x_train['mean area'].map(lambda x: 0 if x< 1000 else 1)   #binarising 'mean area' column by seperating >1000 as 1 and <1000 as 0"
      ],
      "execution_count": 0,
      "outputs": []
    },
    {
      "cell_type": "code",
      "metadata": {
        "id": "HDturHO_IyqQ",
        "colab_type": "code",
        "outputId": "e47d5ff7-b00b-45f8-9da0-4f1fdc909b98",
        "colab": {
          "base_uri": "https://localhost:8080/",
          "height": 282
        }
      },
      "source": [
        "plt.plot(x_binarised_3_train,'*')"
      ],
      "execution_count": 106,
      "outputs": [
        {
          "output_type": "execute_result",
          "data": {
            "text/plain": [
              "[<matplotlib.lines.Line2D at 0x7fdf75e467b8>]"
            ]
          },
          "metadata": {
            "tags": []
          },
          "execution_count": 106
        },
        {
          "output_type": "display_data",
          "data": {
            "image/png": "[encoded data removed]",
            "text/plain": [
              "<Figure size 432x288 with 1 Axes>"
            ]
          },
          "metadata": {
            "tags": [],
            "needs_background": "light"
          }
        }
      ]
    },
    {
      "cell_type": "markdown",
      "metadata": {
        "id": "3sevDNexMOTr",
        "colab_type": "text"
      },
      "source": [
        "## binarizing all column at a single time"
      ]
    },
    {
      "cell_type": "code",
      "metadata": {
        "id": "F5NYJSSrI6h1",
        "colab_type": "code",
        "colab": {}
      },
      "source": [
        "x_binarised_train=x_train.apply(pd.cut,bins=2, labels=[0,1])  # pd.cut identy appropriate threshold and split into the bins given (2 given)"
      ],
      "execution_count": 0,
      "outputs": []
    },
    {
      "cell_type": "code",
      "metadata": {
        "id": "wFEvx8SaJNtt",
        "colab_type": "code",
        "outputId": "0574721b-ba06-487b-b57f-8c8e85656ce7",
        "colab": {
          "base_uri": "https://localhost:8080/",
          "height": 374
        }
      },
      "source": [
        "plt.plot(x_binarised_train.T,'*')\n",
        "plt.xticks(rotation='vertical')\n",
        "plt.grid()\n",
        "plt.show()"
      ],
      "execution_count": 108,
      "outputs": [
        {
          "output_type": "display_data",
          "data": {
            "image/png": "[encoded data removed]",
            "text/plain": [
              "<Figure size 432x288 with 1 Axes>"
            ]
          },
          "metadata": {
            "tags": [],
            "needs_background": "light"
          }
        }
      ]
    },
    {
      "cell_type": "code",
      "metadata": {
        "id": "BHPmftwaJa28",
        "colab_type": "code",
        "colab": {}
      },
      "source": [
        "x_binarised_test=x_test.apply(pd.cut,bins=2, labels=[0,1])"
      ],
      "execution_count": 0,
      "outputs": []
    },
    {
      "cell_type": "code",
      "metadata": {
        "id": "PpTgX6z0Jr1W",
        "colab_type": "code",
        "outputId": "efed7c91-f6fe-439d-c824-65811cf69f30",
        "colab": {
          "base_uri": "https://localhost:8080/",
          "height": 34
        }
      },
      "source": [
        "type(x_binarised_test)"
      ],
      "execution_count": 110,
      "outputs": [
        {
          "output_type": "execute_result",
          "data": {
            "text/plain": [
              "pandas.core.frame.DataFrame"
            ]
          },
          "metadata": {
            "tags": []
          },
          "execution_count": 110
        }
      ]
    },
    {
      "cell_type": "markdown",
      "metadata": {
        "id": "r3d0CAglMuOu",
        "colab_type": "text"
      },
      "source": [
        "## converting pandas dataframe into numpy array"
      ]
    },
    {
      "cell_type": "code",
      "metadata": {
        "id": "um-o96StJyrj",
        "colab_type": "code",
        "colab": {}
      },
      "source": [
        "x_binarised_test=x_binarised_test.values\n",
        "x_binarised_train=x_binarised_train.values"
      ],
      "execution_count": 0,
      "outputs": []
    },
    {
      "cell_type": "code",
      "metadata": {
        "id": "81-0YLtIJ9Ad",
        "colab_type": "code",
        "outputId": "265b6e86-3c52-40a1-a0cf-6fea434efe36",
        "colab": {
          "base_uri": "https://localhost:8080/",
          "height": 34
        }
      },
      "source": [
        "type(x_binarised_test)"
      ],
      "execution_count": 112,
      "outputs": [
        {
          "output_type": "execute_result",
          "data": {
            "text/plain": [
              "numpy.ndarray"
            ]
          },
          "metadata": {
            "tags": []
          },
          "execution_count": 112
        }
      ]
    },
    {
      "cell_type": "code",
      "metadata": {
        "id": "DyXQbSteNrOo",
        "colab_type": "code",
        "colab": {}
      },
      "source": [
        "from random import randint"
      ],
      "execution_count": 0,
      "outputs": []
    },
    {
      "cell_type": "code",
      "metadata": {
        "id": "PBQi9YMhJ_3m",
        "colab_type": "code",
        "outputId": "975b0e36-2cf3-40e8-dfec-b0c45d5b0db8",
        "colab": {
          "base_uri": "https://localhost:8080/",
          "height": 69
        }
      },
      "source": [
        "b=3\n",
        "i=randint(0, x_binarised_train.shape[0])\n",
        "print('for row ',i)\n",
        "if(np.sum(x_binarised_train[100: ])>=b):\n",
        "  print(\"MP neuron inference is malignant\")\n",
        "else:\n",
        "  print(\"MP neuron inference is benign\")\n",
        "\n",
        "if(y_train[i]==1):\n",
        "  print('Ground truth is malignant')\n",
        "else:\n",
        "  print('Ground truth is benign')"
      ],
      "execution_count": 114,
      "outputs": [
        {
          "output_type": "stream",
          "text": [
            "for row  252\n",
            "MP neuron inference is malignant\n",
            "Ground truth is benign\n"
          ],
          "name": "stdout"
        }
      ]
    },
    {
      "cell_type": "code",
      "metadata": {
        "id": "S5BnMBO0NRgt",
        "colab_type": "code",
        "outputId": "343ebaf6-348b-4771-b72d-106790c0c90f",
        "colab": {
          "base_uri": "https://localhost:8080/",
          "height": 34
        }
      },
      "source": [
        "b=3                                               #threshold =3\n",
        "y_pred_train=[]\n",
        "accurate_rows=0\n",
        "for x,y in zip(x_binarised_train,y_train):            \n",
        "  y_pred=np.sum(x)>=b                                          #sums the row elements \n",
        "  y_pred_train.append(y_pred)                                  \n",
        "  accurate_rows+=(y==y_pred)                                #if the condition is true it returns bolean which is automatically type casted into int(1)\n",
        "print('accurate_rows: ',accurate_rows,' accuracy: ',accurate_rows/x_binarised_train.shape[0])"
      ],
      "execution_count": 115,
      "outputs": [
        {
          "output_type": "stream",
          "text": [
            "accurate_rows:  77  accuracy:  0.150390625\n"
          ],
          "name": "stdout"
        }
      ]
    },
    {
      "cell_type": "code",
      "metadata": {
        "id": "A_UtLGarPHlr",
        "colab_type": "code",
        "outputId": "5b2146d6-2722-4f63-f99a-7b422d5a4ba5",
        "colab": {
          "base_uri": "https://localhost:8080/",
          "height": 553
        }
      },
      "source": [
        "for b in range(x_binarised_train.shape[1]+1):       # as the sum does not exeds the number of parameters(columns) \n",
        "  y_pred_train=[]\n",
        "  accurate_rows=0\n",
        "  for x,y in zip(x_binarised_train,y_train):\n",
        "    y_pred=np.sum(x)>=b\n",
        "    y_pred_train.append(y_pred)\n",
        "    accurate_rows+=(y==y_pred)\n",
        "  print('b: ',b,' accurate_rows: ',accurate_rows,' accuracy: ',accurate_rows/x_binarised_train.shape[0])\n"
      ],
      "execution_count": 116,
      "outputs": [
        {
          "output_type": "stream",
          "text": [
            "b:  0  accurate_rows:  321  accuracy:  0.626953125\n",
            "b:  1  accurate_rows:  132  accuracy:  0.2578125\n",
            "b:  2  accurate_rows:  93  accuracy:  0.181640625\n",
            "b:  3  accurate_rows:  77  accuracy:  0.150390625\n",
            "b:  4  accurate_rows:  75  accuracy:  0.146484375\n",
            "b:  5  accurate_rows:  90  accuracy:  0.17578125\n",
            "b:  6  accurate_rows:  107  accuracy:  0.208984375\n",
            "b:  7  accurate_rows:  125  accuracy:  0.244140625\n",
            "b:  8  accurate_rows:  141  accuracy:  0.275390625\n",
            "b:  9  accurate_rows:  151  accuracy:  0.294921875\n",
            "b:  10  accurate_rows:  161  accuracy:  0.314453125\n",
            "b:  11  accurate_rows:  169  accuracy:  0.330078125\n",
            "b:  12  accurate_rows:  173  accuracy:  0.337890625\n",
            "b:  13  accurate_rows:  176  accuracy:  0.34375\n",
            "b:  14  accurate_rows:  180  accuracy:  0.3515625\n",
            "b:  15  accurate_rows:  184  accuracy:  0.359375\n",
            "b:  16  accurate_rows:  187  accuracy:  0.365234375\n",
            "b:  17  accurate_rows:  188  accuracy:  0.3671875\n",
            "b:  18  accurate_rows:  190  accuracy:  0.37109375\n",
            "b:  19  accurate_rows:  191  accuracy:  0.373046875\n",
            "b:  20  accurate_rows:  191  accuracy:  0.373046875\n",
            "b:  21  accurate_rows:  191  accuracy:  0.373046875\n",
            "b:  22  accurate_rows:  191  accuracy:  0.373046875\n",
            "b:  23  accurate_rows:  191  accuracy:  0.373046875\n",
            "b:  24  accurate_rows:  191  accuracy:  0.373046875\n",
            "b:  25  accurate_rows:  191  accuracy:  0.373046875\n",
            "b:  26  accurate_rows:  191  accuracy:  0.373046875\n",
            "b:  27  accurate_rows:  191  accuracy:  0.373046875\n",
            "b:  28  accurate_rows:  191  accuracy:  0.373046875\n",
            "b:  29  accurate_rows:  191  accuracy:  0.373046875\n",
            "b:  30  accurate_rows:  191  accuracy:  0.373046875\n"
          ],
          "name": "stdout"
        }
      ]
    },
    {
      "cell_type": "markdown",
      "metadata": {
        "id": "3Q9f8BjNZy4j",
        "colab_type": "text"
      },
      "source": [
        "in the above cases the accuracy is more when b is 0 and the accuray drops down when we increase the value of b. \n",
        "#### why it is happening?\n",
        "because in the data frame where we found the mean for all parameters by grouping the real output, the value of grouped mean for benign (0) is higher than the value of grouped mean for malignant(1).\n",
        "#### where i done the mistake?\n",
        "in the binirisation of the values --> the pd.cut fixes the threshold at certain level. The values below the level are fixed as benign(0) and the values above the level are fixed as malignant(1) by lable[0,1] which is irrespective to the group mean values."
      ]
    },
    {
      "cell_type": "markdown",
      "metadata": {
        "id": "Xw6qUU0ydW4g",
        "colab_type": "text"
      },
      "source": [
        "### recorrecting the model"
      ]
    },
    {
      "cell_type": "code",
      "metadata": {
        "id": "MMqd2auFQ-WU",
        "colab_type": "code",
        "colab": {}
      },
      "source": [
        "x_binarised_train=x_train.apply(pd.cut,bins=2, labels=[1,0])"
      ],
      "execution_count": 0,
      "outputs": []
    },
    {
      "cell_type": "code",
      "metadata": {
        "id": "sx0jMgvGc1_Z",
        "colab_type": "code",
        "colab": {}
      },
      "source": [
        "x_binarised_test=x_test.apply(pd.cut,bins=2, labels=[1,0])"
      ],
      "execution_count": 0,
      "outputs": []
    },
    {
      "cell_type": "code",
      "metadata": {
        "id": "-pKOEFB2c2oO",
        "colab_type": "code",
        "colab": {}
      },
      "source": [
        "x_binarised_test=x_binarised_test.values\n",
        "x_binarised_train=x_binarised_train.values"
      ],
      "execution_count": 0,
      "outputs": []
    },
    {
      "cell_type": "code",
      "metadata": {
        "id": "9rqEiSQrdCP-",
        "colab_type": "code",
        "outputId": "28ba5125-8154-4f4c-e616-d22134b81b4d",
        "colab": {
          "base_uri": "https://localhost:8080/",
          "height": 553
        }
      },
      "source": [
        "for b in range(x_binarised_train.shape[1]+1):       # as the sum does not exeds the number of parameters(columns) \n",
        "  y_pred_train=[]\n",
        "  accurate_rows=0\n",
        "  for x,y in zip(x_binarised_train,y_train):\n",
        "    y_pred=np.sum(x)>=b\n",
        "    y_pred_train.append(y_pred)\n",
        "    accurate_rows+=(y==y_pred)\n",
        "  print('b: ',b,' accurate_rows: ',accurate_rows,' accuracy: ',accurate_rows/x_binarised_train.shape[0])\n"
      ],
      "execution_count": 120,
      "outputs": [
        {
          "output_type": "stream",
          "text": [
            "b:  0  accurate_rows:  321  accuracy:  0.626953125\n",
            "b:  1  accurate_rows:  321  accuracy:  0.626953125\n",
            "b:  2  accurate_rows:  321  accuracy:  0.626953125\n",
            "b:  3  accurate_rows:  321  accuracy:  0.626953125\n",
            "b:  4  accurate_rows:  321  accuracy:  0.626953125\n",
            "b:  5  accurate_rows:  321  accuracy:  0.626953125\n",
            "b:  6  accurate_rows:  321  accuracy:  0.626953125\n",
            "b:  7  accurate_rows:  321  accuracy:  0.626953125\n",
            "b:  8  accurate_rows:  321  accuracy:  0.626953125\n",
            "b:  9  accurate_rows:  321  accuracy:  0.626953125\n",
            "b:  10  accurate_rows:  321  accuracy:  0.626953125\n",
            "b:  11  accurate_rows:  321  accuracy:  0.626953125\n",
            "b:  12  accurate_rows:  321  accuracy:  0.626953125\n",
            "b:  13  accurate_rows:  322  accuracy:  0.62890625\n",
            "b:  14  accurate_rows:  324  accuracy:  0.6328125\n",
            "b:  15  accurate_rows:  325  accuracy:  0.634765625\n",
            "b:  16  accurate_rows:  328  accuracy:  0.640625\n",
            "b:  17  accurate_rows:  332  accuracy:  0.6484375\n",
            "b:  18  accurate_rows:  336  accuracy:  0.65625\n",
            "b:  19  accurate_rows:  339  accuracy:  0.662109375\n",
            "b:  20  accurate_rows:  343  accuracy:  0.669921875\n",
            "b:  21  accurate_rows:  351  accuracy:  0.685546875\n",
            "b:  22  accurate_rows:  361  accuracy:  0.705078125\n",
            "b:  23  accurate_rows:  371  accuracy:  0.724609375\n",
            "b:  24  accurate_rows:  387  accuracy:  0.755859375\n",
            "b:  25  accurate_rows:  405  accuracy:  0.791015625\n",
            "b:  26  accurate_rows:  422  accuracy:  0.82421875\n",
            "b:  27  accurate_rows:  437  accuracy:  0.853515625\n",
            "b:  28  accurate_rows:  435  accuracy:  0.849609375\n",
            "b:  29  accurate_rows:  419  accuracy:  0.818359375\n",
            "b:  30  accurate_rows:  380  accuracy:  0.7421875\n"
          ],
          "name": "stdout"
        }
      ]
    },
    {
      "cell_type": "markdown",
      "metadata": {
        "id": "OQKgO3mKdcl9",
        "colab_type": "text"
      },
      "source": [
        "#### the above results show more accuracy \n",
        "we can find the maximum accuracy at b(threshold) vlue = 27\n",
        "# so the wright way of binirising plays a crusial role in accuracy"
      ]
    },
    {
      "cell_type": "markdown",
      "metadata": {
        "id": "y2grI7WVgMTm",
        "colab_type": "text"
      },
      "source": [
        "# testing the model"
      ]
    },
    {
      "cell_type": "code",
      "metadata": {
        "id": "H1g-YuPXYpA1",
        "colab_type": "code",
        "colab": {}
      },
      "source": [
        "from sklearn.metrics import accuracy_score"
      ],
      "execution_count": 0,
      "outputs": []
    },
    {
      "cell_type": "code",
      "metadata": {
        "id": "2hW53w43dIW-",
        "colab_type": "code",
        "colab": {
          "base_uri": "https://localhost:8080/",
          "height": 34
        },
        "outputId": "daa238c1-08f9-4a50-c2a2-50530ac133ea"
      },
      "source": [
        "b=27\n",
        "y_pred_test=[]\n",
        "accurate_rows=0\n",
        "for x in x_binarised_test:                          # taking the range for test data size\n",
        "  y_pred=(np.sum(x)>=b)\n",
        "  y_pred_test.append(y_pred)\n",
        "accuracy=accuracy_score(y_pred_test,y_test)        #using sklearn for accyracy of predicted y and the true test y\n",
        "print(\"b:\",b,\" accuracy:\",accuracy)"
      ],
      "execution_count": 125,
      "outputs": [
        {
          "output_type": "stream",
          "text": [
            "b: 27  accuracy: 0.8070175438596491\n"
          ],
          "name": "stdout"
        }
      ]
    },
    {
      "cell_type": "markdown",
      "metadata": {
        "id": "x799UP47jRcB",
        "colab_type": "text"
      },
      "source": [
        "# MP Neuron using class"
      ]
    },
    {
      "cell_type": "code",
      "metadata": {
        "id": "ec9IY-StjQh_",
        "colab_type": "code",
        "colab": {}
      },
      "source": [
        "class MPNeuron:\n",
        "  def __init__(self):\n",
        "    self.b=None\n",
        "  def model(self,x):                                  # MP NN model\n",
        "    return(sum(x)>=self.b)                              #returns 1 if the condition is true\n",
        "  def predict(self,x):                                # MP NN algorithm\n",
        "    y=[]\n",
        "    for i in x:\n",
        "      result=self.model(i)\n",
        "      y.append(result)\n",
        "    return np.array(y)\n",
        "  def fit(self,x,y):                                   # MP NN learining section\n",
        "    accuracy={}                                          #dictionary to hold b value and accuracy \n",
        "    for b in range(x.shape[1]+1):\n",
        "      self.b=b                                           #taking self.b=b to use in predict(x)\n",
        "      y_pred=self.predict(x)\n",
        "      accuracy[b]=accuracy_score(y_pred,y)               #finding the accuracy using sklearn \n",
        "    best_b=max(accuracy,key=accuracy.get)                #geting the key corresponding to maximum value\n",
        "    self.b=best_b                                        #updating b with best value of b             \n",
        "    print('optimal value of b is', best_b)\n",
        "    print('Highest acuracy is',accuracy[best_b])"
      ],
      "execution_count": 0,
      "outputs": []
    },
    {
      "cell_type": "code",
      "metadata": {
        "id": "elFve4jcklny",
        "colab_type": "code",
        "colab": {
          "base_uri": "https://localhost:8080/",
          "height": 52
        },
        "outputId": "0044b18e-25ee-43d8-deb0-a9ff8ea7aca7"
      },
      "source": [
        "mp_neuron=MPNeuron()            # creating object for class\n",
        "mp_neuron.fit(x_binarised_train, y_train)  # learining with test data and finding best b value"
      ],
      "execution_count": 127,
      "outputs": [
        {
          "output_type": "stream",
          "text": [
            "optimal value of b is 27\n",
            "Highest acuracy is 0.853515625\n"
          ],
          "name": "stdout"
        }
      ]
    },
    {
      "cell_type": "code",
      "metadata": {
        "id": "J4U8wnFTkxlT",
        "colab_type": "code",
        "colab": {}
      },
      "source": [
        "#the b value is updated with best b value with train data\n",
        "y_test_pred=mp_neuron.predict(x_binarised_test)     # testing the model with test data \n",
        "accuracy_test=accuracy_score(y_test_pred,y_test)     # finding accuracy here to not to disturb best b value which is found using train data"
      ],
      "execution_count": 0,
      "outputs": []
    },
    {
      "cell_type": "code",
      "metadata": {
        "id": "H5I8zg81lGnU",
        "colab_type": "code",
        "colab": {
          "base_uri": "https://localhost:8080/",
          "height": 34
        },
        "outputId": "67c39ed4-666a-4ac2-acc4-970d5ea2de77"
      },
      "source": [
        "print(accuracy_test)"
      ],
      "execution_count": 129,
      "outputs": [
        {
          "output_type": "stream",
          "text": [
            "0.8070175438596491\n"
          ],
          "name": "stdout"
        }
      ]
    },
    {
      "cell_type": "code",
      "metadata": {
        "id": "7gK84lVOlJSU",
        "colab_type": "code",
        "colab": {}
      },
      "source": [
        ""
      ],
      "execution_count": 0,
      "outputs": []
    }
  ]
}