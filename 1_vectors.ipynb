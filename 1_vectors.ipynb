{
  "nbformat": 4,
  "nbformat_minor": 0,
  "metadata": {
    "colab": {
      "name": "1_vectors.ipynb",
      "provenance": []
    },
    "kernelspec": {
      "name": "python3",
      "display_name": "Python 3"
    }
  },
  "cells": [
    {
      "cell_type": "code",
      "metadata": {
        "id": "0j1Vo9M-R_Gu",
        "colab_type": "code",
        "colab": {}
      },
      "source": [
        "import numpy as np\n",
        "import matplotlib.pyplot as plt"
      ],
      "execution_count": 0,
      "outputs": []
    },
    {
      "cell_type": "code",
      "metadata": {
        "id": "wTI05endSVOb",
        "colab_type": "code",
        "outputId": "53ca7a80-49a3-459d-939d-7ef95e917a53",
        "colab": {
          "base_uri": "https://localhost:8080/",
          "height": 265
        }
      },
      "source": [
        "plt.quiver(0,0,3,4)   #this plots a vector going from 0,0 to 3,4  (it is a two dim. vector) (scaling will be in 0.0i)\n",
        "plt.grid()\n",
        "plt.show()"
      ],
      "execution_count": 0,
      "outputs": [
        {
          "output_type": "display_data",
          "data": {
            "image/png": "[encoded data removed]",
            "text/plain": [
              "<Figure size 432x288 with 1 Axes>"
            ]
          },
          "metadata": {
            "tags": [],
            "needs_background": "light"
          }
        }
      ]
    },
    {
      "cell_type": "markdown",
      "metadata": {
        "id": "LdApYtJsUAhX",
        "colab_type": "text"
      },
      "source": [
        "## Scaling the plot"
      ]
    },
    {
      "cell_type": "code",
      "metadata": {
        "id": "AECoYygYScjB",
        "colab_type": "code",
        "outputId": "08116f5c-bf50-4c1b-a62d-6e8185f321e6",
        "colab": {
          "base_uri": "https://localhost:8080/",
          "height": 265
        }
      },
      "source": [
        "plt.quiver(0,0,3,4, scale_units='xy', angles='xy', scale=1)\n",
        "plt.grid()\n",
        "plt.show()"
      ],
      "execution_count": 0,
      "outputs": [
        {
          "output_type": "display_data",
          "data": {
            "image/png": "[encoded data removed]",
            "text/plain": [
              "<Figure size 432x288 with 1 Axes>"
            ]
          },
          "metadata": {
            "tags": [],
            "needs_background": "light"
          }
        }
      ]
    },
    {
      "cell_type": "markdown",
      "metadata": {
        "id": "YkOnij82T3dS",
        "colab_type": "text"
      },
      "source": [
        "## limiting x and y axis size"
      ]
    },
    {
      "cell_type": "code",
      "metadata": {
        "id": "LobvX-vrTXJ-",
        "colab_type": "code",
        "outputId": "6a1c52b2-399e-4777-cfae-4293a6ce716d",
        "colab": {
          "base_uri": "https://localhost:8080/",
          "height": 269
        }
      },
      "source": [
        "plt.quiver(0,0,3,4, scale_units='xy', angles='xy', scale=1)\n",
        "plt.xlim(-10,10)\n",
        "plt.ylim(-10,10)\n",
        "plt.grid()\n",
        "plt.show()"
      ],
      "execution_count": 0,
      "outputs": [
        {
          "output_type": "display_data",
          "data": {
            "image/png": "[encoded data removed]",
            "text/plain": [
              "<Figure size 432x288 with 1 Axes>"
            ]
          },
          "metadata": {
            "tags": [],
            "needs_background": "light"
          }
        }
      ]
    },
    {
      "cell_type": "markdown",
      "metadata": {
        "id": "IEpj4aoiUiAk",
        "colab_type": "text"
      },
      "source": [
        "## plotting two vectors"
      ]
    },
    {
      "cell_type": "code",
      "metadata": {
        "id": "-Q5v_fqoTtcp",
        "colab_type": "code",
        "outputId": "f2cc12c8-8126-48d7-f66a-85d93d0bd7bf",
        "colab": {
          "base_uri": "https://localhost:8080/",
          "height": 269
        }
      },
      "source": [
        "plt.quiver(0,0,3,4, scale_units='xy', angles='xy', scale=1,color='r')\n",
        "plt.quiver(0,0,-3,4, scale_units='xy', angles='xy', scale=1, color='b')\n",
        "plt.xlim(-10,10)\n",
        "plt.ylim(-10,10)\n",
        "plt.grid()\n",
        "plt.show()"
      ],
      "execution_count": 0,
      "outputs": [
        {
          "output_type": "display_data",
          "data": {
            "image/png": "[encoded data removed]",
            "text/plain": [
              "<Figure size 432x288 with 1 Axes>"
            ]
          },
          "metadata": {
            "tags": [],
            "needs_background": "light"
          }
        }
      ]
    },
    {
      "cell_type": "markdown",
      "metadata": {
        "id": "JpIJqRMfXA-R",
        "colab_type": "text"
      },
      "source": [
        "## ploting multiple vectors with a function"
      ]
    },
    {
      "cell_type": "code",
      "metadata": {
        "id": "H7Z-d_fVUkxC",
        "colab_type": "code",
        "colab": {}
      },
      "source": [
        "def plt_vt(lis):\n",
        "  col=['r','b','g','y']\n",
        "  i=0\n",
        "  for vec in lis:\n",
        "    plt.quiver(vec[0],vec[1],vec[2],vec[3], scale_units='xy', angles='xy', scale=1, color=col[i])\n",
        "    i+=1\n",
        "  plt.xlim(-10,10) \n",
        "  plt.ylim(-10,10)\n",
        "  plt.grid()\n",
        "  plt.show()  "
      ],
      "execution_count": 0,
      "outputs": []
    },
    {
      "cell_type": "code",
      "metadata": {
        "id": "1-1MWHM3WFFl",
        "colab_type": "code",
        "outputId": "35dbd513-9c15-402b-d1c2-dcc1d4fb4912",
        "colab": {
          "base_uri": "https://localhost:8080/",
          "height": 269
        }
      },
      "source": [
        "plt_vt([(0,0,3,3)])"
      ],
      "execution_count": 0,
      "outputs": [
        {
          "output_type": "display_data",
          "data": {
            "image/png": "[encoded data removed]",
            "text/plain": [
              "<Figure size 432x288 with 1 Axes>"
            ]
          },
          "metadata": {
            "tags": [],
            "needs_background": "light"
          }
        }
      ]
    },
    {
      "cell_type": "code",
      "metadata": {
        "id": "hJrF1bwAWQ-Z",
        "colab_type": "code",
        "outputId": "cabd45f7-902a-45c8-86e1-74f18c41beb8",
        "colab": {
          "base_uri": "https://localhost:8080/",
          "height": 269
        }
      },
      "source": [
        "plt_vt([(0,0,3,3),(0,0,-4,4),(0,0,-2,-3),(0,0,3,-4)])"
      ],
      "execution_count": 0,
      "outputs": [
        {
          "output_type": "display_data",
          "data": {
            "image/png": "[encoded data removed]",
            "text/plain": [
              "<Figure size 432x288 with 1 Axes>"
            ]
          },
          "metadata": {
            "tags": [],
            "needs_background": "light"
          }
        }
      ]
    },
    {
      "cell_type": "markdown",
      "metadata": {
        "id": "gvmb4FVmZJfz",
        "colab_type": "text"
      },
      "source": [
        ""
      ]
    },
    {
      "cell_type": "code",
      "metadata": {
        "id": "VHVAiD2rW-Cx",
        "colab_type": "code",
        "colab": {}
      },
      "source": [
        "vec=[(0,0,3,3),(0,0,-4,4),(0,0,-2,-3),(0,0,3,-4)]"
      ],
      "execution_count": 0,
      "outputs": []
    },
    {
      "cell_type": "code",
      "metadata": {
        "id": "Lfh2wiQbZblG",
        "colab_type": "code",
        "outputId": "3faaeb48-82bd-4d17-bf10-16fa00f0ed40",
        "colab": {
          "base_uri": "https://localhost:8080/",
          "height": 269
        }
      },
      "source": [
        "plt_vt([vec[0],vec[1]])"
      ],
      "execution_count": 0,
      "outputs": [
        {
          "output_type": "display_data",
          "data": {
            "image/png": "[encoded data removed]",
            "text/plain": [
              "<Figure size 432x288 with 1 Axes>"
            ]
          },
          "metadata": {
            "tags": [],
            "needs_background": "light"
          }
        }
      ]
    },
    {
      "cell_type": "code",
      "metadata": {
        "id": "yMEohQVzZjM1",
        "colab_type": "code",
        "outputId": "9d48ee96-393f-491c-8f2d-5b61ac4e5cdd",
        "colab": {
          "base_uri": "https://localhost:8080/",
          "height": 269
        }
      },
      "source": [
        "plt_vt([vec[3],vec[2]])"
      ],
      "execution_count": 0,
      "outputs": [
        {
          "output_type": "display_data",
          "data": {
            "image/png": "[encoded data removed]",
            "text/plain": [
              "<Figure size 432x288 with 1 Axes>"
            ]
          },
          "metadata": {
            "tags": [],
            "needs_background": "light"
          }
        }
      ]
    },
    {
      "cell_type": "code",
      "metadata": {
        "id": "SqVzOSw3Z2xP",
        "colab_type": "code",
        "outputId": "09e28f64-7181-4ef1-b058-a87e276a32c0",
        "colab": {
          "base_uri": "https://localhost:8080/",
          "height": 34
        }
      },
      "source": [
        "vec[0]+vec[1]           # it just con catinate operation because it is a tuple"
      ],
      "execution_count": 0,
      "outputs": [
        {
          "output_type": "execute_result",
          "data": {
            "text/plain": [
              "(0, 0, 3, 3, 0, 0, -4, 4)"
            ]
          },
          "metadata": {
            "tags": []
          },
          "execution_count": 11
        }
      ]
    },
    {
      "cell_type": "markdown",
      "metadata": {
        "id": "ei2h8z0UdHEm",
        "colab_type": "text"
      },
      "source": [
        "so convert the vecotrs in numpy format"
      ]
    },
    {
      "cell_type": "code",
      "metadata": {
        "id": "5k17oRkdZ80f",
        "colab_type": "code",
        "colab": {}
      },
      "source": [
        "vec=[np.asarray([0,0,3,3]),np.asarray([0,0,-4,4]),np.asarray([0,0,-2,-3]),np.asarray([0,0,3,-4])]"
      ],
      "execution_count": 0,
      "outputs": []
    },
    {
      "cell_type": "code",
      "metadata": {
        "id": "14cn-IT111go",
        "colab_type": "code",
        "outputId": "18e1c54f-be41-4757-87a1-2a893b2fb63c",
        "colab": {
          "base_uri": "https://localhost:8080/",
          "height": 269
        }
      },
      "source": [
        "plt_vt([vec[0],vec[3]])                             "
      ],
      "execution_count": 0,
      "outputs": [
        {
          "output_type": "display_data",
          "data": {
            "image/png": "[encoded data removed]",
            "text/plain": [
              "<Figure size 432x288 with 1 Axes>"
            ]
          },
          "metadata": {
            "tags": [],
            "needs_background": "light"
          }
        }
      ]
    },
    {
      "cell_type": "code",
      "metadata": {
        "id": "lcUV7HFl16EN",
        "colab_type": "code",
        "outputId": "538096b1-950f-4114-8717-13666257b7df",
        "colab": {
          "base_uri": "https://localhost:8080/",
          "height": 34
        }
      },
      "source": [
        "vec[0]+vec[3]            #it does the point wise addition "
      ],
      "execution_count": 0,
      "outputs": [
        {
          "output_type": "execute_result",
          "data": {
            "text/plain": [
              "array([ 0,  0,  6, -1])"
            ]
          },
          "metadata": {
            "tags": []
          },
          "execution_count": 19
        }
      ]
    },
    {
      "cell_type": "markdown",
      "metadata": {
        "id": "QAMnt9p13qHo",
        "colab_type": "text"
      },
      "source": [
        "## plotting vector sum"
      ]
    },
    {
      "cell_type": "code",
      "metadata": {
        "id": "6NgmBCmS3Uj5",
        "colab_type": "code",
        "outputId": "1b38a672-f888-446e-c64a-d9662a4e2068",
        "colab": {
          "base_uri": "https://localhost:8080/",
          "height": 269
        }
      },
      "source": [
        "plt_vt([vec[0],vec[3],vec[0]+vec[3]])"
      ],
      "execution_count": 0,
      "outputs": [
        {
          "output_type": "display_data",
          "data": {
            "image/png": "[encoded data removed]",
            "text/plain": [
              "<Figure size 432x288 with 1 Axes>"
            ]
          },
          "metadata": {
            "tags": [],
            "needs_background": "light"
          }
        }
      ]
    },
    {
      "cell_type": "code",
      "metadata": {
        "id": "JzqLg1b53med",
        "colab_type": "code",
        "outputId": "6b21efa8-a395-4678-c198-da82255775ca",
        "colab": {
          "base_uri": "https://localhost:8080/",
          "height": 269
        }
      },
      "source": [
        "plt_vt([vec[0],vec[1],vec[0]+vec[1]])"
      ],
      "execution_count": 0,
      "outputs": [
        {
          "output_type": "display_data",
          "data": {
            "image/png": "[encoded data removed]",
            "text/plain": [
              "<Figure size 432x288 with 1 Axes>"
            ]
          },
          "metadata": {
            "tags": [],
            "needs_background": "light"
          }
        }
      ]
    },
    {
      "cell_type": "code",
      "metadata": {
        "id": "HHrcyU_h31X9",
        "colab_type": "code",
        "outputId": "4da9907d-244b-4c50-e07f-d9af8c8c12be",
        "colab": {
          "base_uri": "https://localhost:8080/",
          "height": 269
        }
      },
      "source": [
        "plt_vt([vec[0],vec[0],vec[0]+vec[0]])"
      ],
      "execution_count": 0,
      "outputs": [
        {
          "output_type": "display_data",
          "data": {
            "image/png": "[encoded data removed]",
            "text/plain": [
              "<Figure size 432x288 with 1 Axes>"
            ]
          },
          "metadata": {
            "tags": [],
            "needs_background": "light"
          }
        }
      ]
    },
    {
      "cell_type": "markdown",
      "metadata": {
        "id": "wNZWZSLF4PxY",
        "colab_type": "text"
      },
      "source": [
        "## plotting vector difference"
      ]
    },
    {
      "cell_type": "code",
      "metadata": {
        "id": "FBupC42S4LdN",
        "colab_type": "code",
        "outputId": "82cedb64-9c51-451c-86fc-0295e8dd169d",
        "colab": {
          "base_uri": "https://localhost:8080/",
          "height": 269
        }
      },
      "source": [
        "plt_vt([vec[0],-vec[1],vec[0]+(-vec[1])])"
      ],
      "execution_count": 0,
      "outputs": [
        {
          "output_type": "display_data",
          "data": {
            "image/png": "[encoded data removed]",
            "text/plain": [
              "<Figure size 432x288 with 1 Axes>"
            ]
          },
          "metadata": {
            "tags": [],
            "needs_background": "light"
          }
        }
      ]
    },
    {
      "cell_type": "code",
      "metadata": {
        "id": "vQj1Ytxm4WVE",
        "colab_type": "code",
        "outputId": "d18b6880-2070-420f-f7f4-1d48a475a723",
        "colab": {
          "base_uri": "https://localhost:8080/",
          "height": 269
        }
      },
      "source": [
        "plt_vt([-vec[0],vec[2],(-vec[0])+vec[2]])"
      ],
      "execution_count": 0,
      "outputs": [
        {
          "output_type": "display_data",
          "data": {
            "image/png": "[encoded data removed]",
            "text/plain": [
              "<Figure size 432x288 with 1 Axes>"
            ]
          },
          "metadata": {
            "tags": [],
            "needs_background": "light"
          }
        }
      ]
    },
    {
      "cell_type": "markdown",
      "metadata": {
        "id": "lqnRb7mq9xIx",
        "colab_type": "text"
      },
      "source": [
        "## Dot product"
      ]
    },
    {
      "cell_type": "code",
      "metadata": {
        "id": "6Sz7wEW-4z7F",
        "colab_type": "code",
        "colab": {}
      },
      "source": [
        "vec=[np.asarray([0,0,3,4]),np.asarray([0,0,-3,4]),np.asarray([0,0,-3,-2]),np.asarray([0,0,4,-1])]"
      ],
      "execution_count": 0,
      "outputs": []
    },
    {
      "cell_type": "code",
      "metadata": {
        "id": "cQz7Yieb-Sut",
        "colab_type": "code",
        "outputId": "b5fac37f-a989-49bd-ad46-af4e2ee82969",
        "colab": {
          "base_uri": "https://localhost:8080/",
          "height": 269
        }
      },
      "source": [
        "plt_vt(vec)"
      ],
      "execution_count": 0,
      "outputs": [
        {
          "output_type": "display_data",
          "data": {
            "image/png": "[encoded data removed]",
            "text/plain": [
              "<Figure size 432x288 with 1 Axes>"
            ]
          },
          "metadata": {
            "tags": [],
            "needs_background": "light"
          }
        }
      ]
    },
    {
      "cell_type": "code",
      "metadata": {
        "id": "hhKOY6Pp-fhE",
        "colab_type": "code",
        "colab": {}
      },
      "source": [
        "a=np.asarray([3,4])               #take only the destination (ending point of the vector) to find dot product\n",
        "b=np.asarray([4,-1]) "
      ],
      "execution_count": 0,
      "outputs": []
    },
    {
      "cell_type": "markdown",
      "metadata": {
        "id": "kqGckWIP-5Jj",
        "colab_type": "text"
      },
      "source": [
        "**dot product formula**\n",
        "\n",
        "$ \\vec{a}\\cdot\\vec{b}=|\\vec{a}||\\vec{b}|\\cos(\\theta)=a_xb_x+a_yb_y $"
      ]
    },
    {
      "cell_type": "code",
      "metadata": {
        "id": "kH_G9irN-pKr",
        "colab_type": "code",
        "colab": {}
      },
      "source": [
        "a_dot_b=np.dot(a,b)"
      ],
      "execution_count": 0,
      "outputs": []
    },
    {
      "cell_type": "code",
      "metadata": {
        "id": "5iYuCnFt_m-u",
        "colab_type": "code",
        "outputId": "7b41bbf0-5317-455e-bf53-56c10460740c",
        "colab": {
          "base_uri": "https://localhost:8080/",
          "height": 34
        }
      },
      "source": [
        "print(a_dot_b)"
      ],
      "execution_count": 0,
      "outputs": [
        {
          "output_type": "stream",
          "text": [
            "8\n"
          ],
          "name": "stdout"
        }
      ]
    },
    {
      "cell_type": "markdown",
      "metadata": {
        "id": "E0npGenm_5SI",
        "colab_type": "text"
      },
      "source": [
        "**Projection of a on b**\n",
        "\n",
        "$ a_b = |\\vec{a}|\\cos(\\theta)=|\\vec{a}|\\frac{\\vec{a}\\cdot\\vec{b}}{|\\vec{a}||\\vec{b}|} = \\frac{\\vec{a}\\cdot\\vec{b}}{|\\vec{b}|} $"
      ]
    },
    {
      "cell_type": "code",
      "metadata": {
        "id": "IS0eTnAN_1gr",
        "colab_type": "code",
        "colab": {}
      },
      "source": [
        "a_b=np.dot(a,b)/np.linalg.norm(b)"
      ],
      "execution_count": 0,
      "outputs": []
    },
    {
      "cell_type": "code",
      "metadata": {
        "id": "_PzvAyQxBjsA",
        "colab_type": "code",
        "outputId": "358afe9f-f1be-421f-815d-6982d7916b61",
        "colab": {
          "base_uri": "https://localhost:8080/",
          "height": 34
        }
      },
      "source": [
        "print(a_b)        #it gives only the magnitute to find the direction find the unit vector (here we should find the unit vector of b)"
      ],
      "execution_count": 0,
      "outputs": [
        {
          "output_type": "stream",
          "text": [
            "1.9402850002906638\n"
          ],
          "name": "stdout"
        }
      ]
    },
    {
      "cell_type": "markdown",
      "metadata": {
        "id": "qrXj9d9kB0xH",
        "colab_type": "text"
      },
      "source": [
        "**Unit vector formula**\n",
        "\n",
        "$\\vec{a_b}=a_b\\hat{b}=a_b\\frac{\\vec{b}}{|\\vec{b}|} $"
      ]
    },
    {
      "cell_type": "code",
      "metadata": {
        "id": "iNkfGvezBlA6",
        "colab_type": "code",
        "outputId": "24cba8e6-e435-410c-e885-c8b8f2bad996",
        "colab": {
          "base_uri": "https://localhost:8080/",
          "height": 34
        }
      },
      "source": [
        "vec_a_b=(a_b/np.linalg.norm(b))*b\n",
        "print(vec_a_b)"
      ],
      "execution_count": 0,
      "outputs": [
        {
          "output_type": "stream",
          "text": [
            "[ 1.88235294 -0.47058824]\n"
          ],
          "name": "stdout"
        }
      ]
    },
    {
      "cell_type": "markdown",
      "metadata": {
        "id": "Ofk3NEDPDFfR",
        "colab_type": "text"
      },
      "source": [
        "## plotting projection of a on b"
      ]
    },
    {
      "cell_type": "code",
      "metadata": {
        "id": "20J2AXpgCjgu",
        "colab_type": "code",
        "outputId": "de7c0bea-8966-46e5-e1c1-ded363682e23",
        "colab": {
          "base_uri": "https://localhost:8080/",
          "height": 269
        }
      },
      "source": [
        "plt_vt([np.asarray([0,0,3,4]),np.asarray([0,0,4,-1]),np.asarray([0,0,1.88235294,-0.47058824])])"
      ],
      "execution_count": 0,
      "outputs": [
        {
          "output_type": "display_data",
          "data": {
            "image/png": "[encoded data removed]",
            "text/plain": [
              "<Figure size 432x288 with 1 Axes>"
            ]
          },
          "metadata": {
            "tags": [],
            "needs_background": "light"
          }
        }
      ]
    },
    {
      "cell_type": "code",
      "metadata": {
        "id": "BeTxRv8nDDEH",
        "colab_type": "code",
        "colab": {}
      },
      "source": [
        ""
      ],
      "execution_count": 0,
      "outputs": []
    }
  ]
}