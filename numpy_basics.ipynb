{
  "nbformat": 4,
  "nbformat_minor": 0,
  "metadata": {
    "colab": {
      "name": "simple_python.ipynb",
      "provenance": []
    },
    "kernelspec": {
      "name": "python3",
      "display_name": "Python 3"
    }
  },
  "cells": [
    {
      "cell_type": "markdown",
      "metadata": {
        "id": "C6Gs1JhvEzfU",
        "colab_type": "text"
      },
      "source": [
        "# Numpy"
      ]
    },
    {
      "cell_type": "code",
      "metadata": {
        "id": "iionyCs3Q3Sj",
        "colab_type": "code",
        "colab": {}
      },
      "source": [
        "import numpy as np"
      ],
      "execution_count": 0,
      "outputs": []
    },
    {
      "cell_type": "code",
      "metadata": {
        "id": "aO0aotM6Q7Nq",
        "colab_type": "code",
        "colab": {
          "base_uri": "https://localhost:8080/",
          "height": 34
        },
        "outputId": "c35a6f43-7f9d-433f-afd3-aaa477595f90"
      },
      "source": [
        "x=np.array([1,2,3])\n",
        "print(x)"
      ],
      "execution_count": 7,
      "outputs": [
        {
          "output_type": "stream",
          "text": [
            "[1 2 3]\n"
          ],
          "name": "stdout"
        }
      ]
    },
    {
      "cell_type": "code",
      "metadata": {
        "id": "cZUFGJMoRAEC",
        "colab_type": "code",
        "colab": {
          "base_uri": "https://localhost:8080/",
          "height": 34
        },
        "outputId": "a63be954-8334-40c5-fcbb-bcf0d19aadbe"
      },
      "source": [
        "type(x)"
      ],
      "execution_count": 8,
      "outputs": [
        {
          "output_type": "execute_result",
          "data": {
            "text/plain": [
              "numpy.ndarray"
            ]
          },
          "metadata": {
            "tags": []
          },
          "execution_count": 8
        }
      ]
    },
    {
      "cell_type": "markdown",
      "metadata": {
        "id": "jbh6lWRrRVOp",
        "colab_type": "text"
      },
      "source": [
        "## converting list to array"
      ]
    },
    {
      "cell_type": "code",
      "metadata": {
        "id": "Di4z81NiRC4S",
        "colab_type": "code",
        "colab": {}
      },
      "source": [
        "lis=[1,2,3]\n",
        "x=np.asarray(lis)\n"
      ],
      "execution_count": 0,
      "outputs": []
    },
    {
      "cell_type": "code",
      "metadata": {
        "id": "FJzLKd4cRno6",
        "colab_type": "code",
        "colab": {
          "base_uri": "https://localhost:8080/",
          "height": 34
        },
        "outputId": "e925d75f-01b8-41ba-8389-e5a52b3203c1"
      },
      "source": [
        "print(type(x))"
      ],
      "execution_count": 10,
      "outputs": [
        {
          "output_type": "stream",
          "text": [
            "<class 'numpy.ndarray'>\n"
          ],
          "name": "stdout"
        }
      ]
    },
    {
      "cell_type": "code",
      "metadata": {
        "id": "rzqqCb9DRqr5",
        "colab_type": "code",
        "colab": {
          "base_uri": "https://localhost:8080/",
          "height": 34
        },
        "outputId": "50e9d7ad-3dd6-469e-8920-5a1280cdc650"
      },
      "source": [
        "lis=[4,5,6]\n",
        "x=np.asarray(lis,float)\n",
        "print(x)"
      ],
      "execution_count": 11,
      "outputs": [
        {
          "output_type": "stream",
          "text": [
            "[4. 5. 6.]\n"
          ],
          "name": "stdout"
        }
      ]
    },
    {
      "cell_type": "markdown",
      "metadata": {
        "id": "YOObjEbmR-V6",
        "colab_type": "text"
      },
      "source": [
        "## shape of array"
      ]
    },
    {
      "cell_type": "code",
      "metadata": {
        "id": "N2IOO1KnR3DZ",
        "colab_type": "code",
        "colab": {
          "base_uri": "https://localhost:8080/",
          "height": 34
        },
        "outputId": "7f653be6-3cec-454b-915b-8442e3e0a2c1"
      },
      "source": [
        "x.shape"
      ],
      "execution_count": 12,
      "outputs": [
        {
          "output_type": "execute_result",
          "data": {
            "text/plain": [
              "(3,)"
            ]
          },
          "metadata": {
            "tags": []
          },
          "execution_count": 12
        }
      ]
    },
    {
      "cell_type": "code",
      "metadata": {
        "id": "rMk7BPMsSH4x",
        "colab_type": "code",
        "colab": {
          "base_uri": "https://localhost:8080/",
          "height": 34
        },
        "outputId": "33e93f29-3d95-40b1-d606-ac1d13a17c15"
      },
      "source": [
        "np.shape(x)"
      ],
      "execution_count": 13,
      "outputs": [
        {
          "output_type": "execute_result",
          "data": {
            "text/plain": [
              "(3,)"
            ]
          },
          "metadata": {
            "tags": []
          },
          "execution_count": 13
        }
      ]
    },
    {
      "cell_type": "code",
      "metadata": {
        "id": "uwUSGyrKSJeh",
        "colab_type": "code",
        "colab": {
          "base_uri": "https://localhost:8080/",
          "height": 50
        },
        "outputId": "805a6f9d-a32e-42d9-a32b-3866e58f2a64"
      },
      "source": [
        "x=np.array([[1,2,3],[4,5,6]])\n",
        "print(x)"
      ],
      "execution_count": 14,
      "outputs": [
        {
          "output_type": "stream",
          "text": [
            "[[1 2 3]\n",
            " [4 5 6]]\n"
          ],
          "name": "stdout"
        }
      ]
    },
    {
      "cell_type": "code",
      "metadata": {
        "id": "duqrM4DvSRxR",
        "colab_type": "code",
        "colab": {
          "base_uri": "https://localhost:8080/",
          "height": 34
        },
        "outputId": "aed6731f-e66d-4324-fcb9-11ed70b4f75a"
      },
      "source": [
        "x.shape"
      ],
      "execution_count": 15,
      "outputs": [
        {
          "output_type": "execute_result",
          "data": {
            "text/plain": [
              "(2, 3)"
            ]
          },
          "metadata": {
            "tags": []
          },
          "execution_count": 15
        }
      ]
    },
    {
      "cell_type": "markdown",
      "metadata": {
        "id": "7RXRp0OcSfjE",
        "colab_type": "text"
      },
      "source": [
        "## indexing"
      ]
    },
    {
      "cell_type": "code",
      "metadata": {
        "id": "PW2Sj0jvSTyF",
        "colab_type": "code",
        "colab": {
          "base_uri": "https://localhost:8080/",
          "height": 34
        },
        "outputId": "49582123-40ea-4e85-c34b-96673a8699b7"
      },
      "source": [
        "x[0,0]"
      ],
      "execution_count": 16,
      "outputs": [
        {
          "output_type": "execute_result",
          "data": {
            "text/plain": [
              "1"
            ]
          },
          "metadata": {
            "tags": []
          },
          "execution_count": 16
        }
      ]
    },
    {
      "cell_type": "code",
      "metadata": {
        "id": "2-pA91Q0SkPx",
        "colab_type": "code",
        "colab": {
          "base_uri": "https://localhost:8080/",
          "height": 34
        },
        "outputId": "d3b8931c-47d7-42a6-8c6b-ba4d9307d8bf"
      },
      "source": [
        "x[0,0:2]"
      ],
      "execution_count": 17,
      "outputs": [
        {
          "output_type": "execute_result",
          "data": {
            "text/plain": [
              "array([1, 2])"
            ]
          },
          "metadata": {
            "tags": []
          },
          "execution_count": 17
        }
      ]
    },
    {
      "cell_type": "code",
      "metadata": {
        "id": "PEYI151MSna5",
        "colab_type": "code",
        "colab": {
          "base_uri": "https://localhost:8080/",
          "height": 34
        },
        "outputId": "20d888b8-d996-4008-c75f-e205d7a26cf9"
      },
      "source": [
        "x[0,:]"
      ],
      "execution_count": 18,
      "outputs": [
        {
          "output_type": "execute_result",
          "data": {
            "text/plain": [
              "array([1, 2, 3])"
            ]
          },
          "metadata": {
            "tags": []
          },
          "execution_count": 18
        }
      ]
    },
    {
      "cell_type": "markdown",
      "metadata": {
        "id": "2bZ8bY5gS7lC",
        "colab_type": "text"
      },
      "source": [
        "## Arrays of zeros"
      ]
    },
    {
      "cell_type": "code",
      "metadata": {
        "id": "aBgpOMezSrrZ",
        "colab_type": "code",
        "colab": {
          "base_uri": "https://localhost:8080/",
          "height": 84
        },
        "outputId": "173027e3-9110-4d77-8721-55b119550902"
      },
      "source": [
        "np.zeros((4,5))"
      ],
      "execution_count": 19,
      "outputs": [
        {
          "output_type": "execute_result",
          "data": {
            "text/plain": [
              "array([[0., 0., 0., 0., 0.],\n",
              "       [0., 0., 0., 0., 0.],\n",
              "       [0., 0., 0., 0., 0.],\n",
              "       [0., 0., 0., 0., 0.]])"
            ]
          },
          "metadata": {
            "tags": []
          },
          "execution_count": 19
        }
      ]
    },
    {
      "cell_type": "markdown",
      "metadata": {
        "id": "v18jOn2ITQh_",
        "colab_type": "text"
      },
      "source": [
        "## Identity matrix"
      ]
    },
    {
      "cell_type": "code",
      "metadata": {
        "id": "0LgUwpaaS53x",
        "colab_type": "code",
        "colab": {}
      },
      "source": [
        "x=np.eye(4,4)"
      ],
      "execution_count": 0,
      "outputs": []
    },
    {
      "cell_type": "code",
      "metadata": {
        "id": "sWOZJDHtTImJ",
        "colab_type": "code",
        "colab": {
          "base_uri": "https://localhost:8080/",
          "height": 84
        },
        "outputId": "bdc5e905-84d7-4158-dac4-9d734e38503c"
      },
      "source": [
        "print(x)"
      ],
      "execution_count": 23,
      "outputs": [
        {
          "output_type": "stream",
          "text": [
            "[[1. 0. 0. 0.]\n",
            " [0. 1. 0. 0.]\n",
            " [0. 0. 1. 0.]\n",
            " [0. 0. 0. 1.]]\n"
          ],
          "name": "stdout"
        }
      ]
    },
    {
      "cell_type": "markdown",
      "metadata": {
        "id": "p8wxHSxqUL_q",
        "colab_type": "text"
      },
      "source": [
        "## array of normally distributed random numbers betweeen 0 and 1 "
      ]
    },
    {
      "cell_type": "code",
      "metadata": {
        "id": "Y9LWTvsTTJhh",
        "colab_type": "code",
        "colab": {}
      },
      "source": [
        "x=np.random.random((4,5))                 # normally distributed between 0 and 1"
      ],
      "execution_count": 0,
      "outputs": []
    },
    {
      "cell_type": "code",
      "metadata": {
        "id": "vNodr83QTZMJ",
        "colab_type": "code",
        "colab": {
          "base_uri": "https://localhost:8080/",
          "height": 84
        },
        "outputId": "9275896d-0380-4957-dd6a-22015b481e98"
      },
      "source": [
        "print(x)"
      ],
      "execution_count": 25,
      "outputs": [
        {
          "output_type": "stream",
          "text": [
            "[[0.80641173 0.44986954 0.21200965 0.08622818 0.0042898 ]\n",
            " [0.78595722 0.22698122 0.59719226 0.38048673 0.51065472]\n",
            " [0.97072175 0.38375467 0.07988278 0.94777498 0.60190165]\n",
            " [0.73058435 0.96068411 0.76633909 0.08551491 0.69367049]]\n"
          ],
          "name": "stdout"
        }
      ]
    },
    {
      "cell_type": "markdown",
      "metadata": {
        "id": "0gLSkM1xUepZ",
        "colab_type": "text"
      },
      "source": [
        "## transpose of array"
      ]
    },
    {
      "cell_type": "code",
      "metadata": {
        "id": "V-92okvlTbXp",
        "colab_type": "code",
        "colab": {}
      },
      "source": [
        "z=x.T"
      ],
      "execution_count": 0,
      "outputs": []
    },
    {
      "cell_type": "code",
      "metadata": {
        "id": "Y23arhj2Uany",
        "colab_type": "code",
        "colab": {
          "base_uri": "https://localhost:8080/",
          "height": 101
        },
        "outputId": "bc37e2e8-a96a-47cc-8421-e2b63e7c39ca"
      },
      "source": [
        "print(z)"
      ],
      "execution_count": 29,
      "outputs": [
        {
          "output_type": "stream",
          "text": [
            "[[0.64219898 0.48704235 0.40394745 0.47833912]\n",
            " [0.8313756  0.27947616 0.41160918 0.50386386]\n",
            " [0.75772485 0.06461279 0.79789137 0.90397668]\n",
            " [0.92681937 0.62335043 0.67826068 0.17545202]\n",
            " [0.37101043 0.8206383  0.99305634 0.80884042]]\n"
          ],
          "name": "stdout"
        }
      ]
    },
    {
      "cell_type": "markdown",
      "metadata": {
        "id": "6HhsFumYUoP5",
        "colab_type": "text"
      },
      "source": [
        "## reshaping array"
      ]
    },
    {
      "cell_type": "code",
      "metadata": {
        "id": "ssDSkXzxUd6Q",
        "colab_type": "code",
        "colab": {}
      },
      "source": [
        "y=x.reshape(20,1)"
      ],
      "execution_count": 0,
      "outputs": []
    },
    {
      "cell_type": "code",
      "metadata": {
        "id": "G_qbsm8pUnLY",
        "colab_type": "code",
        "colab": {
          "base_uri": "https://localhost:8080/",
          "height": 353
        },
        "outputId": "41e52624-792d-4b2b-c311-e0f7d19cd372"
      },
      "source": [
        "print(y)"
      ],
      "execution_count": 31,
      "outputs": [
        {
          "output_type": "stream",
          "text": [
            "[[0.64219898]\n",
            " [0.8313756 ]\n",
            " [0.75772485]\n",
            " [0.92681937]\n",
            " [0.37101043]\n",
            " [0.48704235]\n",
            " [0.27947616]\n",
            " [0.06461279]\n",
            " [0.62335043]\n",
            " [0.8206383 ]\n",
            " [0.40394745]\n",
            " [0.41160918]\n",
            " [0.79789137]\n",
            " [0.67826068]\n",
            " [0.99305634]\n",
            " [0.47833912]\n",
            " [0.50386386]\n",
            " [0.90397668]\n",
            " [0.17545202]\n",
            " [0.80884042]]\n"
          ],
          "name": "stdout"
        }
      ]
    },
    {
      "cell_type": "markdown",
      "metadata": {
        "id": "Uk7Wp3ixU3w9",
        "colab_type": "text"
      },
      "source": [
        "## createing array with range of elements"
      ]
    },
    {
      "cell_type": "code",
      "metadata": {
        "id": "tKLCRlGWUstQ",
        "colab_type": "code",
        "colab": {
          "base_uri": "https://localhost:8080/",
          "height": 34
        },
        "outputId": "c6c05e7c-7606-4332-e18f-6b11863687bd"
      },
      "source": [
        "a=np.arange(5)\n",
        "print(a)"
      ],
      "execution_count": 32,
      "outputs": [
        {
          "output_type": "stream",
          "text": [
            "[0 1 2 3 4]\n"
          ],
          "name": "stdout"
        }
      ]
    },
    {
      "cell_type": "code",
      "metadata": {
        "id": "bdS-nLr8UzkA",
        "colab_type": "code",
        "colab": {}
      },
      "source": [
        "b=np.arange(5)"
      ],
      "execution_count": 0,
      "outputs": []
    },
    {
      "cell_type": "code",
      "metadata": {
        "id": "mSBD4glFU9EY",
        "colab_type": "code",
        "colab": {
          "base_uri": "https://localhost:8080/",
          "height": 34
        },
        "outputId": "a36ba87a-0927-4dd4-e1bb-3d229225a781"
      },
      "source": [
        "c=a+b\n",
        "d=a-b\n",
        "e=a*b\n",
        "print(c,d,e)"
      ],
      "execution_count": 35,
      "outputs": [
        {
          "output_type": "stream",
          "text": [
            "[0 2 4 6 8] [0 0 0 0 0] [ 0  1  4  9 16]\n"
          ],
          "name": "stdout"
        }
      ]
    },
    {
      "cell_type": "markdown",
      "metadata": {
        "id": "DmQOFe63VK31",
        "colab_type": "text"
      },
      "source": [
        "## all scalar operation will be broadcasted"
      ]
    },
    {
      "cell_type": "code",
      "metadata": {
        "id": "kmwKkM_8VDnZ",
        "colab_type": "code",
        "colab": {
          "base_uri": "https://localhost:8080/",
          "height": 84
        },
        "outputId": "7df5e5cb-8238-44ea-f53b-765e7e2cf531"
      },
      "source": [
        "a=np.random.random((2,3))\n",
        "print(a)\n",
        "print(a+1)               # adding a scalar"
      ],
      "execution_count": 36,
      "outputs": [
        {
          "output_type": "stream",
          "text": [
            "[[0.81717708 0.31894282 0.27017524]\n",
            " [0.39438566 0.48405631 0.07067884]]\n",
            "[[1.81717708 1.31894282 1.27017524]\n",
            " [1.39438566 1.48405631 1.07067884]]\n"
          ],
          "name": "stdout"
        }
      ]
    },
    {
      "cell_type": "markdown",
      "metadata": {
        "id": "paUDHBeOV4q8",
        "colab_type": "text"
      },
      "source": [
        "## converting floor(integer) of random array"
      ]
    },
    {
      "cell_type": "code",
      "metadata": {
        "id": "gXGgokyMVcyR",
        "colab_type": "code",
        "colab": {
          "base_uri": "https://localhost:8080/",
          "height": 50
        },
        "outputId": "77c52168-ae8f-48a9-e793-13bb1692dd06"
      },
      "source": [
        "a=np.floor(np.random.random((2,3))*10)\n",
        "print(a)"
      ],
      "execution_count": 38,
      "outputs": [
        {
          "output_type": "stream",
          "text": [
            "[[8. 2. 6.]\n",
            " [2. 6. 7.]]\n"
          ],
          "name": "stdout"
        }
      ]
    },
    {
      "cell_type": "markdown",
      "metadata": {
        "id": "XxHt0WkeXK67",
        "colab_type": "text"
      },
      "source": [
        "## inner and outer product"
      ]
    },
    {
      "cell_type": "code",
      "metadata": {
        "id": "qpim-nAPVpi6",
        "colab_type": "code",
        "colab": {
          "base_uri": "https://localhost:8080/",
          "height": 34
        },
        "outputId": "82e6b6c6-e101-405b-9227-eea316a95c3f"
      },
      "source": [
        "u=[1,2,3]\n",
        "v=[-1,0,1]\n",
        "pl=np.inner(u,v)             # inner product   multiply each element of vector and ading them\n",
        "print(pl)"
      ],
      "execution_count": 40,
      "outputs": [
        {
          "output_type": "stream",
          "text": [
            "2\n"
          ],
          "name": "stdout"
        }
      ]
    },
    {
      "cell_type": "code",
      "metadata": {
        "id": "jww74wIwWbQn",
        "colab_type": "code",
        "colab": {
          "base_uri": "https://localhost:8080/",
          "height": 67
        },
        "outputId": "5908757d-881e-4114-b1ec-0ef97b05486e"
      },
      "source": [
        "p2=np.outer(u,v)             # outer product   multiply each values of one vector to every values of other vector\n",
        "print(p2)                                "
      ],
      "execution_count": 41,
      "outputs": [
        {
          "output_type": "stream",
          "text": [
            "[[-1  0  1]\n",
            " [-2  0  2]\n",
            " [-3  0  3]]\n"
          ],
          "name": "stdout"
        }
      ]
    },
    {
      "cell_type": "markdown",
      "metadata": {
        "id": "Ua_CmMHzXwDY",
        "colab_type": "text"
      },
      "source": [
        "## dot product"
      ]
    },
    {
      "cell_type": "code",
      "metadata": {
        "id": "Nm5_bFkOXJRZ",
        "colab_type": "code",
        "colab": {
          "base_uri": "https://localhost:8080/",
          "height": 50
        },
        "outputId": "e5938f3a-3dcc-4736-e126-b194d7de5512"
      },
      "source": [
        "a=np.ones((2,3))\n",
        "b=np.ones((3,2))\n",
        "np.dot(a,b)"
      ],
      "execution_count": 44,
      "outputs": [
        {
          "output_type": "execute_result",
          "data": {
            "text/plain": [
              "array([[3., 3.],\n",
              "       [3., 3.]])"
            ]
          },
          "metadata": {
            "tags": []
          },
          "execution_count": 44
        }
      ]
    },
    {
      "cell_type": "code",
      "metadata": {
        "id": "FJPm-sBwXZA7",
        "colab_type": "code",
        "colab": {
          "base_uri": "https://localhost:8080/",
          "height": 50
        },
        "outputId": "5208bdfa-3c35-499c-af6d-7f260fedc0d4"
      },
      "source": [
        "np.dot(b.T,a.T)"
      ],
      "execution_count": 45,
      "outputs": [
        {
          "output_type": "execute_result",
          "data": {
            "text/plain": [
              "array([[3., 3.],\n",
              "       [3., 3.]])"
            ]
          },
          "metadata": {
            "tags": []
          },
          "execution_count": 45
        }
      ]
    },
    {
      "cell_type": "markdown",
      "metadata": {
        "id": "oFD_xOcVX0g4",
        "colab_type": "text"
      },
      "source": [
        "## sum of numbers in each columns and each row"
      ]
    },
    {
      "cell_type": "code",
      "metadata": {
        "id": "cm5pNOVsXmr4",
        "colab_type": "code",
        "colab": {}
      },
      "source": [
        "a=np.ones((2,3))"
      ],
      "execution_count": 0,
      "outputs": []
    },
    {
      "cell_type": "code",
      "metadata": {
        "id": "A6U1KnI_X9tX",
        "colab_type": "code",
        "colab": {
          "base_uri": "https://localhost:8080/",
          "height": 50
        },
        "outputId": "0c97237a-86a2-4862-eaee-926c12b22115"
      },
      "source": [
        "print(a)"
      ],
      "execution_count": 47,
      "outputs": [
        {
          "output_type": "stream",
          "text": [
            "[[1. 1. 1.]\n",
            " [1. 1. 1.]]\n"
          ],
          "name": "stdout"
        }
      ]
    },
    {
      "cell_type": "code",
      "metadata": {
        "id": "rIbUBtLDX-pA",
        "colab_type": "code",
        "colab": {
          "base_uri": "https://localhost:8080/",
          "height": 34
        },
        "outputId": "6a1f8645-4188-4d9d-8769-5a3b5177dcec"
      },
      "source": [
        "np.sum(a,axis=0)                      #column sum"
      ],
      "execution_count": 48,
      "outputs": [
        {
          "output_type": "execute_result",
          "data": {
            "text/plain": [
              "array([2., 2., 2.])"
            ]
          },
          "metadata": {
            "tags": []
          },
          "execution_count": 48
        }
      ]
    },
    {
      "cell_type": "code",
      "metadata": {
        "id": "LuiLG6GrYDlg",
        "colab_type": "code",
        "colab": {
          "base_uri": "https://localhost:8080/",
          "height": 34
        },
        "outputId": "eed8620c-05e0-4eaf-c93a-940707a66998"
      },
      "source": [
        "np.sum(a,axis=1)                      #row sum"
      ],
      "execution_count": 49,
      "outputs": [
        {
          "output_type": "execute_result",
          "data": {
            "text/plain": [
              "array([3., 3.])"
            ]
          },
          "metadata": {
            "tags": []
          },
          "execution_count": 49
        }
      ]
    },
    {
      "cell_type": "code",
      "metadata": {
        "id": "D8EC4LNlYHxS",
        "colab_type": "code",
        "colab": {}
      },
      "source": [
        ""
      ],
      "execution_count": 0,
      "outputs": []
    }
  ]
}